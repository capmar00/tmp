{
  "nbformat": 4,
  "nbformat_minor": 0,
  "metadata": {
    "colab": {
      "provenance": [],
      "collapsed_sections": [
        "n-Q9SlAhqJ3C",
        "MtPAyXqfZCfA",
        "wPdDXnQAtZJm",
        "O_tDQ6sXrq0o",
        "V5XK7jDMVrni",
        "1rzys3aKgKSn",
        "J-qxsSMaWg15",
        "ybJ9WgZtpOKh",
        "zKVFFPHrbi1G",
        "8EGq4DEupUwJ",
        "nA8QRLEisTiL",
        "_b7b4QKqUr4i",
        "bhZyGHq5QsiR",
        "kmithU-2spiS",
        "NHsbBOUQHArj",
        "Mz-BPd3qwG5P",
        "qWOKf7ZUmMYx",
        "5P7fEXDYwugv",
        "fN-LWsVkkP5-",
        "JHi5chkaxYv6",
        "KGZ2rlA2Up-Y",
        "SkWH0B1rnQ0s",
        "gHmgXhSOm8hz",
        "4H4VhpKgwksN",
        "xqqRW97Mnhr7",
        "jB8kGH4jw65a",
        "oB7CZQJioBN-",
        "DgcJ_XcjeKoq",
        "ktgb0rU-AtK-",
        "Isu6qp9A6gIs",
        "g7zZhgCg7Clu",
        "myZVac372ZSq",
        "x0ByBJ4v2gdG",
        "C5rSwZ0m8Txp",
        "N5R6NHwwbcxJ",
        "S5hISnImEDCC",
        "hsFwHOIBcnFu",
        "IK0atSJy3huH",
        "vZMJK3yJ3lcR",
        "TXByrhRrhXfm",
        "oh_AVJFHir8p",
        "oy2NC_314tk0",
        "hLS0szsCtcML",
        "6q2QILks5N31",
        "2AziZm9_waCn",
        "-CGOsfqH51do",
        "6lwL0IZT5-Wc",
        "KdAE5rcO565H",
        "GSPZDoEL6CmM"
      ],
      "include_colab_link": true
    },
    "kernelspec": {
      "display_name": "Python 3",
      "name": "python3"
    },
    "language_info": {
      "name": "python"
    }
  },
  "cells": [
    {
      "cell_type": "markdown",
      "metadata": {
        "id": "view-in-github",
        "colab_type": "text"
      },
      "source": [
        "<a href=\"https://colab.research.google.com/github/capmar00/tmp/blob/main/Copy_of_04_Notebook_Data_Explo_Hands_on_SALVA_COPIA_IN_LOCALE.ipynb\" target=\"_parent\"><img src=\"https://colab.research.google.com/assets/colab-badge.svg\" alt=\"Open In Colab\"/></a>"
      ]
    },
    {
      "cell_type": "markdown",
      "metadata": {
        "id": "D3OrFtil6m6F"
      },
      "source": [
        "# [HANDS-ON]: BigMart Sales Data\n",
        "- [Caricamento dei dati](#download)\n",
        "- [Checkpoint 1 [Esplorazione dati]](#eda)\n",
        "- [Checkpoint 2 [Preparazione dati]](#cleaning)\n",
        "\n",
        "![bigmart](https://www.analyticsvidhya.com/wp-content/uploads/2016/02/Comp-4.jpg)\n",
        "\n",
        "\n",
        "Descrizione ufficiale del dataset\n",
        "\n",
        ">I data scientist di BigMart hanno raccolto i dati sulle vendite del 2013 per 1559 prodotti in 10 negozi in diverse città. Inoltre, sono stati definiti alcuni attributi di ciascun prodotto e negozio. L'obiettivo finale è costruire un modello predittivo e scoprire le vendite di ciascun prodotto in un determinato negozio. Utilizzando questo modello, BigMart cercherà di comprendere le proprietà di prodotti e negozi che svolgono un ruolo chiave nell'aumento delle vendite. **Ma prima è necessario controllare se i dati sono pronti per essere utilizzati dal modello...!**\n",
        "\n",
        "\n",
        "\n",
        "Ecco l'elenco delle variabili che prenderemo in considerazione:\n",
        "\n",
        "- `Item_Identifier`\tUnique product ID\n",
        "- `Item_Weight`\tWeight of product\n",
        "- `Item_Fat_Content`\tChecks the Concentration of fat in the product\n",
        "- `Item_Visibility`\tThe % of total display area of all similar products in a store\n",
        "- `Item_Type`\tProduct Category\n",
        "- `Item_MRP`\tMaximum Retail Price for a Product\n",
        "- `Outlet_Identifier`\tUnique Store ID\n",
        "- `Outlet_Establishment_Year`\tThe year in which store was established\n",
        "- `Outlet_Size`\tThe size of the store (Area Size Category)\n",
        "- `Outlet_Location_Type`\tIn Terms of city Tiers (Size)\n",
        "- `Outlet_Type`\tGrocery store or a type of supermarket\n",
        "- `Item_Outlet_Sales`\tSales of the product In the Specific outlet\n",
        "\n",
        "Credits to: https://www.kaggle.com/datasets/brijbhushannanda1979/bigmart-sales-data"
      ]
    },
    {
      "cell_type": "markdown",
      "metadata": {
        "id": "WhG71j7y0G8z"
      },
      "source": [
        "<a name=\"download\"></a>\n",
        "## 1. Caricamento dei dati"
      ]
    },
    {
      "cell_type": "code",
      "metadata": {
        "colab": {
          "base_uri": "https://localhost:8080/"
        },
        "id": "uN9oTvmb7pXy",
        "outputId": "e07dfe30-50b5-412d-f732-3c39d2a0c856"
      },
      "source": [
        "!wget https://raw.githubusercontent.com/akki8087/Big-Mart-Sales/master/Train.csv"
      ],
      "execution_count": null,
      "outputs": [
        {
          "output_type": "stream",
          "name": "stdout",
          "text": [
            "--2024-09-10 07:33:58--  https://raw.githubusercontent.com/akki8087/Big-Mart-Sales/master/Train.csv\n",
            "Resolving raw.githubusercontent.com (raw.githubusercontent.com)... 185.199.110.133, 185.199.108.133, 185.199.109.133, ...\n",
            "Connecting to raw.githubusercontent.com (raw.githubusercontent.com)|185.199.110.133|:443... connected.\n",
            "HTTP request sent, awaiting response... 200 OK\n",
            "Length: 861013 (841K) [text/plain]\n",
            "Saving to: ‘Train.csv’\n",
            "\n",
            "Train.csv           100%[===================>] 840.83K  --.-KB/s    in 0.05s   \n",
            "\n",
            "2024-09-10 07:33:59 (15.5 MB/s) - ‘Train.csv’ saved [861013/861013]\n",
            "\n"
          ]
        }
      ]
    },
    {
      "cell_type": "markdown",
      "source": [
        "##### Carichiamo le librerie che andremo ad utilizzare in questo tutorial"
      ],
      "metadata": {
        "id": "n-Q9SlAhqJ3C"
      }
    },
    {
      "cell_type": "code",
      "metadata": {
        "id": "TgqADUkuo_dZ"
      },
      "source": [
        "import pandas as pd # la libreria principe per la gestione dei dati in Python\n",
        "import seaborn as sns # libreria per le visualizzazioni\n",
        "import plotly.express as px # libreria per visualizzazioni interattive\n",
        "import matplotlib.pyplot as plt # altra libreria per le visualizzazioni\n",
        "\n",
        "from pprint import pprint # comando per \"abbellire\" i messaggi a terminale"
      ],
      "execution_count": null,
      "outputs": []
    },
    {
      "cell_type": "markdown",
      "metadata": {
        "id": "Ok3e3ml6SgPs"
      },
      "source": [
        "##### Carichiamo in memoria il file `Train.csv`"
      ]
    },
    {
      "cell_type": "code",
      "metadata": {
        "id": "dSSClv0F7rqI"
      },
      "source": [
        "df = pd.read_csv('Train.csv')"
      ],
      "execution_count": null,
      "outputs": []
    },
    {
      "cell_type": "markdown",
      "source": [
        "##### [Esercizio] Di quante righe e colonne è composto il datataset df?"
      ],
      "metadata": {
        "id": "b5belr_5dIzo"
      }
    },
    {
      "cell_type": "code",
      "source": [
        "# inserisci il tuo codice qui\n"
      ],
      "metadata": {
        "id": "KPdztN0adEUY"
      },
      "execution_count": null,
      "outputs": []
    },
    {
      "cell_type": "markdown",
      "source": [
        "> Risposta attesa:\n",
        "\n",
        "`8523 righe, 12 colonne`"
      ],
      "metadata": {
        "id": "n2j6TJEod7X1"
      }
    },
    {
      "cell_type": "markdown",
      "source": [
        "###### Risposta corretta:"
      ],
      "metadata": {
        "id": "MtPAyXqfZCfA"
      }
    },
    {
      "cell_type": "code",
      "source": [
        "df.shape"
      ],
      "metadata": {
        "colab": {
          "base_uri": "https://localhost:8080/"
        },
        "id": "ZAUvq_WoY2sY",
        "outputId": "90a1a6a0-b195-4eca-f536-bbe95a43b0e2"
      },
      "execution_count": null,
      "outputs": [
        {
          "output_type": "execute_result",
          "data": {
            "text/plain": [
              "(8523, 12)"
            ]
          },
          "metadata": {},
          "execution_count": 6
        }
      ]
    },
    {
      "cell_type": "markdown",
      "metadata": {
        "id": "wPdDXnQAtZJm"
      },
      "source": [
        "<a name=\"eda\"></a>\n",
        "## 2. EDA (Exploratory Data Analysis)"
      ]
    },
    {
      "cell_type": "markdown",
      "source": [
        "Iniziamo ad esplore il dataset!"
      ],
      "metadata": {
        "id": "bWkzwuwkrnsM"
      }
    },
    {
      "cell_type": "markdown",
      "source": [
        "##### Per prima cosa visualizziamo le prime 5 righe del dataset"
      ],
      "metadata": {
        "id": "O_tDQ6sXrq0o"
      }
    },
    {
      "cell_type": "code",
      "metadata": {
        "id": "hSxFGHs0TPAh",
        "colab": {
          "base_uri": "https://localhost:8080/"
        },
        "outputId": "502ee0d4-351e-4755-d4fb-5de415789444"
      },
      "source": [
        "df.head()"
      ],
      "execution_count": null,
      "outputs": [
        {
          "output_type": "execute_result",
          "data": {
            "text/plain": [
              "  Item_Identifier  Item_Weight Item_Fat_Content  Item_Visibility  \\\n",
              "0           FDA15         9.30          Low Fat         0.016047   \n",
              "1           DRC01         5.92          Regular         0.019278   \n",
              "2           FDN15        17.50          Low Fat         0.016760   \n",
              "3           FDX07        19.20          Regular         0.000000   \n",
              "4           NCD19         8.93          Low Fat         0.000000   \n",
              "\n",
              "               Item_Type  Item_MRP Outlet_Identifier  \\\n",
              "0                  Dairy  249.8092            OUT049   \n",
              "1            Soft Drinks   48.2692            OUT018   \n",
              "2                   Meat  141.6180            OUT049   \n",
              "3  Fruits and Vegetables  182.0950            OUT010   \n",
              "4              Household   53.8614            OUT013   \n",
              "\n",
              "   Outlet_Establishment_Year Outlet_Size Outlet_Location_Type  \\\n",
              "0                       1999      Medium               Tier 1   \n",
              "1                       2009      Medium               Tier 3   \n",
              "2                       1999      Medium               Tier 1   \n",
              "3                       1998         NaN               Tier 3   \n",
              "4                       1987        High               Tier 3   \n",
              "\n",
              "         Outlet_Type  Item_Outlet_Sales  \n",
              "0  Supermarket Type1          3735.1380  \n",
              "1  Supermarket Type2           443.4228  \n",
              "2  Supermarket Type1          2097.2700  \n",
              "3      Grocery Store           732.3800  \n",
              "4  Supermarket Type1           994.7052  "
            ],
            "text/html": [
              "\n",
              "  <div id=\"df-58b6f2a2-544d-4ee3-a503-08b3784b9d25\" class=\"colab-df-container\">\n",
              "    <div>\n",
              "<style scoped>\n",
              "    .dataframe tbody tr th:only-of-type {\n",
              "        vertical-align: middle;\n",
              "    }\n",
              "\n",
              "    .dataframe tbody tr th {\n",
              "        vertical-align: top;\n",
              "    }\n",
              "\n",
              "    .dataframe thead th {\n",
              "        text-align: right;\n",
              "    }\n",
              "</style>\n",
              "<table border=\"1\" class=\"dataframe\">\n",
              "  <thead>\n",
              "    <tr style=\"text-align: right;\">\n",
              "      <th></th>\n",
              "      <th>Item_Identifier</th>\n",
              "      <th>Item_Weight</th>\n",
              "      <th>Item_Fat_Content</th>\n",
              "      <th>Item_Visibility</th>\n",
              "      <th>Item_Type</th>\n",
              "      <th>Item_MRP</th>\n",
              "      <th>Outlet_Identifier</th>\n",
              "      <th>Outlet_Establishment_Year</th>\n",
              "      <th>Outlet_Size</th>\n",
              "      <th>Outlet_Location_Type</th>\n",
              "      <th>Outlet_Type</th>\n",
              "      <th>Item_Outlet_Sales</th>\n",
              "    </tr>\n",
              "  </thead>\n",
              "  <tbody>\n",
              "    <tr>\n",
              "      <th>0</th>\n",
              "      <td>FDA15</td>\n",
              "      <td>9.30</td>\n",
              "      <td>Low Fat</td>\n",
              "      <td>0.016047</td>\n",
              "      <td>Dairy</td>\n",
              "      <td>249.8092</td>\n",
              "      <td>OUT049</td>\n",
              "      <td>1999</td>\n",
              "      <td>Medium</td>\n",
              "      <td>Tier 1</td>\n",
              "      <td>Supermarket Type1</td>\n",
              "      <td>3735.1380</td>\n",
              "    </tr>\n",
              "    <tr>\n",
              "      <th>1</th>\n",
              "      <td>DRC01</td>\n",
              "      <td>5.92</td>\n",
              "      <td>Regular</td>\n",
              "      <td>0.019278</td>\n",
              "      <td>Soft Drinks</td>\n",
              "      <td>48.2692</td>\n",
              "      <td>OUT018</td>\n",
              "      <td>2009</td>\n",
              "      <td>Medium</td>\n",
              "      <td>Tier 3</td>\n",
              "      <td>Supermarket Type2</td>\n",
              "      <td>443.4228</td>\n",
              "    </tr>\n",
              "    <tr>\n",
              "      <th>2</th>\n",
              "      <td>FDN15</td>\n",
              "      <td>17.50</td>\n",
              "      <td>Low Fat</td>\n",
              "      <td>0.016760</td>\n",
              "      <td>Meat</td>\n",
              "      <td>141.6180</td>\n",
              "      <td>OUT049</td>\n",
              "      <td>1999</td>\n",
              "      <td>Medium</td>\n",
              "      <td>Tier 1</td>\n",
              "      <td>Supermarket Type1</td>\n",
              "      <td>2097.2700</td>\n",
              "    </tr>\n",
              "    <tr>\n",
              "      <th>3</th>\n",
              "      <td>FDX07</td>\n",
              "      <td>19.20</td>\n",
              "      <td>Regular</td>\n",
              "      <td>0.000000</td>\n",
              "      <td>Fruits and Vegetables</td>\n",
              "      <td>182.0950</td>\n",
              "      <td>OUT010</td>\n",
              "      <td>1998</td>\n",
              "      <td>NaN</td>\n",
              "      <td>Tier 3</td>\n",
              "      <td>Grocery Store</td>\n",
              "      <td>732.3800</td>\n",
              "    </tr>\n",
              "    <tr>\n",
              "      <th>4</th>\n",
              "      <td>NCD19</td>\n",
              "      <td>8.93</td>\n",
              "      <td>Low Fat</td>\n",
              "      <td>0.000000</td>\n",
              "      <td>Household</td>\n",
              "      <td>53.8614</td>\n",
              "      <td>OUT013</td>\n",
              "      <td>1987</td>\n",
              "      <td>High</td>\n",
              "      <td>Tier 3</td>\n",
              "      <td>Supermarket Type1</td>\n",
              "      <td>994.7052</td>\n",
              "    </tr>\n",
              "  </tbody>\n",
              "</table>\n",
              "</div>\n",
              "    <div class=\"colab-df-buttons\">\n",
              "\n",
              "  <div class=\"colab-df-container\">\n",
              "    <button class=\"colab-df-convert\" onclick=\"convertToInteractive('df-58b6f2a2-544d-4ee3-a503-08b3784b9d25')\"\n",
              "            title=\"Convert this dataframe to an interactive table.\"\n",
              "            style=\"display:none;\">\n",
              "\n",
              "  <svg xmlns=\"http://www.w3.org/2000/svg\" height=\"24px\" viewBox=\"0 -960 960 960\">\n",
              "    <path d=\"M120-120v-720h720v720H120Zm60-500h600v-160H180v160Zm220 220h160v-160H400v160Zm0 220h160v-160H400v160ZM180-400h160v-160H180v160Zm440 0h160v-160H620v160ZM180-180h160v-160H180v160Zm440 0h160v-160H620v160Z\"/>\n",
              "  </svg>\n",
              "    </button>\n",
              "\n",
              "  <style>\n",
              "    .colab-df-container {\n",
              "      display:flex;\n",
              "      gap: 12px;\n",
              "    }\n",
              "\n",
              "    .colab-df-convert {\n",
              "      background-color: #E8F0FE;\n",
              "      border: none;\n",
              "      border-radius: 50%;\n",
              "      cursor: pointer;\n",
              "      display: none;\n",
              "      fill: #1967D2;\n",
              "      height: 32px;\n",
              "      padding: 0 0 0 0;\n",
              "      width: 32px;\n",
              "    }\n",
              "\n",
              "    .colab-df-convert:hover {\n",
              "      background-color: #E2EBFA;\n",
              "      box-shadow: 0px 1px 2px rgba(60, 64, 67, 0.3), 0px 1px 3px 1px rgba(60, 64, 67, 0.15);\n",
              "      fill: #174EA6;\n",
              "    }\n",
              "\n",
              "    .colab-df-buttons div {\n",
              "      margin-bottom: 4px;\n",
              "    }\n",
              "\n",
              "    [theme=dark] .colab-df-convert {\n",
              "      background-color: #3B4455;\n",
              "      fill: #D2E3FC;\n",
              "    }\n",
              "\n",
              "    [theme=dark] .colab-df-convert:hover {\n",
              "      background-color: #434B5C;\n",
              "      box-shadow: 0px 1px 3px 1px rgba(0, 0, 0, 0.15);\n",
              "      filter: drop-shadow(0px 1px 2px rgba(0, 0, 0, 0.3));\n",
              "      fill: #FFFFFF;\n",
              "    }\n",
              "  </style>\n",
              "\n",
              "    <script>\n",
              "      const buttonEl =\n",
              "        document.querySelector('#df-58b6f2a2-544d-4ee3-a503-08b3784b9d25 button.colab-df-convert');\n",
              "      buttonEl.style.display =\n",
              "        google.colab.kernel.accessAllowed ? 'block' : 'none';\n",
              "\n",
              "      async function convertToInteractive(key) {\n",
              "        const element = document.querySelector('#df-58b6f2a2-544d-4ee3-a503-08b3784b9d25');\n",
              "        const dataTable =\n",
              "          await google.colab.kernel.invokeFunction('convertToInteractive',\n",
              "                                                    [key], {});\n",
              "        if (!dataTable) return;\n",
              "\n",
              "        const docLinkHtml = 'Like what you see? Visit the ' +\n",
              "          '<a target=\"_blank\" href=https://colab.research.google.com/notebooks/data_table.ipynb>data table notebook</a>'\n",
              "          + ' to learn more about interactive tables.';\n",
              "        element.innerHTML = '';\n",
              "        dataTable['output_type'] = 'display_data';\n",
              "        await google.colab.output.renderOutput(dataTable, element);\n",
              "        const docLink = document.createElement('div');\n",
              "        docLink.innerHTML = docLinkHtml;\n",
              "        element.appendChild(docLink);\n",
              "      }\n",
              "    </script>\n",
              "  </div>\n",
              "\n",
              "\n",
              "<div id=\"df-b0ccd599-870b-4baa-84c6-b4cc1d0644b7\">\n",
              "  <button class=\"colab-df-quickchart\" onclick=\"quickchart('df-b0ccd599-870b-4baa-84c6-b4cc1d0644b7')\"\n",
              "            title=\"Suggest charts\"\n",
              "            style=\"display:none;\">\n",
              "\n",
              "<svg xmlns=\"http://www.w3.org/2000/svg\" height=\"24px\"viewBox=\"0 0 24 24\"\n",
              "     width=\"24px\">\n",
              "    <g>\n",
              "        <path d=\"M19 3H5c-1.1 0-2 .9-2 2v14c0 1.1.9 2 2 2h14c1.1 0 2-.9 2-2V5c0-1.1-.9-2-2-2zM9 17H7v-7h2v7zm4 0h-2V7h2v10zm4 0h-2v-4h2v4z\"/>\n",
              "    </g>\n",
              "</svg>\n",
              "  </button>\n",
              "\n",
              "<style>\n",
              "  .colab-df-quickchart {\n",
              "      --bg-color: #E8F0FE;\n",
              "      --fill-color: #1967D2;\n",
              "      --hover-bg-color: #E2EBFA;\n",
              "      --hover-fill-color: #174EA6;\n",
              "      --disabled-fill-color: #AAA;\n",
              "      --disabled-bg-color: #DDD;\n",
              "  }\n",
              "\n",
              "  [theme=dark] .colab-df-quickchart {\n",
              "      --bg-color: #3B4455;\n",
              "      --fill-color: #D2E3FC;\n",
              "      --hover-bg-color: #434B5C;\n",
              "      --hover-fill-color: #FFFFFF;\n",
              "      --disabled-bg-color: #3B4455;\n",
              "      --disabled-fill-color: #666;\n",
              "  }\n",
              "\n",
              "  .colab-df-quickchart {\n",
              "    background-color: var(--bg-color);\n",
              "    border: none;\n",
              "    border-radius: 50%;\n",
              "    cursor: pointer;\n",
              "    display: none;\n",
              "    fill: var(--fill-color);\n",
              "    height: 32px;\n",
              "    padding: 0;\n",
              "    width: 32px;\n",
              "  }\n",
              "\n",
              "  .colab-df-quickchart:hover {\n",
              "    background-color: var(--hover-bg-color);\n",
              "    box-shadow: 0 1px 2px rgba(60, 64, 67, 0.3), 0 1px 3px 1px rgba(60, 64, 67, 0.15);\n",
              "    fill: var(--button-hover-fill-color);\n",
              "  }\n",
              "\n",
              "  .colab-df-quickchart-complete:disabled,\n",
              "  .colab-df-quickchart-complete:disabled:hover {\n",
              "    background-color: var(--disabled-bg-color);\n",
              "    fill: var(--disabled-fill-color);\n",
              "    box-shadow: none;\n",
              "  }\n",
              "\n",
              "  .colab-df-spinner {\n",
              "    border: 2px solid var(--fill-color);\n",
              "    border-color: transparent;\n",
              "    border-bottom-color: var(--fill-color);\n",
              "    animation:\n",
              "      spin 1s steps(1) infinite;\n",
              "  }\n",
              "\n",
              "  @keyframes spin {\n",
              "    0% {\n",
              "      border-color: transparent;\n",
              "      border-bottom-color: var(--fill-color);\n",
              "      border-left-color: var(--fill-color);\n",
              "    }\n",
              "    20% {\n",
              "      border-color: transparent;\n",
              "      border-left-color: var(--fill-color);\n",
              "      border-top-color: var(--fill-color);\n",
              "    }\n",
              "    30% {\n",
              "      border-color: transparent;\n",
              "      border-left-color: var(--fill-color);\n",
              "      border-top-color: var(--fill-color);\n",
              "      border-right-color: var(--fill-color);\n",
              "    }\n",
              "    40% {\n",
              "      border-color: transparent;\n",
              "      border-right-color: var(--fill-color);\n",
              "      border-top-color: var(--fill-color);\n",
              "    }\n",
              "    60% {\n",
              "      border-color: transparent;\n",
              "      border-right-color: var(--fill-color);\n",
              "    }\n",
              "    80% {\n",
              "      border-color: transparent;\n",
              "      border-right-color: var(--fill-color);\n",
              "      border-bottom-color: var(--fill-color);\n",
              "    }\n",
              "    90% {\n",
              "      border-color: transparent;\n",
              "      border-bottom-color: var(--fill-color);\n",
              "    }\n",
              "  }\n",
              "</style>\n",
              "\n",
              "  <script>\n",
              "    async function quickchart(key) {\n",
              "      const quickchartButtonEl =\n",
              "        document.querySelector('#' + key + ' button');\n",
              "      quickchartButtonEl.disabled = true;  // To prevent multiple clicks.\n",
              "      quickchartButtonEl.classList.add('colab-df-spinner');\n",
              "      try {\n",
              "        const charts = await google.colab.kernel.invokeFunction(\n",
              "            'suggestCharts', [key], {});\n",
              "      } catch (error) {\n",
              "        console.error('Error during call to suggestCharts:', error);\n",
              "      }\n",
              "      quickchartButtonEl.classList.remove('colab-df-spinner');\n",
              "      quickchartButtonEl.classList.add('colab-df-quickchart-complete');\n",
              "    }\n",
              "    (() => {\n",
              "      let quickchartButtonEl =\n",
              "        document.querySelector('#df-b0ccd599-870b-4baa-84c6-b4cc1d0644b7 button');\n",
              "      quickchartButtonEl.style.display =\n",
              "        google.colab.kernel.accessAllowed ? 'block' : 'none';\n",
              "    })();\n",
              "  </script>\n",
              "</div>\n",
              "\n",
              "    </div>\n",
              "  </div>\n"
            ],
            "application/vnd.google.colaboratory.intrinsic+json": {
              "type": "dataframe",
              "variable_name": "df",
              "summary": "{\n  \"name\": \"df\",\n  \"rows\": 8523,\n  \"fields\": [\n    {\n      \"column\": \"Item_Identifier\",\n      \"properties\": {\n        \"dtype\": \"category\",\n        \"num_unique_values\": 1559,\n        \"samples\": [\n          \"FDY01\",\n          \"FDG05\",\n          \"NCJ29\"\n        ],\n        \"semantic_type\": \"\",\n        \"description\": \"\"\n      }\n    },\n    {\n      \"column\": \"Item_Weight\",\n      \"properties\": {\n        \"dtype\": \"number\",\n        \"std\": 4.643456499186415,\n        \"min\": 4.555,\n        \"max\": 21.35,\n        \"num_unique_values\": 415,\n        \"samples\": [\n          16.75,\n          8.695,\n          7.605\n        ],\n        \"semantic_type\": \"\",\n        \"description\": \"\"\n      }\n    },\n    {\n      \"column\": \"Item_Fat_Content\",\n      \"properties\": {\n        \"dtype\": \"category\",\n        \"num_unique_values\": 5,\n        \"samples\": [\n          \"Regular\",\n          \"reg\",\n          \"low fat\"\n        ],\n        \"semantic_type\": \"\",\n        \"description\": \"\"\n      }\n    },\n    {\n      \"column\": \"Item_Visibility\",\n      \"properties\": {\n        \"dtype\": \"number\",\n        \"std\": 0.05159782232113512,\n        \"min\": 0.0,\n        \"max\": 0.328390948,\n        \"num_unique_values\": 7880,\n        \"samples\": [\n          0.224837308,\n          0.046088273,\n          0.0204702\n        ],\n        \"semantic_type\": \"\",\n        \"description\": \"\"\n      }\n    },\n    {\n      \"column\": \"Item_Type\",\n      \"properties\": {\n        \"dtype\": \"category\",\n        \"num_unique_values\": 16,\n        \"samples\": [\n          \"Dairy\",\n          \"Soft Drinks\",\n          \"Baking Goods\"\n        ],\n        \"semantic_type\": \"\",\n        \"description\": \"\"\n      }\n    },\n    {\n      \"column\": \"Item_MRP\",\n      \"properties\": {\n        \"dtype\": \"number\",\n        \"std\": 62.27506651219046,\n        \"min\": 31.29,\n        \"max\": 266.8884,\n        \"num_unique_values\": 5938,\n        \"samples\": [\n          255.9672,\n          93.512,\n          208.3954\n        ],\n        \"semantic_type\": \"\",\n        \"description\": \"\"\n      }\n    },\n    {\n      \"column\": \"Outlet_Identifier\",\n      \"properties\": {\n        \"dtype\": \"category\",\n        \"num_unique_values\": 10,\n        \"samples\": [\n          \"OUT035\",\n          \"OUT018\",\n          \"OUT045\"\n        ],\n        \"semantic_type\": \"\",\n        \"description\": \"\"\n      }\n    },\n    {\n      \"column\": \"Outlet_Establishment_Year\",\n      \"properties\": {\n        \"dtype\": \"number\",\n        \"std\": 8,\n        \"min\": 1985,\n        \"max\": 2009,\n        \"num_unique_values\": 9,\n        \"samples\": [\n          1997,\n          2009,\n          2002\n        ],\n        \"semantic_type\": \"\",\n        \"description\": \"\"\n      }\n    },\n    {\n      \"column\": \"Outlet_Size\",\n      \"properties\": {\n        \"dtype\": \"category\",\n        \"num_unique_values\": 3,\n        \"samples\": [\n          \"Medium\",\n          \"High\",\n          \"Small\"\n        ],\n        \"semantic_type\": \"\",\n        \"description\": \"\"\n      }\n    },\n    {\n      \"column\": \"Outlet_Location_Type\",\n      \"properties\": {\n        \"dtype\": \"category\",\n        \"num_unique_values\": 3,\n        \"samples\": [\n          \"Tier 1\",\n          \"Tier 3\",\n          \"Tier 2\"\n        ],\n        \"semantic_type\": \"\",\n        \"description\": \"\"\n      }\n    },\n    {\n      \"column\": \"Outlet_Type\",\n      \"properties\": {\n        \"dtype\": \"category\",\n        \"num_unique_values\": 4,\n        \"samples\": [\n          \"Supermarket Type2\",\n          \"Supermarket Type3\",\n          \"Supermarket Type1\"\n        ],\n        \"semantic_type\": \"\",\n        \"description\": \"\"\n      }\n    },\n    {\n      \"column\": \"Item_Outlet_Sales\",\n      \"properties\": {\n        \"dtype\": \"number\",\n        \"std\": 1706.499615733833,\n        \"min\": 33.29,\n        \"max\": 13086.9648,\n        \"num_unique_values\": 3493,\n        \"samples\": [\n          5466.8838,\n          8417.7094,\n          5888.3352\n        ],\n        \"semantic_type\": \"\",\n        \"description\": \"\"\n      }\n    }\n  ]\n}"
            }
          },
          "metadata": {},
          "execution_count": 7
        }
      ]
    },
    {
      "cell_type": "markdown",
      "metadata": {
        "id": "V5XK7jDMVrni"
      },
      "source": [
        "##### [Esercizio] Quante variabili categoriche (`object`) e quante variabili numeriche (`float64`, `int64`) ci sono?"
      ]
    },
    {
      "cell_type": "code",
      "metadata": {
        "id": "PwqzQpRk9JYi"
      },
      "source": [
        "# inserisci il tuo codice qui\n"
      ],
      "execution_count": null,
      "outputs": []
    },
    {
      "cell_type": "markdown",
      "source": [
        "> Risposta attesa:\n",
        "\n",
        "`7 colonne categoriche, 5 colonne numeriche (4 di valori decimali [float], 1 di valori interi [int]`"
      ],
      "metadata": {
        "id": "rsznzN-ifQgr"
      }
    },
    {
      "cell_type": "markdown",
      "source": [
        "###### Risposta corretta:"
      ],
      "metadata": {
        "id": "1rzys3aKgKSn"
      }
    },
    {
      "cell_type": "code",
      "source": [
        "df.info()"
      ],
      "metadata": {
        "colab": {
          "base_uri": "https://localhost:8080/"
        },
        "id": "LLGUiu2BgM_O",
        "outputId": "bb4a275c-ceb5-4f92-ede0-1fa93917bc04"
      },
      "execution_count": null,
      "outputs": [
        {
          "output_type": "stream",
          "name": "stdout",
          "text": [
            "<class 'pandas.core.frame.DataFrame'>\n",
            "RangeIndex: 8523 entries, 0 to 8522\n",
            "Data columns (total 12 columns):\n",
            " #   Column                     Non-Null Count  Dtype  \n",
            "---  ------                     --------------  -----  \n",
            " 0   Item_Identifier            8523 non-null   object \n",
            " 1   Item_Weight                7060 non-null   float64\n",
            " 2   Item_Fat_Content           8523 non-null   object \n",
            " 3   Item_Visibility            8523 non-null   float64\n",
            " 4   Item_Type                  8523 non-null   object \n",
            " 5   Item_MRP                   8523 non-null   float64\n",
            " 6   Outlet_Identifier          8523 non-null   object \n",
            " 7   Outlet_Establishment_Year  8523 non-null   int64  \n",
            " 8   Outlet_Size                6113 non-null   object \n",
            " 9   Outlet_Location_Type       8523 non-null   object \n",
            " 10  Outlet_Type                8523 non-null   object \n",
            " 11  Item_Outlet_Sales          8523 non-null   float64\n",
            "dtypes: float64(4), int64(1), object(7)\n",
            "memory usage: 799.2+ KB\n"
          ]
        }
      ]
    },
    {
      "cell_type": "markdown",
      "metadata": {
        "id": "J-qxsSMaWg15"
      },
      "source": [
        "##### [Esercizio] Quanti valori mancanti ci sono per ogni colonna?"
      ]
    },
    {
      "cell_type": "code",
      "metadata": {
        "id": "Rq4xunuz7zoU"
      },
      "source": [
        "# inserisci il tuo codice qui\n"
      ],
      "execution_count": null,
      "outputs": []
    },
    {
      "cell_type": "markdown",
      "source": [
        "> Risposta attesa:\n",
        "\n",
        "`1463 valori mancanti nella colonna Item Weight, 2410 valori mancanti nella colonna Outlet_Size`"
      ],
      "metadata": {
        "id": "1zEduvHCf02Z"
      }
    },
    {
      "cell_type": "markdown",
      "source": [
        "###### Risposta corretta:"
      ],
      "metadata": {
        "id": "ybJ9WgZtpOKh"
      }
    },
    {
      "cell_type": "code",
      "source": [
        "df.isnull().sum()"
      ],
      "metadata": {
        "colab": {
          "base_uri": "https://localhost:8080/",
          "height": 460
        },
        "id": "RbZF4RfNpQuE",
        "outputId": "4cee1fb0-6a5c-424c-99a6-f4a4d3588490"
      },
      "execution_count": null,
      "outputs": [
        {
          "output_type": "execute_result",
          "data": {
            "text/plain": [
              "Item_Identifier                 0\n",
              "Item_Weight                  1463\n",
              "Item_Fat_Content                0\n",
              "Item_Visibility                 0\n",
              "Item_Type                       0\n",
              "Item_MRP                        0\n",
              "Outlet_Identifier               0\n",
              "Outlet_Establishment_Year       0\n",
              "Outlet_Size                  2410\n",
              "Outlet_Location_Type            0\n",
              "Outlet_Type                     0\n",
              "Item_Outlet_Sales               0\n",
              "dtype: int64"
            ],
            "text/html": [
              "<div>\n",
              "<style scoped>\n",
              "    .dataframe tbody tr th:only-of-type {\n",
              "        vertical-align: middle;\n",
              "    }\n",
              "\n",
              "    .dataframe tbody tr th {\n",
              "        vertical-align: top;\n",
              "    }\n",
              "\n",
              "    .dataframe thead th {\n",
              "        text-align: right;\n",
              "    }\n",
              "</style>\n",
              "<table border=\"1\" class=\"dataframe\">\n",
              "  <thead>\n",
              "    <tr style=\"text-align: right;\">\n",
              "      <th></th>\n",
              "      <th>0</th>\n",
              "    </tr>\n",
              "  </thead>\n",
              "  <tbody>\n",
              "    <tr>\n",
              "      <th>Item_Identifier</th>\n",
              "      <td>0</td>\n",
              "    </tr>\n",
              "    <tr>\n",
              "      <th>Item_Weight</th>\n",
              "      <td>1463</td>\n",
              "    </tr>\n",
              "    <tr>\n",
              "      <th>Item_Fat_Content</th>\n",
              "      <td>0</td>\n",
              "    </tr>\n",
              "    <tr>\n",
              "      <th>Item_Visibility</th>\n",
              "      <td>0</td>\n",
              "    </tr>\n",
              "    <tr>\n",
              "      <th>Item_Type</th>\n",
              "      <td>0</td>\n",
              "    </tr>\n",
              "    <tr>\n",
              "      <th>Item_MRP</th>\n",
              "      <td>0</td>\n",
              "    </tr>\n",
              "    <tr>\n",
              "      <th>Outlet_Identifier</th>\n",
              "      <td>0</td>\n",
              "    </tr>\n",
              "    <tr>\n",
              "      <th>Outlet_Establishment_Year</th>\n",
              "      <td>0</td>\n",
              "    </tr>\n",
              "    <tr>\n",
              "      <th>Outlet_Size</th>\n",
              "      <td>2410</td>\n",
              "    </tr>\n",
              "    <tr>\n",
              "      <th>Outlet_Location_Type</th>\n",
              "      <td>0</td>\n",
              "    </tr>\n",
              "    <tr>\n",
              "      <th>Outlet_Type</th>\n",
              "      <td>0</td>\n",
              "    </tr>\n",
              "    <tr>\n",
              "      <th>Item_Outlet_Sales</th>\n",
              "      <td>0</td>\n",
              "    </tr>\n",
              "  </tbody>\n",
              "</table>\n",
              "</div><br><label><b>dtype:</b> int64</label>"
            ]
          },
          "metadata": {},
          "execution_count": 11
        }
      ]
    },
    {
      "cell_type": "markdown",
      "metadata": {
        "id": "zKVFFPHrbi1G"
      },
      "source": [
        "##### Creiamo un nuovo dataframe \"cat\", tenendo tutte le righe dell'originale e solo le colonne categoriche."
      ]
    },
    {
      "cell_type": "code",
      "metadata": {
        "id": "6wo8X2lkUU29"
      },
      "source": [
        "cat = df.select_dtypes('object')"
      ],
      "execution_count": null,
      "outputs": []
    },
    {
      "cell_type": "markdown",
      "source": [
        "##### [Esercizio] Quanti valori univoci hanno le varie colonne categoriche?"
      ],
      "metadata": {
        "id": "8EGq4DEupUwJ"
      }
    },
    {
      "cell_type": "code",
      "metadata": {
        "id": "rGuOoyXobuKC"
      },
      "source": [
        "# inserisci il tuo codice qui\n"
      ],
      "execution_count": null,
      "outputs": []
    },
    {
      "cell_type": "markdown",
      "source": [
        "> Risposta attesa:\n",
        "\n",
        "```\n",
        "Item_Identifier         1559\n",
        "Item_Fat_Content           5\n",
        "Item_Type                 16\n",
        "Outlet_Identifier         10\n",
        "Outlet_Size                3\n",
        "Outlet_Location_Type       3\n",
        "Outlet_Type                4\n",
        "```"
      ],
      "metadata": {
        "id": "UOkjlENXp6OC"
      }
    },
    {
      "cell_type": "markdown",
      "source": [
        "###### Risposta corretta:"
      ],
      "metadata": {
        "id": "nA8QRLEisTiL"
      }
    },
    {
      "cell_type": "code",
      "source": [
        "cat.nunique()"
      ],
      "metadata": {
        "id": "toHDVDCjsVWh",
        "colab": {
          "base_uri": "https://localhost:8080/",
          "height": 304
        },
        "outputId": "2b0f1b4c-3d62-4c77-f1c0-0b2860661c92"
      },
      "execution_count": null,
      "outputs": [
        {
          "output_type": "execute_result",
          "data": {
            "text/plain": [
              "Item_Identifier         1559\n",
              "Item_Fat_Content           5\n",
              "Item_Type                 16\n",
              "Outlet_Identifier         10\n",
              "Outlet_Size                3\n",
              "Outlet_Location_Type       3\n",
              "Outlet_Type                4\n",
              "dtype: int64"
            ],
            "text/html": [
              "<div>\n",
              "<style scoped>\n",
              "    .dataframe tbody tr th:only-of-type {\n",
              "        vertical-align: middle;\n",
              "    }\n",
              "\n",
              "    .dataframe tbody tr th {\n",
              "        vertical-align: top;\n",
              "    }\n",
              "\n",
              "    .dataframe thead th {\n",
              "        text-align: right;\n",
              "    }\n",
              "</style>\n",
              "<table border=\"1\" class=\"dataframe\">\n",
              "  <thead>\n",
              "    <tr style=\"text-align: right;\">\n",
              "      <th></th>\n",
              "      <th>0</th>\n",
              "    </tr>\n",
              "  </thead>\n",
              "  <tbody>\n",
              "    <tr>\n",
              "      <th>Item_Identifier</th>\n",
              "      <td>1559</td>\n",
              "    </tr>\n",
              "    <tr>\n",
              "      <th>Item_Fat_Content</th>\n",
              "      <td>5</td>\n",
              "    </tr>\n",
              "    <tr>\n",
              "      <th>Item_Type</th>\n",
              "      <td>16</td>\n",
              "    </tr>\n",
              "    <tr>\n",
              "      <th>Outlet_Identifier</th>\n",
              "      <td>10</td>\n",
              "    </tr>\n",
              "    <tr>\n",
              "      <th>Outlet_Size</th>\n",
              "      <td>3</td>\n",
              "    </tr>\n",
              "    <tr>\n",
              "      <th>Outlet_Location_Type</th>\n",
              "      <td>3</td>\n",
              "    </tr>\n",
              "    <tr>\n",
              "      <th>Outlet_Type</th>\n",
              "      <td>4</td>\n",
              "    </tr>\n",
              "  </tbody>\n",
              "</table>\n",
              "</div><br><label><b>dtype:</b> int64</label>"
            ]
          },
          "metadata": {},
          "execution_count": 14
        }
      ]
    },
    {
      "cell_type": "markdown",
      "metadata": {
        "id": "_b7b4QKqUr4i"
      },
      "source": [
        "##### [Esercizio] Quali sono i valori unici in ciascuna colonna categorica e qual è la frequenza di ciascuno? Notate qualcosa di particolare (specialmente nelle colonne `Item_Identifier` e `Item_Fat_Content`)?"
      ]
    },
    {
      "cell_type": "code",
      "metadata": {
        "id": "_CTwZjPEUaD_"
      },
      "source": [
        "# inserisci il tuo codice qui\n"
      ],
      "execution_count": null,
      "outputs": []
    },
    {
      "cell_type": "markdown",
      "source": [
        "> Risposta attesa:\n",
        "\n",
        "```\n",
        "Colonna: Item_Identifier\n",
        "\n",
        "FDW13    10\n",
        "FDG33    10\n",
        "NCY18     9\n",
        "FDD38     9\n",
        "DRE49     9\n",
        "         ..\n",
        "FDY43     1\n",
        "FDQ60     1\n",
        "FDO33     1\n",
        "DRF48     1\n",
        "FDC23     1\n",
        "Name: Item_Identifier, Length: 1559, dtype: int64\n",
        "\n",
        "****************\n",
        "Colonna: Item_Fat_Content\n",
        "\n",
        "Low Fat    5089\n",
        "Regular    2889\n",
        "LF          316\n",
        "reg         117\n",
        "low fat     112\n",
        "Name: Item_Fat_Content, dtype: int64\n",
        "\n",
        "****************\n",
        "Colonna: Item_Type\n",
        "\n",
        "Fruits and Vegetables    1232\n",
        "Snack Foods              1200\n",
        "Household                 910\n",
        "Frozen Foods              856\n",
        "Dairy                     682\n",
        "Canned                    649\n",
        "Baking Goods              648\n",
        "Health and Hygiene        520\n",
        "Soft Drinks               445\n",
        "Meat                      425\n",
        "Breads                    251\n",
        "Hard Drinks               214\n",
        "Others                    169\n",
        "Starchy Foods             148\n",
        "Breakfast                 110\n",
        "Seafood                    64\n",
        "Name: Item_Type, dtype: int64\n",
        "\n",
        "****************\n",
        "Colonna: Outlet_Identifier\n",
        "\n",
        "OUT027    935\n",
        "OUT013    932\n",
        "OUT049    930\n",
        "OUT046    930\n",
        "OUT035    930\n",
        "OUT045    929\n",
        "OUT018    928\n",
        "OUT017    926\n",
        "OUT010    555\n",
        "OUT019    528\n",
        "Name: Outlet_Identifier, dtype: int64\n",
        "\n",
        "****************\n",
        "Colonna: Outlet_Size\n",
        "\n",
        "Medium    2793\n",
        "Small     2388\n",
        "High       932\n",
        "Name: Outlet_Size, dtype: int64\n",
        "\n",
        "****************\n",
        "Colonna: Outlet_Location_Type\n",
        "\n",
        "Tier 3    3350\n",
        "Tier 2    2785\n",
        "Tier 1    2388\n",
        "Name: Outlet_Location_Type, dtype: int64\n",
        "\n",
        "****************\n",
        "Colonna: Outlet_Type\n",
        "\n",
        "Supermarket Type1    5577\n",
        "Grocery Store        1083\n",
        "Supermarket Type3     935\n",
        "Supermarket Type2     928\n",
        "Name: Outlet_Type, dtype: int64\n",
        "\n",
        "****************\n",
        "```\n",
        "Osservazioni:\n",
        "\n",
        "- La colonna `Item_Identifier` sembra composta da 2 caratteri che identificano la tipologia di prodotto seguiti da due cifre identificative del singolo prodotto.\n",
        "\n",
        "- Nella colonna `Item_Fat_Content` abbiamo dei valori che rappresentano la stessa cosa, ma scritti in maniera diversa: `LF` e `low_fat` ad esempio"
      ],
      "metadata": {
        "id": "ERTtcRpaq9AL"
      }
    },
    {
      "cell_type": "markdown",
      "source": [
        "###### Risposta corretta:"
      ],
      "metadata": {
        "id": "nOFbV1dRsYNS"
      }
    },
    {
      "cell_type": "code",
      "source": [
        "for col in df.select_dtypes('object'):\n",
        "    print(f'Colonna: {col}')\n",
        "    print(df[col].value_counts())\n",
        "    print('\\n****************\\n')"
      ],
      "metadata": {
        "id": "n_0s7Xp7sa5j",
        "colab": {
          "base_uri": "https://localhost:8080/"
        },
        "outputId": "a6258104-f8ca-4a0c-aab6-2c25103a568a"
      },
      "execution_count": null,
      "outputs": [
        {
          "output_type": "stream",
          "name": "stdout",
          "text": [
            "Colonna: Item_Identifier\n",
            "Item_Identifier\n",
            "FDW13    10\n",
            "FDG33    10\n",
            "NCY18     9\n",
            "FDD38     9\n",
            "DRE49     9\n",
            "         ..\n",
            "FDY43     1\n",
            "FDQ60     1\n",
            "FDO33     1\n",
            "DRF48     1\n",
            "FDC23     1\n",
            "Name: count, Length: 1559, dtype: int64\n",
            "\n",
            "****************\n",
            "\n",
            "Colonna: Item_Fat_Content\n",
            "Item_Fat_Content\n",
            "Low Fat    5517\n",
            "Regular    3006\n",
            "Name: count, dtype: int64\n",
            "\n",
            "****************\n",
            "\n",
            "Colonna: Item_Type\n",
            "Item_Type\n",
            "Fruits and Vegetables    1232\n",
            "Snack Foods              1200\n",
            "Household                 910\n",
            "Frozen Foods              856\n",
            "Dairy                     682\n",
            "Canned                    649\n",
            "Baking Goods              648\n",
            "Health and Hygiene        520\n",
            "Soft Drinks               445\n",
            "Meat                      425\n",
            "Breads                    251\n",
            "Hard Drinks               214\n",
            "Others                    169\n",
            "Starchy Foods             148\n",
            "Breakfast                 110\n",
            "Seafood                    64\n",
            "Name: count, dtype: int64\n",
            "\n",
            "****************\n",
            "\n",
            "Colonna: Outlet_Identifier\n",
            "Outlet_Identifier\n",
            "OUT027    935\n",
            "OUT013    932\n",
            "OUT049    930\n",
            "OUT046    930\n",
            "OUT035    930\n",
            "OUT045    929\n",
            "OUT018    928\n",
            "OUT017    926\n",
            "OUT010    555\n",
            "OUT019    528\n",
            "Name: count, dtype: int64\n",
            "\n",
            "****************\n",
            "\n",
            "Colonna: Outlet_Size\n",
            "Outlet_Size\n",
            "Small     4798\n",
            "Medium    2793\n",
            "High       932\n",
            "Name: count, dtype: int64\n",
            "\n",
            "****************\n",
            "\n",
            "Colonna: Outlet_Location_Type\n",
            "Outlet_Location_Type\n",
            "Tier 3    3350\n",
            "Tier 2    2785\n",
            "Tier 1    2388\n",
            "Name: count, dtype: int64\n",
            "\n",
            "****************\n",
            "\n",
            "Colonna: Outlet_Type\n",
            "Outlet_Type\n",
            "Supermarket Type1    5577\n",
            "Grocery Store        1083\n",
            "Supermarket Type3     935\n",
            "Supermarket Type2     928\n",
            "Name: count, dtype: int64\n",
            "\n",
            "****************\n",
            "\n",
            "Colonna: Item_Category\n",
            "Item_Category\n",
            "FD    6125\n",
            "NC    1599\n",
            "DR     799\n",
            "Name: count, dtype: int64\n",
            "\n",
            "****************\n",
            "\n"
          ]
        }
      ]
    },
    {
      "cell_type": "markdown",
      "source": [
        "##### [Esercizio] Analizziamo anche le variabili numeriche:"
      ],
      "metadata": {
        "id": "bhZyGHq5QsiR"
      }
    },
    {
      "cell_type": "markdown",
      "source": [
        "Otteniamo per prima cosa le statistiche di base (min, max, media, ...).\n",
        "\n",
        "Notate qualcosa di strano (specialmente nella colonna `Item_Visibility`?)"
      ],
      "metadata": {
        "id": "md44clvnQ1gZ"
      }
    },
    {
      "cell_type": "code",
      "source": [
        "# inserisci qui il tuo codice\n"
      ],
      "metadata": {
        "id": "8IUxjN3fRNqd"
      },
      "execution_count": null,
      "outputs": []
    },
    {
      "cell_type": "markdown",
      "source": [
        "> Risposta attesa:\n",
        "\n",
        "```\n",
        "         Item_Weight\tItem_Visibility\t Item_MRP       Outlet_Establishment_Year\t Item_Outlet_Sales\n",
        "count\t7060.000000\t8523.000000\t     8523.000000\t8523.000000\t \t \t \t8523.000000\n",
        "mean\t 12.857645\t  0.066132\t        140.992782\t 1997.831867\t \t \t \t2181.288914\n",
        "std\t  4.643456\t   0.051598\t        62.275067\t  8.371760\t \t \t\t\t1706.499616\n",
        "min\t  4.555000\t   0.000000\t        31.290000\t  1985.000000\t \t \t \t33.290000\n",
        "25%\t  8.773750\t   0.026989\t        93.826500\t  1987.000000\t \t \t \t834.247400\n",
        "50%\t  12.600000\t   0.053931\t       143.012800     1999.000000\t \t \t \t1794.331000\n",
        "75%\t  16.850000\t   0.094585\t       185.643700\t 2004.000000\t \t \t \t3101.296400\n",
        "max\t  21.350000\t   0.328391\t       266.888400\t 2009.000000\t \t \t \t13086.964800\n",
        "```\n",
        "\n",
        "Il minimo valore di `Item_Visibiltity` è 0, ma a rigor di logica questo valore dovrebbe essere sempre strettamente maggiore di 0, altrimenti l'item sarebbe invisibile!"
      ],
      "metadata": {
        "id": "S2xaCZNPR4V9"
      }
    },
    {
      "cell_type": "markdown",
      "source": [
        "###### Risposta corretta:"
      ],
      "metadata": {
        "id": "kmithU-2spiS"
      }
    },
    {
      "cell_type": "code",
      "source": [
        "df[['Item_Weight', 'Item_Visibility', 'Item_MRP', 'Outlet_Establishment_Year', 'Item_Outlet_Sales']].describe()"
      ],
      "metadata": {
        "id": "Zr4qi8k4srrF",
        "colab": {
          "base_uri": "https://localhost:8080/",
          "height": 300
        },
        "outputId": "dec821c2-73e9-4ba1-c8b7-206c96ffebb5"
      },
      "execution_count": null,
      "outputs": [
        {
          "output_type": "execute_result",
          "data": {
            "text/plain": [
              "       Item_Weight  Item_Visibility     Item_MRP  Outlet_Establishment_Year  \\\n",
              "count  8523.000000      8523.000000  8523.000000                8523.000000   \n",
              "mean     12.875420         0.069460   140.992782                1997.831867   \n",
              "std       4.645008         0.048893    62.275067                   8.371760   \n",
              "min       4.555000         0.003575    31.290000                1985.000000   \n",
              "25%       8.785000         0.033085    93.826500                1987.000000   \n",
              "50%      12.650000         0.053931   143.012800                1999.000000   \n",
              "75%      16.850000         0.094585   185.643700                2004.000000   \n",
              "max      21.350000         0.328391   266.888400                2009.000000   \n",
              "\n",
              "       Item_Outlet_Sales  \n",
              "count        8523.000000  \n",
              "mean         2181.288914  \n",
              "std          1706.499616  \n",
              "min            33.290000  \n",
              "25%           834.247400  \n",
              "50%          1794.331000  \n",
              "75%          3101.296400  \n",
              "max         13086.964800  "
            ],
            "text/html": [
              "\n",
              "  <div id=\"df-29c09e1b-86ce-4445-b611-f55d25c672e1\" class=\"colab-df-container\">\n",
              "    <div>\n",
              "<style scoped>\n",
              "    .dataframe tbody tr th:only-of-type {\n",
              "        vertical-align: middle;\n",
              "    }\n",
              "\n",
              "    .dataframe tbody tr th {\n",
              "        vertical-align: top;\n",
              "    }\n",
              "\n",
              "    .dataframe thead th {\n",
              "        text-align: right;\n",
              "    }\n",
              "</style>\n",
              "<table border=\"1\" class=\"dataframe\">\n",
              "  <thead>\n",
              "    <tr style=\"text-align: right;\">\n",
              "      <th></th>\n",
              "      <th>Item_Weight</th>\n",
              "      <th>Item_Visibility</th>\n",
              "      <th>Item_MRP</th>\n",
              "      <th>Outlet_Establishment_Year</th>\n",
              "      <th>Item_Outlet_Sales</th>\n",
              "    </tr>\n",
              "  </thead>\n",
              "  <tbody>\n",
              "    <tr>\n",
              "      <th>count</th>\n",
              "      <td>8523.000000</td>\n",
              "      <td>8523.000000</td>\n",
              "      <td>8523.000000</td>\n",
              "      <td>8523.000000</td>\n",
              "      <td>8523.000000</td>\n",
              "    </tr>\n",
              "    <tr>\n",
              "      <th>mean</th>\n",
              "      <td>12.875420</td>\n",
              "      <td>0.069460</td>\n",
              "      <td>140.992782</td>\n",
              "      <td>1997.831867</td>\n",
              "      <td>2181.288914</td>\n",
              "    </tr>\n",
              "    <tr>\n",
              "      <th>std</th>\n",
              "      <td>4.645008</td>\n",
              "      <td>0.048893</td>\n",
              "      <td>62.275067</td>\n",
              "      <td>8.371760</td>\n",
              "      <td>1706.499616</td>\n",
              "    </tr>\n",
              "    <tr>\n",
              "      <th>min</th>\n",
              "      <td>4.555000</td>\n",
              "      <td>0.003575</td>\n",
              "      <td>31.290000</td>\n",
              "      <td>1985.000000</td>\n",
              "      <td>33.290000</td>\n",
              "    </tr>\n",
              "    <tr>\n",
              "      <th>25%</th>\n",
              "      <td>8.785000</td>\n",
              "      <td>0.033085</td>\n",
              "      <td>93.826500</td>\n",
              "      <td>1987.000000</td>\n",
              "      <td>834.247400</td>\n",
              "    </tr>\n",
              "    <tr>\n",
              "      <th>50%</th>\n",
              "      <td>12.650000</td>\n",
              "      <td>0.053931</td>\n",
              "      <td>143.012800</td>\n",
              "      <td>1999.000000</td>\n",
              "      <td>1794.331000</td>\n",
              "    </tr>\n",
              "    <tr>\n",
              "      <th>75%</th>\n",
              "      <td>16.850000</td>\n",
              "      <td>0.094585</td>\n",
              "      <td>185.643700</td>\n",
              "      <td>2004.000000</td>\n",
              "      <td>3101.296400</td>\n",
              "    </tr>\n",
              "    <tr>\n",
              "      <th>max</th>\n",
              "      <td>21.350000</td>\n",
              "      <td>0.328391</td>\n",
              "      <td>266.888400</td>\n",
              "      <td>2009.000000</td>\n",
              "      <td>13086.964800</td>\n",
              "    </tr>\n",
              "  </tbody>\n",
              "</table>\n",
              "</div>\n",
              "    <div class=\"colab-df-buttons\">\n",
              "\n",
              "  <div class=\"colab-df-container\">\n",
              "    <button class=\"colab-df-convert\" onclick=\"convertToInteractive('df-29c09e1b-86ce-4445-b611-f55d25c672e1')\"\n",
              "            title=\"Convert this dataframe to an interactive table.\"\n",
              "            style=\"display:none;\">\n",
              "\n",
              "  <svg xmlns=\"http://www.w3.org/2000/svg\" height=\"24px\" viewBox=\"0 -960 960 960\">\n",
              "    <path d=\"M120-120v-720h720v720H120Zm60-500h600v-160H180v160Zm220 220h160v-160H400v160Zm0 220h160v-160H400v160ZM180-400h160v-160H180v160Zm440 0h160v-160H620v160ZM180-180h160v-160H180v160Zm440 0h160v-160H620v160Z\"/>\n",
              "  </svg>\n",
              "    </button>\n",
              "\n",
              "  <style>\n",
              "    .colab-df-container {\n",
              "      display:flex;\n",
              "      gap: 12px;\n",
              "    }\n",
              "\n",
              "    .colab-df-convert {\n",
              "      background-color: #E8F0FE;\n",
              "      border: none;\n",
              "      border-radius: 50%;\n",
              "      cursor: pointer;\n",
              "      display: none;\n",
              "      fill: #1967D2;\n",
              "      height: 32px;\n",
              "      padding: 0 0 0 0;\n",
              "      width: 32px;\n",
              "    }\n",
              "\n",
              "    .colab-df-convert:hover {\n",
              "      background-color: #E2EBFA;\n",
              "      box-shadow: 0px 1px 2px rgba(60, 64, 67, 0.3), 0px 1px 3px 1px rgba(60, 64, 67, 0.15);\n",
              "      fill: #174EA6;\n",
              "    }\n",
              "\n",
              "    .colab-df-buttons div {\n",
              "      margin-bottom: 4px;\n",
              "    }\n",
              "\n",
              "    [theme=dark] .colab-df-convert {\n",
              "      background-color: #3B4455;\n",
              "      fill: #D2E3FC;\n",
              "    }\n",
              "\n",
              "    [theme=dark] .colab-df-convert:hover {\n",
              "      background-color: #434B5C;\n",
              "      box-shadow: 0px 1px 3px 1px rgba(0, 0, 0, 0.15);\n",
              "      filter: drop-shadow(0px 1px 2px rgba(0, 0, 0, 0.3));\n",
              "      fill: #FFFFFF;\n",
              "    }\n",
              "  </style>\n",
              "\n",
              "    <script>\n",
              "      const buttonEl =\n",
              "        document.querySelector('#df-29c09e1b-86ce-4445-b611-f55d25c672e1 button.colab-df-convert');\n",
              "      buttonEl.style.display =\n",
              "        google.colab.kernel.accessAllowed ? 'block' : 'none';\n",
              "\n",
              "      async function convertToInteractive(key) {\n",
              "        const element = document.querySelector('#df-29c09e1b-86ce-4445-b611-f55d25c672e1');\n",
              "        const dataTable =\n",
              "          await google.colab.kernel.invokeFunction('convertToInteractive',\n",
              "                                                    [key], {});\n",
              "        if (!dataTable) return;\n",
              "\n",
              "        const docLinkHtml = 'Like what you see? Visit the ' +\n",
              "          '<a target=\"_blank\" href=https://colab.research.google.com/notebooks/data_table.ipynb>data table notebook</a>'\n",
              "          + ' to learn more about interactive tables.';\n",
              "        element.innerHTML = '';\n",
              "        dataTable['output_type'] = 'display_data';\n",
              "        await google.colab.output.renderOutput(dataTable, element);\n",
              "        const docLink = document.createElement('div');\n",
              "        docLink.innerHTML = docLinkHtml;\n",
              "        element.appendChild(docLink);\n",
              "      }\n",
              "    </script>\n",
              "  </div>\n",
              "\n",
              "\n",
              "<div id=\"df-1b429513-a198-4b03-aeb7-adc9638c0c26\">\n",
              "  <button class=\"colab-df-quickchart\" onclick=\"quickchart('df-1b429513-a198-4b03-aeb7-adc9638c0c26')\"\n",
              "            title=\"Suggest charts\"\n",
              "            style=\"display:none;\">\n",
              "\n",
              "<svg xmlns=\"http://www.w3.org/2000/svg\" height=\"24px\"viewBox=\"0 0 24 24\"\n",
              "     width=\"24px\">\n",
              "    <g>\n",
              "        <path d=\"M19 3H5c-1.1 0-2 .9-2 2v14c0 1.1.9 2 2 2h14c1.1 0 2-.9 2-2V5c0-1.1-.9-2-2-2zM9 17H7v-7h2v7zm4 0h-2V7h2v10zm4 0h-2v-4h2v4z\"/>\n",
              "    </g>\n",
              "</svg>\n",
              "  </button>\n",
              "\n",
              "<style>\n",
              "  .colab-df-quickchart {\n",
              "      --bg-color: #E8F0FE;\n",
              "      --fill-color: #1967D2;\n",
              "      --hover-bg-color: #E2EBFA;\n",
              "      --hover-fill-color: #174EA6;\n",
              "      --disabled-fill-color: #AAA;\n",
              "      --disabled-bg-color: #DDD;\n",
              "  }\n",
              "\n",
              "  [theme=dark] .colab-df-quickchart {\n",
              "      --bg-color: #3B4455;\n",
              "      --fill-color: #D2E3FC;\n",
              "      --hover-bg-color: #434B5C;\n",
              "      --hover-fill-color: #FFFFFF;\n",
              "      --disabled-bg-color: #3B4455;\n",
              "      --disabled-fill-color: #666;\n",
              "  }\n",
              "\n",
              "  .colab-df-quickchart {\n",
              "    background-color: var(--bg-color);\n",
              "    border: none;\n",
              "    border-radius: 50%;\n",
              "    cursor: pointer;\n",
              "    display: none;\n",
              "    fill: var(--fill-color);\n",
              "    height: 32px;\n",
              "    padding: 0;\n",
              "    width: 32px;\n",
              "  }\n",
              "\n",
              "  .colab-df-quickchart:hover {\n",
              "    background-color: var(--hover-bg-color);\n",
              "    box-shadow: 0 1px 2px rgba(60, 64, 67, 0.3), 0 1px 3px 1px rgba(60, 64, 67, 0.15);\n",
              "    fill: var(--button-hover-fill-color);\n",
              "  }\n",
              "\n",
              "  .colab-df-quickchart-complete:disabled,\n",
              "  .colab-df-quickchart-complete:disabled:hover {\n",
              "    background-color: var(--disabled-bg-color);\n",
              "    fill: var(--disabled-fill-color);\n",
              "    box-shadow: none;\n",
              "  }\n",
              "\n",
              "  .colab-df-spinner {\n",
              "    border: 2px solid var(--fill-color);\n",
              "    border-color: transparent;\n",
              "    border-bottom-color: var(--fill-color);\n",
              "    animation:\n",
              "      spin 1s steps(1) infinite;\n",
              "  }\n",
              "\n",
              "  @keyframes spin {\n",
              "    0% {\n",
              "      border-color: transparent;\n",
              "      border-bottom-color: var(--fill-color);\n",
              "      border-left-color: var(--fill-color);\n",
              "    }\n",
              "    20% {\n",
              "      border-color: transparent;\n",
              "      border-left-color: var(--fill-color);\n",
              "      border-top-color: var(--fill-color);\n",
              "    }\n",
              "    30% {\n",
              "      border-color: transparent;\n",
              "      border-left-color: var(--fill-color);\n",
              "      border-top-color: var(--fill-color);\n",
              "      border-right-color: var(--fill-color);\n",
              "    }\n",
              "    40% {\n",
              "      border-color: transparent;\n",
              "      border-right-color: var(--fill-color);\n",
              "      border-top-color: var(--fill-color);\n",
              "    }\n",
              "    60% {\n",
              "      border-color: transparent;\n",
              "      border-right-color: var(--fill-color);\n",
              "    }\n",
              "    80% {\n",
              "      border-color: transparent;\n",
              "      border-right-color: var(--fill-color);\n",
              "      border-bottom-color: var(--fill-color);\n",
              "    }\n",
              "    90% {\n",
              "      border-color: transparent;\n",
              "      border-bottom-color: var(--fill-color);\n",
              "    }\n",
              "  }\n",
              "</style>\n",
              "\n",
              "  <script>\n",
              "    async function quickchart(key) {\n",
              "      const quickchartButtonEl =\n",
              "        document.querySelector('#' + key + ' button');\n",
              "      quickchartButtonEl.disabled = true;  // To prevent multiple clicks.\n",
              "      quickchartButtonEl.classList.add('colab-df-spinner');\n",
              "      try {\n",
              "        const charts = await google.colab.kernel.invokeFunction(\n",
              "            'suggestCharts', [key], {});\n",
              "      } catch (error) {\n",
              "        console.error('Error during call to suggestCharts:', error);\n",
              "      }\n",
              "      quickchartButtonEl.classList.remove('colab-df-spinner');\n",
              "      quickchartButtonEl.classList.add('colab-df-quickchart-complete');\n",
              "    }\n",
              "    (() => {\n",
              "      let quickchartButtonEl =\n",
              "        document.querySelector('#df-1b429513-a198-4b03-aeb7-adc9638c0c26 button');\n",
              "      quickchartButtonEl.style.display =\n",
              "        google.colab.kernel.accessAllowed ? 'block' : 'none';\n",
              "    })();\n",
              "  </script>\n",
              "</div>\n",
              "\n",
              "    </div>\n",
              "  </div>\n"
            ],
            "application/vnd.google.colaboratory.intrinsic+json": {
              "type": "dataframe",
              "summary": "{\n  \"name\": \"df[['Item_Weight', 'Item_Visibility', 'Item_MRP', 'Outlet_Establishment_Year', 'Item_Outlet_Sales']]\",\n  \"rows\": 8,\n  \"fields\": [\n    {\n      \"column\": \"Item_Weight\",\n      \"properties\": {\n        \"dtype\": \"number\",\n        \"std\": 3009.2140371651385,\n        \"min\": 4.555,\n        \"max\": 8523.0,\n        \"num_unique_values\": 8,\n        \"samples\": [\n          12.875420237117032,\n          12.65,\n          8523.0\n        ],\n        \"semantic_type\": \"\",\n        \"description\": \"\"\n      }\n    },\n    {\n      \"column\": \"Item_Visibility\",\n      \"properties\": {\n        \"dtype\": \"number\",\n        \"std\": 3013.3036329092224,\n        \"min\": 0.003574698,\n        \"max\": 8523.0,\n        \"num_unique_values\": 8,\n        \"samples\": [\n          0.06946039570186555,\n          0.053930934,\n          8523.0\n        ],\n        \"semantic_type\": \"\",\n        \"description\": \"\"\n      }\n    },\n    {\n      \"column\": \"Item_MRP\",\n      \"properties\": {\n        \"dtype\": \"number\",\n        \"std\": 2967.5785044087356,\n        \"min\": 31.29,\n        \"max\": 8523.0,\n        \"num_unique_values\": 8,\n        \"samples\": [\n          140.9927819781767,\n          143.0128,\n          8523.0\n        ],\n        \"semantic_type\": \"\",\n        \"description\": \"\"\n      }\n    },\n    {\n      \"column\": \"Outlet_Establishment_Year\",\n      \"properties\": {\n        \"dtype\": \"number\",\n        \"std\": 2506.291593828245,\n        \"min\": 8.371760408092655,\n        \"max\": 8523.0,\n        \"num_unique_values\": 8,\n        \"samples\": [\n          1997.8318667135984,\n          1999.0,\n          8523.0\n        ],\n        \"semantic_type\": \"\",\n        \"description\": \"\"\n      }\n    },\n    {\n      \"column\": \"Item_Outlet_Sales\",\n      \"properties\": {\n        \"dtype\": \"number\",\n        \"std\": 4519.156901462071,\n        \"min\": 33.29,\n        \"max\": 13086.9648,\n        \"num_unique_values\": 8,\n        \"samples\": [\n          2181.288913575032,\n          1794.331,\n          8523.0\n        ],\n        \"semantic_type\": \"\",\n        \"description\": \"\"\n      }\n    }\n  ]\n}"
            }
          },
          "metadata": {},
          "execution_count": 66
        }
      ]
    },
    {
      "cell_type": "markdown",
      "metadata": {
        "id": "3zhBAc6ltFM8"
      },
      "source": [
        "## 3. Feature Engineering"
      ]
    },
    {
      "cell_type": "markdown",
      "source": [
        "### 3.1 Creiamo una nuova colonna `Item_Category`"
      ],
      "metadata": {
        "id": "NHsbBOUQHArj"
      }
    },
    {
      "cell_type": "markdown",
      "source": [
        "##### [Esercizio] Creiamo una nuova colonna `Item_Category` contenente i primi 2 caratteri della colonna `Item_Identifier`"
      ],
      "metadata": {
        "id": "Mz-BPd3qwG5P"
      }
    },
    {
      "cell_type": "code",
      "source": [
        "# inserisci qui il tuo codice\n"
      ],
      "metadata": {
        "id": "cXiyY9Dev_ut"
      },
      "execution_count": null,
      "outputs": []
    },
    {
      "cell_type": "markdown",
      "source": [
        "###### Risposta corretta:"
      ],
      "metadata": {
        "id": "qWOKf7ZUmMYx"
      }
    },
    {
      "cell_type": "markdown",
      "source": [
        "`df['Item_Category'] = df['Item_Identifier'].str[:2]`"
      ],
      "metadata": {
        "id": "sAVPE0c3MjoA"
      }
    },
    {
      "cell_type": "markdown",
      "source": [
        "##### [Esercizio] Contiamo i valori unici in questa nuova colonna. Riuscite a indovinare a cosa corrispondono queste sigle?"
      ],
      "metadata": {
        "id": "5P7fEXDYwugv"
      }
    },
    {
      "cell_type": "code",
      "source": [
        "# inserisci qui il tuo codice\n"
      ],
      "metadata": {
        "id": "jz1qkvzsw1C_"
      },
      "execution_count": null,
      "outputs": []
    },
    {
      "cell_type": "markdown",
      "source": [
        "> Risposta attesa:\n",
        "```\n",
        "FD    6125\n",
        "NC    1599\n",
        "DR     799\n",
        "```\n",
        "\n",
        "- FD = food\n",
        "- NC = non-consumable\n",
        "- DR = drink"
      ],
      "metadata": {
        "id": "EVqJwH_dxHxS"
      }
    },
    {
      "cell_type": "markdown",
      "source": [
        "###### Risposta corretta:"
      ],
      "metadata": {
        "id": "fN-LWsVkkP5-"
      }
    },
    {
      "cell_type": "code",
      "source": [
        "df['Item_Category'].value_counts()"
      ],
      "metadata": {
        "colab": {
          "base_uri": "https://localhost:8080/",
          "height": 210
        },
        "id": "JhrqUiZ8kQ9K",
        "outputId": "1be5b9a1-a9d7-4eea-f828-ef3ba89ce4d3"
      },
      "execution_count": null,
      "outputs": [
        {
          "output_type": "execute_result",
          "data": {
            "text/plain": [
              "Item_Category\n",
              "FD    6125\n",
              "NC    1599\n",
              "DR     799\n",
              "Name: count, dtype: int64"
            ],
            "text/html": [
              "<div>\n",
              "<style scoped>\n",
              "    .dataframe tbody tr th:only-of-type {\n",
              "        vertical-align: middle;\n",
              "    }\n",
              "\n",
              "    .dataframe tbody tr th {\n",
              "        vertical-align: top;\n",
              "    }\n",
              "\n",
              "    .dataframe thead th {\n",
              "        text-align: right;\n",
              "    }\n",
              "</style>\n",
              "<table border=\"1\" class=\"dataframe\">\n",
              "  <thead>\n",
              "    <tr style=\"text-align: right;\">\n",
              "      <th></th>\n",
              "      <th>count</th>\n",
              "    </tr>\n",
              "    <tr>\n",
              "      <th>Item_Category</th>\n",
              "      <th></th>\n",
              "    </tr>\n",
              "  </thead>\n",
              "  <tbody>\n",
              "    <tr>\n",
              "      <th>FD</th>\n",
              "      <td>6125</td>\n",
              "    </tr>\n",
              "    <tr>\n",
              "      <th>NC</th>\n",
              "      <td>1599</td>\n",
              "    </tr>\n",
              "    <tr>\n",
              "      <th>DR</th>\n",
              "      <td>799</td>\n",
              "    </tr>\n",
              "  </tbody>\n",
              "</table>\n",
              "</div><br><label><b>dtype:</b> int64</label>"
            ]
          },
          "metadata": {},
          "execution_count": 22
        }
      ]
    },
    {
      "cell_type": "markdown",
      "source": [
        "##### Visualizziamo alcune righe, focalizzandoci sulle sole colonne `Item_Identifier`, `Item_Category`, `Item_Type` per vedere se ci torna tutto"
      ],
      "metadata": {
        "id": "JHi5chkaxYv6"
      }
    },
    {
      "cell_type": "code",
      "source": [
        "df[['Item_Identifier', 'Item_Category', 'Item_Type']].head(20)"
      ],
      "metadata": {
        "id": "v_Ijux5BxYNV",
        "colab": {
          "base_uri": "https://localhost:8080/",
          "height": 677
        },
        "collapsed": true,
        "outputId": "c2774908-dc2b-4436-cf55-c335c3d544e4"
      },
      "execution_count": null,
      "outputs": [
        {
          "output_type": "execute_result",
          "data": {
            "text/plain": [
              "   Item_Identifier Item_Category              Item_Type\n",
              "0            FDA15            FD                  Dairy\n",
              "1            DRC01            DR            Soft Drinks\n",
              "2            FDN15            FD                   Meat\n",
              "3            FDX07            FD  Fruits and Vegetables\n",
              "4            NCD19            NC              Household\n",
              "5            FDP36            FD           Baking Goods\n",
              "6            FDO10            FD            Snack Foods\n",
              "7            FDP10            FD            Snack Foods\n",
              "8            FDH17            FD           Frozen Foods\n",
              "9            FDU28            FD           Frozen Foods\n",
              "10           FDY07            FD  Fruits and Vegetables\n",
              "11           FDA03            FD                  Dairy\n",
              "12           FDX32            FD  Fruits and Vegetables\n",
              "13           FDS46            FD            Snack Foods\n",
              "14           FDF32            FD  Fruits and Vegetables\n",
              "15           FDP49            FD              Breakfast\n",
              "16           NCB42            NC     Health and Hygiene\n",
              "17           FDP49            FD              Breakfast\n",
              "18           DRI11            DR            Hard Drinks\n",
              "19           FDU02            FD                  Dairy"
            ],
            "text/html": [
              "\n",
              "  <div id=\"df-b9efebd7-1099-4d50-b583-bab1092d2afd\" class=\"colab-df-container\">\n",
              "    <div>\n",
              "<style scoped>\n",
              "    .dataframe tbody tr th:only-of-type {\n",
              "        vertical-align: middle;\n",
              "    }\n",
              "\n",
              "    .dataframe tbody tr th {\n",
              "        vertical-align: top;\n",
              "    }\n",
              "\n",
              "    .dataframe thead th {\n",
              "        text-align: right;\n",
              "    }\n",
              "</style>\n",
              "<table border=\"1\" class=\"dataframe\">\n",
              "  <thead>\n",
              "    <tr style=\"text-align: right;\">\n",
              "      <th></th>\n",
              "      <th>Item_Identifier</th>\n",
              "      <th>Item_Category</th>\n",
              "      <th>Item_Type</th>\n",
              "    </tr>\n",
              "  </thead>\n",
              "  <tbody>\n",
              "    <tr>\n",
              "      <th>0</th>\n",
              "      <td>FDA15</td>\n",
              "      <td>FD</td>\n",
              "      <td>Dairy</td>\n",
              "    </tr>\n",
              "    <tr>\n",
              "      <th>1</th>\n",
              "      <td>DRC01</td>\n",
              "      <td>DR</td>\n",
              "      <td>Soft Drinks</td>\n",
              "    </tr>\n",
              "    <tr>\n",
              "      <th>2</th>\n",
              "      <td>FDN15</td>\n",
              "      <td>FD</td>\n",
              "      <td>Meat</td>\n",
              "    </tr>\n",
              "    <tr>\n",
              "      <th>3</th>\n",
              "      <td>FDX07</td>\n",
              "      <td>FD</td>\n",
              "      <td>Fruits and Vegetables</td>\n",
              "    </tr>\n",
              "    <tr>\n",
              "      <th>4</th>\n",
              "      <td>NCD19</td>\n",
              "      <td>NC</td>\n",
              "      <td>Household</td>\n",
              "    </tr>\n",
              "    <tr>\n",
              "      <th>5</th>\n",
              "      <td>FDP36</td>\n",
              "      <td>FD</td>\n",
              "      <td>Baking Goods</td>\n",
              "    </tr>\n",
              "    <tr>\n",
              "      <th>6</th>\n",
              "      <td>FDO10</td>\n",
              "      <td>FD</td>\n",
              "      <td>Snack Foods</td>\n",
              "    </tr>\n",
              "    <tr>\n",
              "      <th>7</th>\n",
              "      <td>FDP10</td>\n",
              "      <td>FD</td>\n",
              "      <td>Snack Foods</td>\n",
              "    </tr>\n",
              "    <tr>\n",
              "      <th>8</th>\n",
              "      <td>FDH17</td>\n",
              "      <td>FD</td>\n",
              "      <td>Frozen Foods</td>\n",
              "    </tr>\n",
              "    <tr>\n",
              "      <th>9</th>\n",
              "      <td>FDU28</td>\n",
              "      <td>FD</td>\n",
              "      <td>Frozen Foods</td>\n",
              "    </tr>\n",
              "    <tr>\n",
              "      <th>10</th>\n",
              "      <td>FDY07</td>\n",
              "      <td>FD</td>\n",
              "      <td>Fruits and Vegetables</td>\n",
              "    </tr>\n",
              "    <tr>\n",
              "      <th>11</th>\n",
              "      <td>FDA03</td>\n",
              "      <td>FD</td>\n",
              "      <td>Dairy</td>\n",
              "    </tr>\n",
              "    <tr>\n",
              "      <th>12</th>\n",
              "      <td>FDX32</td>\n",
              "      <td>FD</td>\n",
              "      <td>Fruits and Vegetables</td>\n",
              "    </tr>\n",
              "    <tr>\n",
              "      <th>13</th>\n",
              "      <td>FDS46</td>\n",
              "      <td>FD</td>\n",
              "      <td>Snack Foods</td>\n",
              "    </tr>\n",
              "    <tr>\n",
              "      <th>14</th>\n",
              "      <td>FDF32</td>\n",
              "      <td>FD</td>\n",
              "      <td>Fruits and Vegetables</td>\n",
              "    </tr>\n",
              "    <tr>\n",
              "      <th>15</th>\n",
              "      <td>FDP49</td>\n",
              "      <td>FD</td>\n",
              "      <td>Breakfast</td>\n",
              "    </tr>\n",
              "    <tr>\n",
              "      <th>16</th>\n",
              "      <td>NCB42</td>\n",
              "      <td>NC</td>\n",
              "      <td>Health and Hygiene</td>\n",
              "    </tr>\n",
              "    <tr>\n",
              "      <th>17</th>\n",
              "      <td>FDP49</td>\n",
              "      <td>FD</td>\n",
              "      <td>Breakfast</td>\n",
              "    </tr>\n",
              "    <tr>\n",
              "      <th>18</th>\n",
              "      <td>DRI11</td>\n",
              "      <td>DR</td>\n",
              "      <td>Hard Drinks</td>\n",
              "    </tr>\n",
              "    <tr>\n",
              "      <th>19</th>\n",
              "      <td>FDU02</td>\n",
              "      <td>FD</td>\n",
              "      <td>Dairy</td>\n",
              "    </tr>\n",
              "  </tbody>\n",
              "</table>\n",
              "</div>\n",
              "    <div class=\"colab-df-buttons\">\n",
              "\n",
              "  <div class=\"colab-df-container\">\n",
              "    <button class=\"colab-df-convert\" onclick=\"convertToInteractive('df-b9efebd7-1099-4d50-b583-bab1092d2afd')\"\n",
              "            title=\"Convert this dataframe to an interactive table.\"\n",
              "            style=\"display:none;\">\n",
              "\n",
              "  <svg xmlns=\"http://www.w3.org/2000/svg\" height=\"24px\" viewBox=\"0 -960 960 960\">\n",
              "    <path d=\"M120-120v-720h720v720H120Zm60-500h600v-160H180v160Zm220 220h160v-160H400v160Zm0 220h160v-160H400v160ZM180-400h160v-160H180v160Zm440 0h160v-160H620v160ZM180-180h160v-160H180v160Zm440 0h160v-160H620v160Z\"/>\n",
              "  </svg>\n",
              "    </button>\n",
              "\n",
              "  <style>\n",
              "    .colab-df-container {\n",
              "      display:flex;\n",
              "      gap: 12px;\n",
              "    }\n",
              "\n",
              "    .colab-df-convert {\n",
              "      background-color: #E8F0FE;\n",
              "      border: none;\n",
              "      border-radius: 50%;\n",
              "      cursor: pointer;\n",
              "      display: none;\n",
              "      fill: #1967D2;\n",
              "      height: 32px;\n",
              "      padding: 0 0 0 0;\n",
              "      width: 32px;\n",
              "    }\n",
              "\n",
              "    .colab-df-convert:hover {\n",
              "      background-color: #E2EBFA;\n",
              "      box-shadow: 0px 1px 2px rgba(60, 64, 67, 0.3), 0px 1px 3px 1px rgba(60, 64, 67, 0.15);\n",
              "      fill: #174EA6;\n",
              "    }\n",
              "\n",
              "    .colab-df-buttons div {\n",
              "      margin-bottom: 4px;\n",
              "    }\n",
              "\n",
              "    [theme=dark] .colab-df-convert {\n",
              "      background-color: #3B4455;\n",
              "      fill: #D2E3FC;\n",
              "    }\n",
              "\n",
              "    [theme=dark] .colab-df-convert:hover {\n",
              "      background-color: #434B5C;\n",
              "      box-shadow: 0px 1px 3px 1px rgba(0, 0, 0, 0.15);\n",
              "      filter: drop-shadow(0px 1px 2px rgba(0, 0, 0, 0.3));\n",
              "      fill: #FFFFFF;\n",
              "    }\n",
              "  </style>\n",
              "\n",
              "    <script>\n",
              "      const buttonEl =\n",
              "        document.querySelector('#df-b9efebd7-1099-4d50-b583-bab1092d2afd button.colab-df-convert');\n",
              "      buttonEl.style.display =\n",
              "        google.colab.kernel.accessAllowed ? 'block' : 'none';\n",
              "\n",
              "      async function convertToInteractive(key) {\n",
              "        const element = document.querySelector('#df-b9efebd7-1099-4d50-b583-bab1092d2afd');\n",
              "        const dataTable =\n",
              "          await google.colab.kernel.invokeFunction('convertToInteractive',\n",
              "                                                    [key], {});\n",
              "        if (!dataTable) return;\n",
              "\n",
              "        const docLinkHtml = 'Like what you see? Visit the ' +\n",
              "          '<a target=\"_blank\" href=https://colab.research.google.com/notebooks/data_table.ipynb>data table notebook</a>'\n",
              "          + ' to learn more about interactive tables.';\n",
              "        element.innerHTML = '';\n",
              "        dataTable['output_type'] = 'display_data';\n",
              "        await google.colab.output.renderOutput(dataTable, element);\n",
              "        const docLink = document.createElement('div');\n",
              "        docLink.innerHTML = docLinkHtml;\n",
              "        element.appendChild(docLink);\n",
              "      }\n",
              "    </script>\n",
              "  </div>\n",
              "\n",
              "\n",
              "<div id=\"df-659ec5a6-ca39-4e9f-8db4-e988661d8120\">\n",
              "  <button class=\"colab-df-quickchart\" onclick=\"quickchart('df-659ec5a6-ca39-4e9f-8db4-e988661d8120')\"\n",
              "            title=\"Suggest charts\"\n",
              "            style=\"display:none;\">\n",
              "\n",
              "<svg xmlns=\"http://www.w3.org/2000/svg\" height=\"24px\"viewBox=\"0 0 24 24\"\n",
              "     width=\"24px\">\n",
              "    <g>\n",
              "        <path d=\"M19 3H5c-1.1 0-2 .9-2 2v14c0 1.1.9 2 2 2h14c1.1 0 2-.9 2-2V5c0-1.1-.9-2-2-2zM9 17H7v-7h2v7zm4 0h-2V7h2v10zm4 0h-2v-4h2v4z\"/>\n",
              "    </g>\n",
              "</svg>\n",
              "  </button>\n",
              "\n",
              "<style>\n",
              "  .colab-df-quickchart {\n",
              "      --bg-color: #E8F0FE;\n",
              "      --fill-color: #1967D2;\n",
              "      --hover-bg-color: #E2EBFA;\n",
              "      --hover-fill-color: #174EA6;\n",
              "      --disabled-fill-color: #AAA;\n",
              "      --disabled-bg-color: #DDD;\n",
              "  }\n",
              "\n",
              "  [theme=dark] .colab-df-quickchart {\n",
              "      --bg-color: #3B4455;\n",
              "      --fill-color: #D2E3FC;\n",
              "      --hover-bg-color: #434B5C;\n",
              "      --hover-fill-color: #FFFFFF;\n",
              "      --disabled-bg-color: #3B4455;\n",
              "      --disabled-fill-color: #666;\n",
              "  }\n",
              "\n",
              "  .colab-df-quickchart {\n",
              "    background-color: var(--bg-color);\n",
              "    border: none;\n",
              "    border-radius: 50%;\n",
              "    cursor: pointer;\n",
              "    display: none;\n",
              "    fill: var(--fill-color);\n",
              "    height: 32px;\n",
              "    padding: 0;\n",
              "    width: 32px;\n",
              "  }\n",
              "\n",
              "  .colab-df-quickchart:hover {\n",
              "    background-color: var(--hover-bg-color);\n",
              "    box-shadow: 0 1px 2px rgba(60, 64, 67, 0.3), 0 1px 3px 1px rgba(60, 64, 67, 0.15);\n",
              "    fill: var(--button-hover-fill-color);\n",
              "  }\n",
              "\n",
              "  .colab-df-quickchart-complete:disabled,\n",
              "  .colab-df-quickchart-complete:disabled:hover {\n",
              "    background-color: var(--disabled-bg-color);\n",
              "    fill: var(--disabled-fill-color);\n",
              "    box-shadow: none;\n",
              "  }\n",
              "\n",
              "  .colab-df-spinner {\n",
              "    border: 2px solid var(--fill-color);\n",
              "    border-color: transparent;\n",
              "    border-bottom-color: var(--fill-color);\n",
              "    animation:\n",
              "      spin 1s steps(1) infinite;\n",
              "  }\n",
              "\n",
              "  @keyframes spin {\n",
              "    0% {\n",
              "      border-color: transparent;\n",
              "      border-bottom-color: var(--fill-color);\n",
              "      border-left-color: var(--fill-color);\n",
              "    }\n",
              "    20% {\n",
              "      border-color: transparent;\n",
              "      border-left-color: var(--fill-color);\n",
              "      border-top-color: var(--fill-color);\n",
              "    }\n",
              "    30% {\n",
              "      border-color: transparent;\n",
              "      border-left-color: var(--fill-color);\n",
              "      border-top-color: var(--fill-color);\n",
              "      border-right-color: var(--fill-color);\n",
              "    }\n",
              "    40% {\n",
              "      border-color: transparent;\n",
              "      border-right-color: var(--fill-color);\n",
              "      border-top-color: var(--fill-color);\n",
              "    }\n",
              "    60% {\n",
              "      border-color: transparent;\n",
              "      border-right-color: var(--fill-color);\n",
              "    }\n",
              "    80% {\n",
              "      border-color: transparent;\n",
              "      border-right-color: var(--fill-color);\n",
              "      border-bottom-color: var(--fill-color);\n",
              "    }\n",
              "    90% {\n",
              "      border-color: transparent;\n",
              "      border-bottom-color: var(--fill-color);\n",
              "    }\n",
              "  }\n",
              "</style>\n",
              "\n",
              "  <script>\n",
              "    async function quickchart(key) {\n",
              "      const quickchartButtonEl =\n",
              "        document.querySelector('#' + key + ' button');\n",
              "      quickchartButtonEl.disabled = true;  // To prevent multiple clicks.\n",
              "      quickchartButtonEl.classList.add('colab-df-spinner');\n",
              "      try {\n",
              "        const charts = await google.colab.kernel.invokeFunction(\n",
              "            'suggestCharts', [key], {});\n",
              "      } catch (error) {\n",
              "        console.error('Error during call to suggestCharts:', error);\n",
              "      }\n",
              "      quickchartButtonEl.classList.remove('colab-df-spinner');\n",
              "      quickchartButtonEl.classList.add('colab-df-quickchart-complete');\n",
              "    }\n",
              "    (() => {\n",
              "      let quickchartButtonEl =\n",
              "        document.querySelector('#df-659ec5a6-ca39-4e9f-8db4-e988661d8120 button');\n",
              "      quickchartButtonEl.style.display =\n",
              "        google.colab.kernel.accessAllowed ? 'block' : 'none';\n",
              "    })();\n",
              "  </script>\n",
              "</div>\n",
              "\n",
              "    </div>\n",
              "  </div>\n"
            ],
            "application/vnd.google.colaboratory.intrinsic+json": {
              "type": "dataframe",
              "summary": "{\n  \"name\": \"df[['Item_Identifier', 'Item_Category', 'Item_Type']]\",\n  \"rows\": 20,\n  \"fields\": [\n    {\n      \"column\": \"Item_Identifier\",\n      \"properties\": {\n        \"dtype\": \"string\",\n        \"num_unique_values\": 19,\n        \"samples\": [\n          \"FDA15\",\n          \"FDP36\",\n          \"FDA03\"\n        ],\n        \"semantic_type\": \"\",\n        \"description\": \"\"\n      }\n    },\n    {\n      \"column\": \"Item_Category\",\n      \"properties\": {\n        \"dtype\": \"category\",\n        \"num_unique_values\": 3,\n        \"samples\": [\n          \"FD\",\n          \"DR\",\n          \"NC\"\n        ],\n        \"semantic_type\": \"\",\n        \"description\": \"\"\n      }\n    },\n    {\n      \"column\": \"Item_Type\",\n      \"properties\": {\n        \"dtype\": \"string\",\n        \"num_unique_values\": 11,\n        \"samples\": [\n          \"Baking Goods\",\n          \"Dairy\",\n          \"Health and Hygiene\"\n        ],\n        \"semantic_type\": \"\",\n        \"description\": \"\"\n      }\n    }\n  ]\n}"
            }
          },
          "metadata": {},
          "execution_count": 23
        }
      ]
    },
    {
      "cell_type": "markdown",
      "source": [
        "... ma forse un grafico è ancora più comodo ..."
      ],
      "metadata": {
        "id": "8xkTN5eYTjpd"
      }
    },
    {
      "cell_type": "code",
      "metadata": {
        "id": "LChRFE0TmpKn",
        "colab": {
          "base_uri": "https://localhost:8080/",
          "height": 542
        },
        "outputId": "5f186560-d488-4bd0-fb14-dfdac5e7db58"
      },
      "source": [
        "# usiamo plotly che ci permette poi di capire meglio il grafico rendendolo interattivo\n",
        "px.histogram(df, x=\"Item_Category\", color=\"Item_Type\")"
      ],
      "execution_count": null,
      "outputs": [
        {
          "output_type": "display_data",
          "data": {
            "text/html": [
              "<html>\n",
              "<head><meta charset=\"utf-8\" /></head>\n",
              "<body>\n",
              "    <div>            <script src=\"https://cdnjs.cloudflare.com/ajax/libs/mathjax/2.7.5/MathJax.js?config=TeX-AMS-MML_SVG\"></script><script type=\"text/javascript\">if (window.MathJax && window.MathJax.Hub && window.MathJax.Hub.Config) {window.MathJax.Hub.Config({SVG: {font: \"STIX-Web\"}});}</script>                <script type=\"text/javascript\">window.PlotlyConfig = {MathJaxConfig: 'local'};</script>\n",
              "        <script charset=\"utf-8\" src=\"https://cdn.plot.ly/plotly-2.24.1.min.js\"></script>                <div id=\"2a2cc120-f168-4f86-8968-465c571a714f\" class=\"plotly-graph-div\" style=\"height:525px; width:100%;\"></div>            <script type=\"text/javascript\">                                    window.PLOTLYENV=window.PLOTLYENV || {};                                    if (document.getElementById(\"2a2cc120-f168-4f86-8968-465c571a714f\")) {                    Plotly.newPlot(                        \"2a2cc120-f168-4f86-8968-465c571a714f\",                        [{\"alignmentgroup\":\"True\",\"bingroup\":\"x\",\"hovertemplate\":\"Item_Type=Dairy\\u003cbr\\u003eItem_Category=%{x}\\u003cbr\\u003ecount=%{y}\\u003cextra\\u003e\\u003c\\u002fextra\\u003e\",\"legendgroup\":\"Dairy\",\"marker\":{\"color\":\"#636efa\",\"pattern\":{\"shape\":\"\"}},\"name\":\"Dairy\",\"offsetgroup\":\"Dairy\",\"orientation\":\"v\",\"showlegend\":true,\"x\":[\"FD\",\"FD\",\"FD\",\"FD\",\"FD\",\"FD\",\"FD\",\"FD\",\"FD\",\"DR\",\"FD\",\"FD\",\"FD\",\"FD\",\"FD\",\"DR\",\"DR\",\"DR\",\"DR\",\"FD\",\"FD\",\"FD\",\"FD\",\"FD\",\"FD\",\"DR\",\"FD\",\"FD\",\"FD\",\"FD\",\"FD\",\"FD\",\"FD\",\"FD\",\"FD\",\"FD\",\"FD\",\"DR\",\"FD\",\"DR\",\"FD\",\"FD\",\"DR\",\"FD\",\"FD\",\"FD\",\"FD\",\"FD\",\"FD\",\"FD\",\"FD\",\"DR\",\"FD\",\"FD\",\"FD\",\"FD\",\"DR\",\"DR\",\"FD\",\"FD\",\"FD\",\"FD\",\"DR\",\"FD\",\"FD\",\"FD\",\"FD\",\"FD\",\"FD\",\"FD\",\"FD\",\"FD\",\"FD\",\"FD\",\"DR\",\"DR\",\"FD\",\"DR\",\"FD\",\"DR\",\"FD\",\"FD\",\"FD\",\"FD\",\"FD\",\"FD\",\"DR\",\"FD\",\"FD\",\"FD\",\"FD\",\"FD\",\"DR\",\"DR\",\"FD\",\"FD\",\"FD\",\"DR\",\"DR\",\"DR\",\"FD\",\"FD\",\"FD\",\"FD\",\"FD\",\"FD\",\"DR\",\"DR\",\"FD\",\"FD\",\"FD\",\"DR\",\"DR\",\"DR\",\"FD\",\"FD\",\"FD\",\"FD\",\"FD\",\"FD\",\"FD\",\"FD\",\"DR\",\"FD\",\"FD\",\"FD\",\"FD\",\"DR\",\"FD\",\"DR\",\"FD\",\"FD\",\"DR\",\"FD\",\"FD\",\"FD\",\"FD\",\"FD\",\"FD\",\"DR\",\"FD\",\"FD\",\"FD\",\"FD\",\"FD\",\"FD\",\"FD\",\"FD\",\"FD\",\"FD\",\"FD\",\"DR\",\"FD\",\"FD\",\"FD\",\"FD\",\"FD\",\"FD\",\"DR\",\"FD\",\"FD\",\"FD\",\"FD\",\"FD\",\"FD\",\"FD\",\"FD\",\"FD\",\"FD\",\"FD\",\"FD\",\"FD\",\"FD\",\"DR\",\"FD\",\"DR\",\"FD\",\"FD\",\"FD\",\"DR\",\"DR\",\"FD\",\"FD\",\"FD\",\"FD\",\"FD\",\"DR\",\"DR\",\"FD\",\"DR\",\"FD\",\"FD\",\"DR\",\"FD\",\"FD\",\"FD\",\"FD\",\"FD\",\"FD\",\"FD\",\"FD\",\"DR\",\"DR\",\"FD\",\"FD\",\"FD\",\"FD\",\"FD\",\"FD\",\"FD\",\"FD\",\"FD\",\"FD\",\"FD\",\"FD\",\"FD\",\"FD\",\"FD\",\"DR\",\"FD\",\"FD\",\"FD\",\"DR\",\"DR\",\"FD\",\"FD\",\"DR\",\"FD\",\"FD\",\"FD\",\"FD\",\"DR\",\"FD\",\"FD\",\"DR\",\"FD\",\"FD\",\"FD\",\"FD\",\"FD\",\"FD\",\"DR\",\"FD\",\"FD\",\"DR\",\"FD\",\"FD\",\"FD\",\"FD\",\"DR\",\"FD\",\"FD\",\"DR\",\"FD\",\"FD\",\"FD\",\"DR\",\"FD\",\"FD\",\"DR\",\"FD\",\"FD\",\"FD\",\"FD\",\"FD\",\"FD\",\"DR\",\"DR\",\"FD\",\"FD\",\"FD\",\"FD\",\"FD\",\"FD\",\"FD\",\"FD\",\"FD\",\"FD\",\"FD\",\"FD\",\"FD\",\"FD\",\"FD\",\"FD\",\"FD\",\"FD\",\"FD\",\"FD\",\"DR\",\"DR\",\"FD\",\"FD\",\"FD\",\"FD\",\"FD\",\"DR\",\"DR\",\"FD\",\"FD\",\"FD\",\"FD\",\"FD\",\"FD\",\"FD\",\"DR\",\"FD\",\"FD\",\"DR\",\"FD\",\"FD\",\"DR\",\"DR\",\"DR\",\"FD\",\"FD\",\"FD\",\"FD\",\"FD\",\"FD\",\"FD\",\"FD\",\"DR\",\"DR\",\"DR\",\"FD\",\"FD\",\"FD\",\"DR\",\"FD\",\"FD\",\"FD\",\"FD\",\"FD\",\"FD\",\"FD\",\"FD\",\"FD\",\"FD\",\"DR\",\"DR\",\"FD\",\"FD\",\"FD\",\"DR\",\"FD\",\"FD\",\"FD\",\"DR\",\"DR\",\"FD\",\"FD\",\"FD\",\"FD\",\"FD\",\"FD\",\"FD\",\"FD\",\"DR\",\"FD\",\"DR\",\"FD\",\"DR\",\"FD\",\"DR\",\"DR\",\"FD\",\"FD\",\"DR\",\"DR\",\"FD\",\"FD\",\"FD\",\"FD\",\"FD\",\"DR\",\"DR\",\"FD\",\"FD\",\"FD\",\"DR\",\"FD\",\"FD\",\"FD\",\"FD\",\"FD\",\"FD\",\"FD\",\"FD\",\"FD\",\"DR\",\"FD\",\"FD\",\"DR\",\"FD\",\"FD\",\"FD\",\"FD\",\"FD\",\"FD\",\"FD\",\"FD\",\"FD\",\"FD\",\"DR\",\"FD\",\"FD\",\"FD\",\"FD\",\"FD\",\"FD\",\"FD\",\"FD\",\"FD\",\"FD\",\"FD\",\"FD\",\"FD\",\"FD\",\"FD\",\"DR\",\"FD\",\"FD\",\"FD\",\"FD\",\"DR\",\"FD\",\"FD\",\"FD\",\"FD\",\"FD\",\"FD\",\"DR\",\"FD\",\"FD\",\"FD\",\"FD\",\"FD\",\"FD\",\"FD\",\"FD\",\"DR\",\"FD\",\"DR\",\"FD\",\"FD\",\"FD\",\"FD\",\"FD\",\"FD\",\"FD\",\"FD\",\"FD\",\"FD\",\"FD\",\"DR\",\"FD\",\"FD\",\"FD\",\"FD\",\"FD\",\"DR\",\"FD\",\"FD\",\"FD\",\"FD\",\"DR\",\"FD\",\"FD\",\"FD\",\"FD\",\"FD\",\"FD\",\"FD\",\"FD\",\"FD\",\"FD\",\"DR\",\"FD\",\"FD\",\"DR\",\"FD\",\"FD\",\"FD\",\"DR\",\"DR\",\"FD\",\"FD\",\"DR\",\"FD\",\"FD\",\"FD\",\"FD\",\"FD\",\"DR\",\"FD\",\"DR\",\"FD\",\"FD\",\"FD\",\"DR\",\"FD\",\"FD\",\"FD\",\"FD\",\"FD\",\"FD\",\"FD\",\"DR\",\"FD\",\"FD\",\"DR\",\"DR\",\"FD\",\"FD\",\"FD\",\"FD\",\"FD\",\"DR\",\"FD\",\"FD\",\"FD\",\"FD\",\"FD\",\"FD\",\"FD\",\"FD\",\"DR\",\"FD\",\"FD\",\"FD\",\"FD\",\"FD\",\"DR\",\"FD\",\"FD\",\"DR\",\"FD\",\"DR\",\"FD\",\"DR\",\"FD\",\"FD\",\"FD\",\"DR\",\"FD\",\"FD\",\"FD\",\"FD\",\"FD\",\"DR\",\"FD\",\"FD\",\"FD\",\"FD\",\"DR\",\"FD\",\"DR\",\"FD\",\"FD\",\"FD\",\"FD\",\"FD\",\"FD\",\"FD\",\"FD\",\"FD\",\"FD\",\"FD\",\"FD\",\"FD\",\"FD\",\"FD\",\"FD\",\"DR\",\"FD\",\"FD\",\"FD\",\"FD\",\"DR\",\"FD\",\"DR\",\"FD\",\"FD\",\"DR\",\"DR\",\"DR\",\"FD\",\"DR\",\"FD\",\"FD\",\"FD\",\"FD\",\"DR\",\"FD\",\"FD\",\"FD\",\"FD\",\"FD\",\"FD\",\"FD\",\"FD\",\"FD\",\"DR\",\"FD\",\"FD\",\"DR\",\"FD\",\"FD\",\"FD\",\"FD\",\"FD\",\"FD\",\"FD\",\"DR\",\"DR\",\"FD\",\"FD\",\"FD\",\"FD\",\"FD\",\"FD\",\"FD\",\"FD\",\"FD\",\"FD\",\"FD\",\"DR\",\"FD\",\"FD\",\"DR\",\"FD\",\"FD\",\"FD\",\"DR\",\"FD\",\"FD\",\"FD\",\"FD\",\"FD\",\"FD\",\"DR\",\"FD\",\"FD\",\"FD\",\"FD\",\"FD\",\"FD\",\"FD\",\"FD\",\"DR\",\"FD\",\"DR\",\"FD\",\"FD\",\"FD\",\"DR\",\"FD\",\"FD\",\"FD\",\"FD\",\"FD\",\"FD\",\"FD\",\"FD\",\"FD\",\"DR\",\"FD\",\"FD\",\"FD\",\"FD\",\"FD\",\"FD\",\"FD\",\"FD\",\"FD\",\"FD\",\"DR\",\"FD\",\"FD\",\"FD\",\"FD\",\"FD\"],\"xaxis\":\"x\",\"yaxis\":\"y\",\"type\":\"histogram\"},{\"alignmentgroup\":\"True\",\"bingroup\":\"x\",\"hovertemplate\":\"Item_Type=Soft Drinks\\u003cbr\\u003eItem_Category=%{x}\\u003cbr\\u003ecount=%{y}\\u003cextra\\u003e\\u003c\\u002fextra\\u003e\",\"legendgroup\":\"Soft Drinks\",\"marker\":{\"color\":\"#EF553B\",\"pattern\":{\"shape\":\"\"}},\"name\":\"Soft Drinks\",\"offsetgroup\":\"Soft Drinks\",\"orientation\":\"v\",\"showlegend\":true,\"x\":[\"DR\",\"DR\",\"DR\",\"DR\",\"DR\",\"DR\",\"DR\",\"DR\",\"DR\",\"DR\",\"DR\",\"DR\",\"DR\",\"DR\",\"DR\",\"DR\",\"DR\",\"DR\",\"DR\",\"DR\",\"DR\",\"DR\",\"DR\",\"DR\",\"DR\",\"DR\",\"DR\",\"DR\",\"DR\",\"DR\",\"DR\",\"DR\",\"DR\",\"DR\",\"DR\",\"DR\",\"DR\",\"DR\",\"DR\",\"DR\",\"DR\",\"DR\",\"DR\",\"DR\",\"DR\",\"DR\",\"DR\",\"DR\",\"DR\",\"DR\",\"DR\",\"DR\",\"DR\",\"DR\",\"DR\",\"DR\",\"DR\",\"DR\",\"DR\",\"DR\",\"DR\",\"DR\",\"DR\",\"DR\",\"DR\",\"DR\",\"DR\",\"DR\",\"DR\",\"DR\",\"DR\",\"DR\",\"DR\",\"DR\",\"DR\",\"DR\",\"DR\",\"DR\",\"DR\",\"DR\",\"DR\",\"DR\",\"DR\",\"DR\",\"DR\",\"DR\",\"DR\",\"DR\",\"DR\",\"DR\",\"DR\",\"DR\",\"DR\",\"DR\",\"DR\",\"DR\",\"DR\",\"DR\",\"DR\",\"DR\",\"DR\",\"DR\",\"DR\",\"DR\",\"DR\",\"DR\",\"DR\",\"DR\",\"DR\",\"DR\",\"DR\",\"DR\",\"DR\",\"DR\",\"DR\",\"DR\",\"DR\",\"DR\",\"DR\",\"DR\",\"DR\",\"DR\",\"DR\",\"DR\",\"DR\",\"DR\",\"DR\",\"DR\",\"DR\",\"DR\",\"DR\",\"DR\",\"DR\",\"DR\",\"DR\",\"DR\",\"DR\",\"DR\",\"DR\",\"DR\",\"DR\",\"DR\",\"DR\",\"DR\",\"DR\",\"DR\",\"DR\",\"DR\",\"DR\",\"DR\",\"DR\",\"DR\",\"DR\",\"DR\",\"DR\",\"DR\",\"DR\",\"DR\",\"DR\",\"DR\",\"DR\",\"DR\",\"DR\",\"DR\",\"DR\",\"DR\",\"DR\",\"DR\",\"DR\",\"DR\",\"DR\",\"DR\",\"DR\",\"DR\",\"DR\",\"DR\",\"DR\",\"DR\",\"DR\",\"DR\",\"DR\",\"DR\",\"DR\",\"DR\",\"DR\",\"DR\",\"DR\",\"DR\",\"DR\",\"DR\",\"DR\",\"DR\",\"DR\",\"DR\",\"DR\",\"DR\",\"DR\",\"DR\",\"DR\",\"DR\",\"DR\",\"DR\",\"DR\",\"DR\",\"DR\",\"DR\",\"DR\",\"DR\",\"DR\",\"DR\",\"DR\",\"DR\",\"DR\",\"DR\",\"DR\",\"DR\",\"DR\",\"DR\",\"DR\",\"DR\",\"DR\",\"DR\",\"DR\",\"DR\",\"DR\",\"DR\",\"DR\",\"DR\",\"DR\",\"DR\",\"DR\",\"DR\",\"DR\",\"DR\",\"DR\",\"DR\",\"DR\",\"DR\",\"DR\",\"DR\",\"DR\",\"DR\",\"DR\",\"DR\",\"DR\",\"DR\",\"DR\",\"DR\",\"DR\",\"DR\",\"DR\",\"DR\",\"DR\",\"DR\",\"DR\",\"DR\",\"DR\",\"DR\",\"DR\",\"DR\",\"DR\",\"DR\",\"DR\",\"DR\",\"DR\",\"DR\",\"DR\",\"DR\",\"DR\",\"DR\",\"DR\",\"DR\",\"DR\",\"DR\",\"DR\",\"DR\",\"DR\",\"DR\",\"DR\",\"DR\",\"DR\",\"DR\",\"DR\",\"DR\",\"DR\",\"DR\",\"DR\",\"DR\",\"DR\",\"DR\",\"DR\",\"DR\",\"DR\",\"DR\",\"DR\",\"DR\",\"DR\",\"DR\",\"DR\",\"DR\",\"DR\",\"DR\",\"DR\",\"DR\",\"DR\",\"DR\",\"DR\",\"DR\",\"DR\",\"DR\",\"DR\",\"DR\",\"DR\",\"DR\",\"DR\",\"DR\",\"DR\",\"DR\",\"DR\",\"DR\",\"DR\",\"DR\",\"DR\",\"DR\",\"DR\",\"DR\",\"DR\",\"DR\",\"DR\",\"DR\",\"DR\",\"DR\",\"DR\",\"DR\",\"DR\",\"DR\",\"DR\",\"DR\",\"DR\",\"DR\",\"DR\",\"DR\",\"DR\",\"DR\",\"DR\",\"DR\",\"DR\",\"DR\",\"DR\",\"DR\",\"DR\",\"DR\",\"DR\",\"DR\",\"DR\",\"DR\",\"DR\",\"DR\",\"DR\",\"DR\",\"DR\",\"DR\",\"DR\",\"DR\",\"DR\",\"DR\",\"DR\",\"DR\",\"DR\",\"DR\",\"DR\",\"DR\",\"DR\",\"DR\",\"DR\",\"DR\",\"DR\",\"DR\",\"DR\",\"DR\",\"DR\",\"DR\",\"DR\",\"DR\",\"DR\",\"DR\",\"DR\",\"DR\",\"DR\",\"DR\",\"DR\",\"DR\",\"DR\",\"DR\",\"DR\",\"DR\",\"DR\",\"DR\",\"DR\",\"DR\",\"DR\",\"DR\",\"DR\",\"DR\",\"DR\",\"DR\",\"DR\",\"DR\",\"DR\",\"DR\",\"DR\",\"DR\",\"DR\",\"DR\",\"DR\",\"DR\",\"DR\",\"DR\",\"DR\",\"DR\",\"DR\",\"DR\",\"DR\",\"DR\",\"DR\",\"DR\",\"DR\",\"DR\",\"DR\",\"DR\",\"DR\",\"DR\",\"DR\",\"DR\",\"DR\",\"DR\",\"DR\",\"DR\",\"DR\",\"DR\",\"DR\",\"DR\",\"DR\",\"DR\",\"DR\"],\"xaxis\":\"x\",\"yaxis\":\"y\",\"type\":\"histogram\"},{\"alignmentgroup\":\"True\",\"bingroup\":\"x\",\"hovertemplate\":\"Item_Type=Meat\\u003cbr\\u003eItem_Category=%{x}\\u003cbr\\u003ecount=%{y}\\u003cextra\\u003e\\u003c\\u002fextra\\u003e\",\"legendgroup\":\"Meat\",\"marker\":{\"color\":\"#00cc96\",\"pattern\":{\"shape\":\"\"}},\"name\":\"Meat\",\"offsetgroup\":\"Meat\",\"orientation\":\"v\",\"showlegend\":true,\"x\":[\"FD\",\"FD\",\"FD\",\"FD\",\"FD\",\"FD\",\"FD\",\"FD\",\"FD\",\"FD\",\"FD\",\"FD\",\"FD\",\"FD\",\"FD\",\"FD\",\"FD\",\"FD\",\"FD\",\"FD\",\"FD\",\"FD\",\"FD\",\"FD\",\"FD\",\"FD\",\"FD\",\"FD\",\"FD\",\"FD\",\"FD\",\"FD\",\"FD\",\"FD\",\"FD\",\"FD\",\"FD\",\"FD\",\"FD\",\"FD\",\"FD\",\"FD\",\"FD\",\"FD\",\"FD\",\"FD\",\"FD\",\"FD\",\"FD\",\"FD\",\"FD\",\"FD\",\"FD\",\"FD\",\"FD\",\"FD\",\"FD\",\"FD\",\"FD\",\"FD\",\"FD\",\"FD\",\"FD\",\"FD\",\"FD\",\"FD\",\"FD\",\"FD\",\"FD\",\"FD\",\"FD\",\"FD\",\"FD\",\"FD\",\"FD\",\"FD\",\"FD\",\"FD\",\"FD\",\"FD\",\"FD\",\"FD\",\"FD\",\"FD\",\"FD\",\"FD\",\"FD\",\"FD\",\"FD\",\"FD\",\"FD\",\"FD\",\"FD\",\"FD\",\"FD\",\"FD\",\"FD\",\"FD\",\"FD\",\"FD\",\"FD\",\"FD\",\"FD\",\"FD\",\"FD\",\"FD\",\"FD\",\"FD\",\"FD\",\"FD\",\"FD\",\"FD\",\"FD\",\"FD\",\"FD\",\"FD\",\"FD\",\"FD\",\"FD\",\"FD\",\"FD\",\"FD\",\"FD\",\"FD\",\"FD\",\"FD\",\"FD\",\"FD\",\"FD\",\"FD\",\"FD\",\"FD\",\"FD\",\"FD\",\"FD\",\"FD\",\"FD\",\"FD\",\"FD\",\"FD\",\"FD\",\"FD\",\"FD\",\"FD\",\"FD\",\"FD\",\"FD\",\"FD\",\"FD\",\"FD\",\"FD\",\"FD\",\"FD\",\"FD\",\"FD\",\"FD\",\"FD\",\"FD\",\"FD\",\"FD\",\"FD\",\"FD\",\"FD\",\"FD\",\"FD\",\"FD\",\"FD\",\"FD\",\"FD\",\"FD\",\"FD\",\"FD\",\"FD\",\"FD\",\"FD\",\"FD\",\"FD\",\"FD\",\"FD\",\"FD\",\"FD\",\"FD\",\"FD\",\"FD\",\"FD\",\"FD\",\"FD\",\"FD\",\"FD\",\"FD\",\"FD\",\"FD\",\"FD\",\"FD\",\"FD\",\"FD\",\"FD\",\"FD\",\"FD\",\"FD\",\"FD\",\"FD\",\"FD\",\"FD\",\"FD\",\"FD\",\"FD\",\"FD\",\"FD\",\"FD\",\"FD\",\"FD\",\"FD\",\"FD\",\"FD\",\"FD\",\"FD\",\"FD\",\"FD\",\"FD\",\"FD\",\"FD\",\"FD\",\"FD\",\"FD\",\"FD\",\"FD\",\"FD\",\"FD\",\"FD\",\"FD\",\"FD\",\"FD\",\"FD\",\"FD\",\"FD\",\"FD\",\"FD\",\"FD\",\"FD\",\"FD\",\"FD\",\"FD\",\"FD\",\"FD\",\"FD\",\"FD\",\"FD\",\"FD\",\"FD\",\"FD\",\"FD\",\"FD\",\"FD\",\"FD\",\"FD\",\"FD\",\"FD\",\"FD\",\"FD\",\"FD\",\"FD\",\"FD\",\"FD\",\"FD\",\"FD\",\"FD\",\"FD\",\"FD\",\"FD\",\"FD\",\"FD\",\"FD\",\"FD\",\"FD\",\"FD\",\"FD\",\"FD\",\"FD\",\"FD\",\"FD\",\"FD\",\"FD\",\"FD\",\"FD\",\"FD\",\"FD\",\"FD\",\"FD\",\"FD\",\"FD\",\"FD\",\"FD\",\"FD\",\"FD\",\"FD\",\"FD\",\"FD\",\"FD\",\"FD\",\"FD\",\"FD\",\"FD\",\"FD\",\"FD\",\"FD\",\"FD\",\"FD\",\"FD\",\"FD\",\"FD\",\"FD\",\"FD\",\"FD\",\"FD\",\"FD\",\"FD\",\"FD\",\"FD\",\"FD\",\"FD\",\"FD\",\"FD\",\"FD\",\"FD\",\"FD\",\"FD\",\"FD\",\"FD\",\"FD\",\"FD\",\"FD\",\"FD\",\"FD\",\"FD\",\"FD\",\"FD\",\"FD\",\"FD\",\"FD\",\"FD\",\"FD\",\"FD\",\"FD\",\"FD\",\"FD\",\"FD\",\"FD\",\"FD\",\"FD\",\"FD\",\"FD\",\"FD\",\"FD\",\"FD\",\"FD\",\"FD\",\"FD\",\"FD\",\"FD\",\"FD\",\"FD\",\"FD\",\"FD\",\"FD\",\"FD\",\"FD\",\"FD\",\"FD\",\"FD\",\"FD\",\"FD\",\"FD\",\"FD\",\"FD\",\"FD\",\"FD\",\"FD\",\"FD\",\"FD\",\"FD\",\"FD\",\"FD\",\"FD\",\"FD\",\"FD\",\"FD\",\"FD\",\"FD\",\"FD\",\"FD\",\"FD\",\"FD\",\"FD\",\"FD\",\"FD\",\"FD\",\"FD\",\"FD\",\"FD\",\"FD\",\"FD\",\"FD\",\"FD\",\"FD\",\"FD\",\"FD\",\"FD\",\"FD\",\"FD\",\"FD\",\"FD\",\"FD\",\"FD\",\"FD\",\"FD\",\"FD\",\"FD\",\"FD\",\"FD\",\"FD\",\"FD\",\"FD\",\"FD\",\"FD\"],\"xaxis\":\"x\",\"yaxis\":\"y\",\"type\":\"histogram\"},{\"alignmentgroup\":\"True\",\"bingroup\":\"x\",\"hovertemplate\":\"Item_Type=Fruits and Vegetables\\u003cbr\\u003eItem_Category=%{x}\\u003cbr\\u003ecount=%{y}\\u003cextra\\u003e\\u003c\\u002fextra\\u003e\",\"legendgroup\":\"Fruits and Vegetables\",\"marker\":{\"color\":\"#ab63fa\",\"pattern\":{\"shape\":\"\"}},\"name\":\"Fruits and Vegetables\",\"offsetgroup\":\"Fruits and Vegetables\",\"orientation\":\"v\",\"showlegend\":true,\"x\":[\"FD\",\"FD\",\"FD\",\"FD\",\"FD\",\"FD\",\"FD\",\"FD\",\"FD\",\"FD\",\"FD\",\"FD\",\"FD\",\"FD\",\"FD\",\"FD\",\"FD\",\"FD\",\"FD\",\"FD\",\"FD\",\"FD\",\"FD\",\"FD\",\"FD\",\"FD\",\"FD\",\"FD\",\"FD\",\"FD\",\"FD\",\"FD\",\"FD\",\"FD\",\"FD\",\"FD\",\"FD\",\"FD\",\"FD\",\"FD\",\"FD\",\"FD\",\"FD\",\"FD\",\"FD\",\"FD\",\"FD\",\"FD\",\"FD\",\"FD\",\"FD\",\"FD\",\"FD\",\"FD\",\"FD\",\"FD\",\"FD\",\"FD\",\"FD\",\"FD\",\"FD\",\"FD\",\"FD\",\"FD\",\"FD\",\"FD\",\"FD\",\"FD\",\"FD\",\"FD\",\"FD\",\"FD\",\"FD\",\"FD\",\"FD\",\"FD\",\"FD\",\"FD\",\"FD\",\"FD\",\"FD\",\"FD\",\"FD\",\"FD\",\"FD\",\"FD\",\"FD\",\"FD\",\"FD\",\"FD\",\"FD\",\"FD\",\"FD\",\"FD\",\"FD\",\"FD\",\"FD\",\"FD\",\"FD\",\"FD\",\"FD\",\"FD\",\"FD\",\"FD\",\"FD\",\"FD\",\"FD\",\"FD\",\"FD\",\"FD\",\"FD\",\"FD\",\"FD\",\"FD\",\"FD\",\"FD\",\"FD\",\"FD\",\"FD\",\"FD\",\"FD\",\"FD\",\"FD\",\"FD\",\"FD\",\"FD\",\"FD\",\"FD\",\"FD\",\"FD\",\"FD\",\"FD\",\"FD\",\"FD\",\"FD\",\"FD\",\"FD\",\"FD\",\"FD\",\"FD\",\"FD\",\"FD\",\"FD\",\"FD\",\"FD\",\"FD\",\"FD\",\"FD\",\"FD\",\"FD\",\"FD\",\"FD\",\"FD\",\"FD\",\"FD\",\"FD\",\"FD\",\"FD\",\"FD\",\"FD\",\"FD\",\"FD\",\"FD\",\"FD\",\"FD\",\"FD\",\"FD\",\"FD\",\"FD\",\"FD\",\"FD\",\"FD\",\"FD\",\"FD\",\"FD\",\"FD\",\"FD\",\"FD\",\"FD\",\"FD\",\"FD\",\"FD\",\"FD\",\"FD\",\"FD\",\"FD\",\"FD\",\"FD\",\"FD\",\"FD\",\"FD\",\"FD\",\"FD\",\"FD\",\"FD\",\"FD\",\"FD\",\"FD\",\"FD\",\"FD\",\"FD\",\"FD\",\"FD\",\"FD\",\"FD\",\"FD\",\"FD\",\"FD\",\"FD\",\"FD\",\"FD\",\"FD\",\"FD\",\"FD\",\"FD\",\"FD\",\"FD\",\"FD\",\"FD\",\"FD\",\"FD\",\"FD\",\"FD\",\"FD\",\"FD\",\"FD\",\"FD\",\"FD\",\"FD\",\"FD\",\"FD\",\"FD\",\"FD\",\"FD\",\"FD\",\"FD\",\"FD\",\"FD\",\"FD\",\"FD\",\"FD\",\"FD\",\"FD\",\"FD\",\"FD\",\"FD\",\"FD\",\"FD\",\"FD\",\"FD\",\"FD\",\"FD\",\"FD\",\"FD\",\"FD\",\"FD\",\"FD\",\"FD\",\"FD\",\"FD\",\"FD\",\"FD\",\"FD\",\"FD\",\"FD\",\"FD\",\"FD\",\"FD\",\"FD\",\"FD\",\"FD\",\"FD\",\"FD\",\"FD\",\"FD\",\"FD\",\"FD\",\"FD\",\"FD\",\"FD\",\"FD\",\"FD\",\"FD\",\"FD\",\"FD\",\"FD\",\"FD\",\"FD\",\"FD\",\"FD\",\"FD\",\"FD\",\"FD\",\"FD\",\"FD\",\"FD\",\"FD\",\"FD\",\"FD\",\"FD\",\"FD\",\"FD\",\"FD\",\"FD\",\"FD\",\"FD\",\"FD\",\"FD\",\"FD\",\"FD\",\"FD\",\"FD\",\"FD\",\"FD\",\"FD\",\"FD\",\"FD\",\"FD\",\"FD\",\"FD\",\"FD\",\"FD\",\"FD\",\"FD\",\"FD\",\"FD\",\"FD\",\"FD\",\"FD\",\"FD\",\"FD\",\"FD\",\"FD\",\"FD\",\"FD\",\"FD\",\"FD\",\"FD\",\"FD\",\"FD\",\"FD\",\"FD\",\"FD\",\"FD\",\"FD\",\"FD\",\"FD\",\"FD\",\"FD\",\"FD\",\"FD\",\"FD\",\"FD\",\"FD\",\"FD\",\"FD\",\"FD\",\"FD\",\"FD\",\"FD\",\"FD\",\"FD\",\"FD\",\"FD\",\"FD\",\"FD\",\"FD\",\"FD\",\"FD\",\"FD\",\"FD\",\"FD\",\"FD\",\"FD\",\"FD\",\"FD\",\"FD\",\"FD\",\"FD\",\"FD\",\"FD\",\"FD\",\"FD\",\"FD\",\"FD\",\"FD\",\"FD\",\"FD\",\"FD\",\"FD\",\"FD\",\"FD\",\"FD\",\"FD\",\"FD\",\"FD\",\"FD\",\"FD\",\"FD\",\"FD\",\"FD\",\"FD\",\"FD\",\"FD\",\"FD\",\"FD\",\"FD\",\"FD\",\"FD\",\"FD\",\"FD\",\"FD\",\"FD\",\"FD\",\"FD\",\"FD\",\"FD\",\"FD\",\"FD\",\"FD\",\"FD\",\"FD\",\"FD\",\"FD\",\"FD\",\"FD\",\"FD\",\"FD\",\"FD\",\"FD\",\"FD\",\"FD\",\"FD\",\"FD\",\"FD\",\"FD\",\"FD\",\"FD\",\"FD\",\"FD\",\"FD\",\"FD\",\"FD\",\"FD\",\"FD\",\"FD\",\"FD\",\"FD\",\"FD\",\"FD\",\"FD\",\"FD\",\"FD\",\"FD\",\"FD\",\"FD\",\"FD\",\"FD\",\"FD\",\"FD\",\"FD\",\"FD\",\"FD\",\"FD\",\"FD\",\"FD\",\"FD\",\"FD\",\"FD\",\"FD\",\"FD\",\"FD\",\"FD\",\"FD\",\"FD\",\"FD\",\"FD\",\"FD\",\"FD\",\"FD\",\"FD\",\"FD\",\"FD\",\"FD\",\"FD\",\"FD\",\"FD\",\"FD\",\"FD\",\"FD\",\"FD\",\"FD\",\"FD\",\"FD\",\"FD\",\"FD\",\"FD\",\"FD\",\"FD\",\"FD\",\"FD\",\"FD\",\"FD\",\"FD\",\"FD\",\"FD\",\"FD\",\"FD\",\"FD\",\"FD\",\"FD\",\"FD\",\"FD\",\"FD\",\"FD\",\"FD\",\"FD\",\"FD\",\"FD\",\"FD\",\"FD\",\"FD\",\"FD\",\"FD\",\"FD\",\"FD\",\"FD\",\"FD\",\"FD\",\"FD\",\"FD\",\"FD\",\"FD\",\"FD\",\"FD\",\"FD\",\"FD\",\"FD\",\"FD\",\"FD\",\"FD\",\"FD\",\"FD\",\"FD\",\"FD\",\"FD\",\"FD\",\"FD\",\"FD\",\"FD\",\"FD\",\"FD\",\"FD\",\"FD\",\"FD\",\"FD\",\"FD\",\"FD\",\"FD\",\"FD\",\"FD\",\"FD\",\"FD\",\"FD\",\"FD\",\"FD\",\"FD\",\"FD\",\"FD\",\"FD\",\"FD\",\"FD\",\"FD\",\"FD\",\"FD\",\"FD\",\"FD\",\"FD\",\"FD\",\"FD\",\"FD\",\"FD\",\"FD\",\"FD\",\"FD\",\"FD\",\"FD\",\"FD\",\"FD\",\"FD\",\"FD\",\"FD\",\"FD\",\"FD\",\"FD\",\"FD\",\"FD\",\"FD\",\"FD\",\"FD\",\"FD\",\"FD\",\"FD\",\"FD\",\"FD\",\"FD\",\"FD\",\"FD\",\"FD\",\"FD\",\"FD\",\"FD\",\"FD\",\"FD\",\"FD\",\"FD\",\"FD\",\"FD\",\"FD\",\"FD\",\"FD\",\"FD\",\"FD\",\"FD\",\"FD\",\"FD\",\"FD\",\"FD\",\"FD\",\"FD\",\"FD\",\"FD\",\"FD\",\"FD\",\"FD\",\"FD\",\"FD\",\"FD\",\"FD\",\"FD\",\"FD\",\"FD\",\"FD\",\"FD\",\"FD\",\"FD\",\"FD\",\"FD\",\"FD\",\"FD\",\"FD\",\"FD\",\"FD\",\"FD\",\"FD\",\"FD\",\"FD\",\"FD\",\"FD\",\"FD\",\"FD\",\"FD\",\"FD\",\"FD\",\"FD\",\"FD\",\"FD\",\"FD\",\"FD\",\"FD\",\"FD\",\"FD\",\"FD\",\"FD\",\"FD\",\"FD\",\"FD\",\"FD\",\"FD\",\"FD\",\"FD\",\"FD\",\"FD\",\"FD\",\"FD\",\"FD\",\"FD\",\"FD\",\"FD\",\"FD\",\"FD\",\"FD\",\"FD\",\"FD\",\"FD\",\"FD\",\"FD\",\"FD\",\"FD\",\"FD\",\"FD\",\"FD\",\"FD\",\"FD\",\"FD\",\"FD\",\"FD\",\"FD\",\"FD\",\"FD\",\"FD\",\"FD\",\"FD\",\"FD\",\"FD\",\"FD\",\"FD\",\"FD\",\"FD\",\"FD\",\"FD\",\"FD\",\"FD\",\"FD\",\"FD\",\"FD\",\"FD\",\"FD\",\"FD\",\"FD\",\"FD\",\"FD\",\"FD\",\"FD\",\"FD\",\"FD\",\"FD\",\"FD\",\"FD\",\"FD\",\"FD\",\"FD\",\"FD\",\"FD\",\"FD\",\"FD\",\"FD\",\"FD\",\"FD\",\"FD\",\"FD\",\"FD\",\"FD\",\"FD\",\"FD\",\"FD\",\"FD\",\"FD\",\"FD\",\"FD\",\"FD\",\"FD\",\"FD\",\"FD\",\"FD\",\"FD\",\"FD\",\"FD\",\"FD\",\"FD\",\"FD\",\"FD\",\"FD\",\"FD\",\"FD\",\"FD\",\"FD\",\"FD\",\"FD\",\"FD\",\"FD\",\"FD\",\"FD\",\"FD\",\"FD\",\"FD\",\"FD\",\"FD\",\"FD\",\"FD\",\"FD\",\"FD\",\"FD\",\"FD\",\"FD\",\"FD\",\"FD\",\"FD\",\"FD\",\"FD\",\"FD\",\"FD\",\"FD\",\"FD\",\"FD\",\"FD\",\"FD\",\"FD\",\"FD\",\"FD\",\"FD\",\"FD\",\"FD\",\"FD\",\"FD\",\"FD\",\"FD\",\"FD\",\"FD\",\"FD\",\"FD\",\"FD\",\"FD\",\"FD\",\"FD\",\"FD\",\"FD\",\"FD\",\"FD\",\"FD\",\"FD\",\"FD\",\"FD\",\"FD\",\"FD\",\"FD\",\"FD\",\"FD\",\"FD\",\"FD\",\"FD\",\"FD\",\"FD\",\"FD\",\"FD\",\"FD\",\"FD\",\"FD\",\"FD\",\"FD\",\"FD\",\"FD\",\"FD\",\"FD\",\"FD\",\"FD\",\"FD\",\"FD\",\"FD\",\"FD\",\"FD\",\"FD\",\"FD\",\"FD\",\"FD\",\"FD\",\"FD\",\"FD\",\"FD\",\"FD\",\"FD\",\"FD\",\"FD\",\"FD\",\"FD\",\"FD\",\"FD\",\"FD\",\"FD\",\"FD\",\"FD\",\"FD\",\"FD\",\"FD\",\"FD\",\"FD\",\"FD\",\"FD\",\"FD\",\"FD\",\"FD\",\"FD\",\"FD\",\"FD\",\"FD\",\"FD\",\"FD\",\"FD\",\"FD\",\"FD\",\"FD\",\"FD\",\"FD\",\"FD\",\"FD\",\"FD\",\"FD\",\"FD\",\"FD\",\"FD\",\"FD\",\"FD\",\"FD\",\"FD\",\"FD\",\"FD\",\"FD\",\"FD\",\"FD\",\"FD\",\"FD\",\"FD\",\"FD\",\"FD\",\"FD\",\"FD\",\"FD\",\"FD\",\"FD\",\"FD\",\"FD\",\"FD\",\"FD\",\"FD\",\"FD\",\"FD\",\"FD\",\"FD\",\"FD\",\"FD\",\"FD\",\"FD\",\"FD\",\"FD\",\"FD\",\"FD\",\"FD\",\"FD\",\"FD\",\"FD\",\"FD\",\"FD\",\"FD\",\"FD\",\"FD\",\"FD\",\"FD\",\"FD\",\"FD\",\"FD\",\"FD\",\"FD\",\"FD\",\"FD\",\"FD\",\"FD\",\"FD\",\"FD\",\"FD\",\"FD\",\"FD\",\"FD\",\"FD\",\"FD\",\"FD\",\"FD\",\"FD\",\"FD\",\"FD\",\"FD\",\"FD\",\"FD\",\"FD\",\"FD\",\"FD\",\"FD\",\"FD\",\"FD\",\"FD\",\"FD\",\"FD\",\"FD\",\"FD\",\"FD\",\"FD\",\"FD\",\"FD\",\"FD\",\"FD\",\"FD\",\"FD\",\"FD\",\"FD\",\"FD\",\"FD\",\"FD\",\"FD\",\"FD\",\"FD\",\"FD\",\"FD\",\"FD\",\"FD\",\"FD\",\"FD\",\"FD\",\"FD\",\"FD\",\"FD\",\"FD\",\"FD\",\"FD\",\"FD\",\"FD\",\"FD\",\"FD\",\"FD\",\"FD\",\"FD\",\"FD\",\"FD\",\"FD\",\"FD\",\"FD\",\"FD\",\"FD\",\"FD\",\"FD\",\"FD\",\"FD\",\"FD\",\"FD\",\"FD\",\"FD\",\"FD\",\"FD\",\"FD\",\"FD\",\"FD\",\"FD\",\"FD\",\"FD\",\"FD\",\"FD\",\"FD\",\"FD\",\"FD\",\"FD\",\"FD\",\"FD\",\"FD\",\"FD\",\"FD\",\"FD\",\"FD\",\"FD\",\"FD\",\"FD\",\"FD\",\"FD\",\"FD\",\"FD\",\"FD\",\"FD\",\"FD\",\"FD\",\"FD\",\"FD\",\"FD\",\"FD\",\"FD\",\"FD\",\"FD\",\"FD\",\"FD\",\"FD\",\"FD\",\"FD\",\"FD\",\"FD\",\"FD\",\"FD\",\"FD\",\"FD\",\"FD\",\"FD\",\"FD\",\"FD\",\"FD\",\"FD\",\"FD\",\"FD\",\"FD\",\"FD\",\"FD\",\"FD\",\"FD\",\"FD\",\"FD\",\"FD\",\"FD\",\"FD\",\"FD\",\"FD\",\"FD\",\"FD\",\"FD\",\"FD\",\"FD\",\"FD\",\"FD\",\"FD\",\"FD\",\"FD\",\"FD\",\"FD\",\"FD\",\"FD\",\"FD\",\"FD\",\"FD\",\"FD\",\"FD\",\"FD\",\"FD\",\"FD\",\"FD\",\"FD\",\"FD\",\"FD\",\"FD\",\"FD\",\"FD\",\"FD\",\"FD\",\"FD\",\"FD\",\"FD\",\"FD\",\"FD\",\"FD\",\"FD\",\"FD\",\"FD\",\"FD\",\"FD\",\"FD\",\"FD\",\"FD\",\"FD\",\"FD\",\"FD\",\"FD\",\"FD\",\"FD\",\"FD\",\"FD\",\"FD\",\"FD\",\"FD\",\"FD\",\"FD\",\"FD\",\"FD\",\"FD\",\"FD\",\"FD\",\"FD\",\"FD\",\"FD\",\"FD\",\"FD\",\"FD\",\"FD\",\"FD\",\"FD\",\"FD\",\"FD\",\"FD\",\"FD\",\"FD\",\"FD\",\"FD\",\"FD\",\"FD\",\"FD\",\"FD\",\"FD\",\"FD\",\"FD\",\"FD\",\"FD\",\"FD\",\"FD\",\"FD\",\"FD\",\"FD\",\"FD\",\"FD\",\"FD\",\"FD\",\"FD\",\"FD\",\"FD\",\"FD\",\"FD\",\"FD\",\"FD\",\"FD\",\"FD\",\"FD\",\"FD\",\"FD\",\"FD\",\"FD\",\"FD\",\"FD\",\"FD\",\"FD\",\"FD\",\"FD\",\"FD\"],\"xaxis\":\"x\",\"yaxis\":\"y\",\"type\":\"histogram\"},{\"alignmentgroup\":\"True\",\"bingroup\":\"x\",\"hovertemplate\":\"Item_Type=Household\\u003cbr\\u003eItem_Category=%{x}\\u003cbr\\u003ecount=%{y}\\u003cextra\\u003e\\u003c\\u002fextra\\u003e\",\"legendgroup\":\"Household\",\"marker\":{\"color\":\"#FFA15A\",\"pattern\":{\"shape\":\"\"}},\"name\":\"Household\",\"offsetgroup\":\"Household\",\"orientation\":\"v\",\"showlegend\":true,\"x\":[\"NC\",\"NC\",\"NC\",\"NC\",\"NC\",\"NC\",\"NC\",\"NC\",\"NC\",\"NC\",\"NC\",\"NC\",\"NC\",\"NC\",\"NC\",\"NC\",\"NC\",\"NC\",\"NC\",\"NC\",\"NC\",\"NC\",\"NC\",\"NC\",\"NC\",\"NC\",\"NC\",\"NC\",\"NC\",\"NC\",\"NC\",\"NC\",\"NC\",\"NC\",\"NC\",\"NC\",\"NC\",\"NC\",\"NC\",\"NC\",\"NC\",\"NC\",\"NC\",\"NC\",\"NC\",\"NC\",\"NC\",\"NC\",\"NC\",\"NC\",\"NC\",\"NC\",\"NC\",\"NC\",\"NC\",\"NC\",\"NC\",\"NC\",\"NC\",\"NC\",\"NC\",\"NC\",\"NC\",\"NC\",\"NC\",\"NC\",\"NC\",\"NC\",\"NC\",\"NC\",\"NC\",\"NC\",\"NC\",\"NC\",\"NC\",\"NC\",\"NC\",\"NC\",\"NC\",\"NC\",\"NC\",\"NC\",\"NC\",\"NC\",\"NC\",\"NC\",\"NC\",\"NC\",\"NC\",\"NC\",\"NC\",\"NC\",\"NC\",\"NC\",\"NC\",\"NC\",\"NC\",\"NC\",\"NC\",\"NC\",\"NC\",\"NC\",\"NC\",\"NC\",\"NC\",\"NC\",\"NC\",\"NC\",\"NC\",\"NC\",\"NC\",\"NC\",\"NC\",\"NC\",\"NC\",\"NC\",\"NC\",\"NC\",\"NC\",\"NC\",\"NC\",\"NC\",\"NC\",\"NC\",\"NC\",\"NC\",\"NC\",\"NC\",\"NC\",\"NC\",\"NC\",\"NC\",\"NC\",\"NC\",\"NC\",\"NC\",\"NC\",\"NC\",\"NC\",\"NC\",\"NC\",\"NC\",\"NC\",\"NC\",\"NC\",\"NC\",\"NC\",\"NC\",\"NC\",\"NC\",\"NC\",\"NC\",\"NC\",\"NC\",\"NC\",\"NC\",\"NC\",\"NC\",\"NC\",\"NC\",\"NC\",\"NC\",\"NC\",\"NC\",\"NC\",\"NC\",\"NC\",\"NC\",\"NC\",\"NC\",\"NC\",\"NC\",\"NC\",\"NC\",\"NC\",\"NC\",\"NC\",\"NC\",\"NC\",\"NC\",\"NC\",\"NC\",\"NC\",\"NC\",\"NC\",\"NC\",\"NC\",\"NC\",\"NC\",\"NC\",\"NC\",\"NC\",\"NC\",\"NC\",\"NC\",\"NC\",\"NC\",\"NC\",\"NC\",\"NC\",\"NC\",\"NC\",\"NC\",\"NC\",\"NC\",\"NC\",\"NC\",\"NC\",\"NC\",\"NC\",\"NC\",\"NC\",\"NC\",\"NC\",\"NC\",\"NC\",\"NC\",\"NC\",\"NC\",\"NC\",\"NC\",\"NC\",\"NC\",\"NC\",\"NC\",\"NC\",\"NC\",\"NC\",\"NC\",\"NC\",\"NC\",\"NC\",\"NC\",\"NC\",\"NC\",\"NC\",\"NC\",\"NC\",\"NC\",\"NC\",\"NC\",\"NC\",\"NC\",\"NC\",\"NC\",\"NC\",\"NC\",\"NC\",\"NC\",\"NC\",\"NC\",\"NC\",\"NC\",\"NC\",\"NC\",\"NC\",\"NC\",\"NC\",\"NC\",\"NC\",\"NC\",\"NC\",\"NC\",\"NC\",\"NC\",\"NC\",\"NC\",\"NC\",\"NC\",\"NC\",\"NC\",\"NC\",\"NC\",\"NC\",\"NC\",\"NC\",\"NC\",\"NC\",\"NC\",\"NC\",\"NC\",\"NC\",\"NC\",\"NC\",\"NC\",\"NC\",\"NC\",\"NC\",\"NC\",\"NC\",\"NC\",\"NC\",\"NC\",\"NC\",\"NC\",\"NC\",\"NC\",\"NC\",\"NC\",\"NC\",\"NC\",\"NC\",\"NC\",\"NC\",\"NC\",\"NC\",\"NC\",\"NC\",\"NC\",\"NC\",\"NC\",\"NC\",\"NC\",\"NC\",\"NC\",\"NC\",\"NC\",\"NC\",\"NC\",\"NC\",\"NC\",\"NC\",\"NC\",\"NC\",\"NC\",\"NC\",\"NC\",\"NC\",\"NC\",\"NC\",\"NC\",\"NC\",\"NC\",\"NC\",\"NC\",\"NC\",\"NC\",\"NC\",\"NC\",\"NC\",\"NC\",\"NC\",\"NC\",\"NC\",\"NC\",\"NC\",\"NC\",\"NC\",\"NC\",\"NC\",\"NC\",\"NC\",\"NC\",\"NC\",\"NC\",\"NC\",\"NC\",\"NC\",\"NC\",\"NC\",\"NC\",\"NC\",\"NC\",\"NC\",\"NC\",\"NC\",\"NC\",\"NC\",\"NC\",\"NC\",\"NC\",\"NC\",\"NC\",\"NC\",\"NC\",\"NC\",\"NC\",\"NC\",\"NC\",\"NC\",\"NC\",\"NC\",\"NC\",\"NC\",\"NC\",\"NC\",\"NC\",\"NC\",\"NC\",\"NC\",\"NC\",\"NC\",\"NC\",\"NC\",\"NC\",\"NC\",\"NC\",\"NC\",\"NC\",\"NC\",\"NC\",\"NC\",\"NC\",\"NC\",\"NC\",\"NC\",\"NC\",\"NC\",\"NC\",\"NC\",\"NC\",\"NC\",\"NC\",\"NC\",\"NC\",\"NC\",\"NC\",\"NC\",\"NC\",\"NC\",\"NC\",\"NC\",\"NC\",\"NC\",\"NC\",\"NC\",\"NC\",\"NC\",\"NC\",\"NC\",\"NC\",\"NC\",\"NC\",\"NC\",\"NC\",\"NC\",\"NC\",\"NC\",\"NC\",\"NC\",\"NC\",\"NC\",\"NC\",\"NC\",\"NC\",\"NC\",\"NC\",\"NC\",\"NC\",\"NC\",\"NC\",\"NC\",\"NC\",\"NC\",\"NC\",\"NC\",\"NC\",\"NC\",\"NC\",\"NC\",\"NC\",\"NC\",\"NC\",\"NC\",\"NC\",\"NC\",\"NC\",\"NC\",\"NC\",\"NC\",\"NC\",\"NC\",\"NC\",\"NC\",\"NC\",\"NC\",\"NC\",\"NC\",\"NC\",\"NC\",\"NC\",\"NC\",\"NC\",\"NC\",\"NC\",\"NC\",\"NC\",\"NC\",\"NC\",\"NC\",\"NC\",\"NC\",\"NC\",\"NC\",\"NC\",\"NC\",\"NC\",\"NC\",\"NC\",\"NC\",\"NC\",\"NC\",\"NC\",\"NC\",\"NC\",\"NC\",\"NC\",\"NC\",\"NC\",\"NC\",\"NC\",\"NC\",\"NC\",\"NC\",\"NC\",\"NC\",\"NC\",\"NC\",\"NC\",\"NC\",\"NC\",\"NC\",\"NC\",\"NC\",\"NC\",\"NC\",\"NC\",\"NC\",\"NC\",\"NC\",\"NC\",\"NC\",\"NC\",\"NC\",\"NC\",\"NC\",\"NC\",\"NC\",\"NC\",\"NC\",\"NC\",\"NC\",\"NC\",\"NC\",\"NC\",\"NC\",\"NC\",\"NC\",\"NC\",\"NC\",\"NC\",\"NC\",\"NC\",\"NC\",\"NC\",\"NC\",\"NC\",\"NC\",\"NC\",\"NC\",\"NC\",\"NC\",\"NC\",\"NC\",\"NC\",\"NC\",\"NC\",\"NC\",\"NC\",\"NC\",\"NC\",\"NC\",\"NC\",\"NC\",\"NC\",\"NC\",\"NC\",\"NC\",\"NC\",\"NC\",\"NC\",\"NC\",\"NC\",\"NC\",\"NC\",\"NC\",\"NC\",\"NC\",\"NC\",\"NC\",\"NC\",\"NC\",\"NC\",\"NC\",\"NC\",\"NC\",\"NC\",\"NC\",\"NC\",\"NC\",\"NC\",\"NC\",\"NC\",\"NC\",\"NC\",\"NC\",\"NC\",\"NC\",\"NC\",\"NC\",\"NC\",\"NC\",\"NC\",\"NC\",\"NC\",\"NC\",\"NC\",\"NC\",\"NC\",\"NC\",\"NC\",\"NC\",\"NC\",\"NC\",\"NC\",\"NC\",\"NC\",\"NC\",\"NC\",\"NC\",\"NC\",\"NC\",\"NC\",\"NC\",\"NC\",\"NC\",\"NC\",\"NC\",\"NC\",\"NC\",\"NC\",\"NC\",\"NC\",\"NC\",\"NC\",\"NC\",\"NC\",\"NC\",\"NC\",\"NC\",\"NC\",\"NC\",\"NC\",\"NC\",\"NC\",\"NC\",\"NC\",\"NC\",\"NC\",\"NC\",\"NC\",\"NC\",\"NC\",\"NC\",\"NC\",\"NC\",\"NC\",\"NC\",\"NC\",\"NC\",\"NC\",\"NC\",\"NC\",\"NC\",\"NC\",\"NC\",\"NC\",\"NC\",\"NC\",\"NC\",\"NC\",\"NC\",\"NC\",\"NC\",\"NC\",\"NC\",\"NC\",\"NC\",\"NC\",\"NC\",\"NC\",\"NC\",\"NC\",\"NC\",\"NC\",\"NC\",\"NC\",\"NC\",\"NC\",\"NC\",\"NC\",\"NC\",\"NC\",\"NC\",\"NC\",\"NC\",\"NC\",\"NC\",\"NC\",\"NC\",\"NC\",\"NC\",\"NC\",\"NC\",\"NC\",\"NC\",\"NC\",\"NC\",\"NC\",\"NC\",\"NC\",\"NC\",\"NC\",\"NC\",\"NC\",\"NC\",\"NC\",\"NC\",\"NC\",\"NC\",\"NC\",\"NC\",\"NC\",\"NC\",\"NC\",\"NC\",\"NC\",\"NC\",\"NC\",\"NC\",\"NC\",\"NC\",\"NC\",\"NC\",\"NC\",\"NC\",\"NC\",\"NC\",\"NC\",\"NC\",\"NC\",\"NC\",\"NC\",\"NC\",\"NC\",\"NC\",\"NC\",\"NC\",\"NC\",\"NC\",\"NC\",\"NC\",\"NC\",\"NC\",\"NC\",\"NC\",\"NC\",\"NC\",\"NC\",\"NC\",\"NC\",\"NC\",\"NC\",\"NC\",\"NC\",\"NC\",\"NC\",\"NC\",\"NC\",\"NC\",\"NC\",\"NC\",\"NC\",\"NC\",\"NC\",\"NC\",\"NC\",\"NC\",\"NC\",\"NC\",\"NC\",\"NC\",\"NC\",\"NC\",\"NC\",\"NC\",\"NC\",\"NC\",\"NC\",\"NC\",\"NC\",\"NC\",\"NC\",\"NC\",\"NC\",\"NC\",\"NC\",\"NC\",\"NC\",\"NC\",\"NC\",\"NC\",\"NC\",\"NC\",\"NC\",\"NC\",\"NC\",\"NC\",\"NC\",\"NC\",\"NC\",\"NC\",\"NC\",\"NC\",\"NC\",\"NC\",\"NC\",\"NC\",\"NC\",\"NC\",\"NC\",\"NC\",\"NC\",\"NC\",\"NC\",\"NC\",\"NC\",\"NC\",\"NC\",\"NC\",\"NC\",\"NC\",\"NC\",\"NC\",\"NC\",\"NC\",\"NC\",\"NC\",\"NC\",\"NC\",\"NC\",\"NC\",\"NC\",\"NC\",\"NC\",\"NC\",\"NC\",\"NC\",\"NC\",\"NC\",\"NC\",\"NC\",\"NC\",\"NC\",\"NC\",\"NC\",\"NC\",\"NC\",\"NC\",\"NC\",\"NC\",\"NC\",\"NC\",\"NC\",\"NC\",\"NC\",\"NC\",\"NC\",\"NC\",\"NC\",\"NC\",\"NC\",\"NC\",\"NC\",\"NC\",\"NC\",\"NC\",\"NC\",\"NC\",\"NC\",\"NC\",\"NC\",\"NC\",\"NC\",\"NC\",\"NC\",\"NC\",\"NC\",\"NC\",\"NC\",\"NC\",\"NC\",\"NC\",\"NC\",\"NC\",\"NC\",\"NC\",\"NC\",\"NC\",\"NC\"],\"xaxis\":\"x\",\"yaxis\":\"y\",\"type\":\"histogram\"},{\"alignmentgroup\":\"True\",\"bingroup\":\"x\",\"hovertemplate\":\"Item_Type=Baking Goods\\u003cbr\\u003eItem_Category=%{x}\\u003cbr\\u003ecount=%{y}\\u003cextra\\u003e\\u003c\\u002fextra\\u003e\",\"legendgroup\":\"Baking Goods\",\"marker\":{\"color\":\"#19d3f3\",\"pattern\":{\"shape\":\"\"}},\"name\":\"Baking Goods\",\"offsetgroup\":\"Baking Goods\",\"orientation\":\"v\",\"showlegend\":true,\"x\":[\"FD\",\"FD\",\"FD\",\"FD\",\"FD\",\"FD\",\"FD\",\"FD\",\"FD\",\"FD\",\"FD\",\"FD\",\"FD\",\"FD\",\"FD\",\"FD\",\"FD\",\"FD\",\"FD\",\"FD\",\"FD\",\"FD\",\"FD\",\"FD\",\"FD\",\"FD\",\"FD\",\"FD\",\"FD\",\"FD\",\"FD\",\"FD\",\"FD\",\"FD\",\"FD\",\"FD\",\"FD\",\"FD\",\"FD\",\"FD\",\"FD\",\"FD\",\"FD\",\"FD\",\"FD\",\"FD\",\"FD\",\"FD\",\"FD\",\"FD\",\"FD\",\"FD\",\"FD\",\"FD\",\"FD\",\"FD\",\"FD\",\"FD\",\"FD\",\"FD\",\"FD\",\"FD\",\"FD\",\"FD\",\"FD\",\"FD\",\"FD\",\"FD\",\"FD\",\"FD\",\"FD\",\"FD\",\"FD\",\"FD\",\"FD\",\"FD\",\"FD\",\"FD\",\"FD\",\"FD\",\"FD\",\"FD\",\"FD\",\"FD\",\"FD\",\"FD\",\"FD\",\"FD\",\"FD\",\"FD\",\"FD\",\"FD\",\"FD\",\"FD\",\"FD\",\"FD\",\"FD\",\"FD\",\"FD\",\"FD\",\"FD\",\"FD\",\"FD\",\"FD\",\"FD\",\"FD\",\"FD\",\"FD\",\"FD\",\"FD\",\"FD\",\"FD\",\"FD\",\"FD\",\"FD\",\"FD\",\"FD\",\"FD\",\"FD\",\"FD\",\"FD\",\"FD\",\"FD\",\"FD\",\"FD\",\"FD\",\"FD\",\"FD\",\"FD\",\"FD\",\"FD\",\"FD\",\"FD\",\"FD\",\"FD\",\"FD\",\"FD\",\"FD\",\"FD\",\"FD\",\"FD\",\"FD\",\"FD\",\"FD\",\"FD\",\"FD\",\"FD\",\"FD\",\"FD\",\"FD\",\"FD\",\"FD\",\"FD\",\"FD\",\"FD\",\"FD\",\"FD\",\"FD\",\"FD\",\"FD\",\"FD\",\"FD\",\"FD\",\"FD\",\"FD\",\"FD\",\"FD\",\"FD\",\"FD\",\"FD\",\"FD\",\"FD\",\"FD\",\"FD\",\"FD\",\"FD\",\"FD\",\"FD\",\"FD\",\"FD\",\"FD\",\"FD\",\"FD\",\"FD\",\"FD\",\"FD\",\"FD\",\"FD\",\"FD\",\"FD\",\"FD\",\"FD\",\"FD\",\"FD\",\"FD\",\"FD\",\"FD\",\"FD\",\"FD\",\"FD\",\"FD\",\"FD\",\"FD\",\"FD\",\"FD\",\"FD\",\"FD\",\"FD\",\"FD\",\"FD\",\"FD\",\"FD\",\"FD\",\"FD\",\"FD\",\"FD\",\"FD\",\"FD\",\"FD\",\"FD\",\"FD\",\"FD\",\"FD\",\"FD\",\"FD\",\"FD\",\"FD\",\"FD\",\"FD\",\"FD\",\"FD\",\"FD\",\"FD\",\"FD\",\"FD\",\"FD\",\"FD\",\"FD\",\"FD\",\"FD\",\"FD\",\"FD\",\"FD\",\"FD\",\"FD\",\"FD\",\"FD\",\"FD\",\"FD\",\"FD\",\"FD\",\"FD\",\"FD\",\"FD\",\"FD\",\"FD\",\"FD\",\"FD\",\"FD\",\"FD\",\"FD\",\"FD\",\"FD\",\"FD\",\"FD\",\"FD\",\"FD\",\"FD\",\"FD\",\"FD\",\"FD\",\"FD\",\"FD\",\"FD\",\"FD\",\"FD\",\"FD\",\"FD\",\"FD\",\"FD\",\"FD\",\"FD\",\"FD\",\"FD\",\"FD\",\"FD\",\"FD\",\"FD\",\"FD\",\"FD\",\"FD\",\"FD\",\"FD\",\"FD\",\"FD\",\"FD\",\"FD\",\"FD\",\"FD\",\"FD\",\"FD\",\"FD\",\"FD\",\"FD\",\"FD\",\"FD\",\"FD\",\"FD\",\"FD\",\"FD\",\"FD\",\"FD\",\"FD\",\"FD\",\"FD\",\"FD\",\"FD\",\"FD\",\"FD\",\"FD\",\"FD\",\"FD\",\"FD\",\"FD\",\"FD\",\"FD\",\"FD\",\"FD\",\"FD\",\"FD\",\"FD\",\"FD\",\"FD\",\"FD\",\"FD\",\"FD\",\"FD\",\"FD\",\"FD\",\"FD\",\"FD\",\"FD\",\"FD\",\"FD\",\"FD\",\"FD\",\"FD\",\"FD\",\"FD\",\"FD\",\"FD\",\"FD\",\"FD\",\"FD\",\"FD\",\"FD\",\"FD\",\"FD\",\"FD\",\"FD\",\"FD\",\"FD\",\"FD\",\"FD\",\"FD\",\"FD\",\"FD\",\"FD\",\"FD\",\"FD\",\"FD\",\"FD\",\"FD\",\"FD\",\"FD\",\"FD\",\"FD\",\"FD\",\"FD\",\"FD\",\"FD\",\"FD\",\"FD\",\"FD\",\"FD\",\"FD\",\"FD\",\"FD\",\"FD\",\"FD\",\"FD\",\"FD\",\"FD\",\"FD\",\"FD\",\"FD\",\"FD\",\"FD\",\"FD\",\"FD\",\"FD\",\"FD\",\"FD\",\"FD\",\"FD\",\"FD\",\"FD\",\"FD\",\"FD\",\"FD\",\"FD\",\"FD\",\"FD\",\"FD\",\"FD\",\"FD\",\"FD\",\"FD\",\"FD\",\"FD\",\"FD\",\"FD\",\"FD\",\"FD\",\"FD\",\"FD\",\"FD\",\"FD\",\"FD\",\"FD\",\"FD\",\"FD\",\"FD\",\"FD\",\"FD\",\"FD\",\"FD\",\"FD\",\"FD\",\"FD\",\"FD\",\"FD\",\"FD\",\"FD\",\"FD\",\"FD\",\"FD\",\"FD\",\"FD\",\"FD\",\"FD\",\"FD\",\"FD\",\"FD\",\"FD\",\"FD\",\"FD\",\"FD\",\"FD\",\"FD\",\"FD\",\"FD\",\"FD\",\"FD\",\"FD\",\"FD\",\"FD\",\"FD\",\"FD\",\"FD\",\"FD\",\"FD\",\"FD\",\"FD\",\"FD\",\"FD\",\"FD\",\"FD\",\"FD\",\"FD\",\"FD\",\"FD\",\"FD\",\"FD\",\"FD\",\"FD\",\"FD\",\"FD\",\"FD\",\"FD\",\"FD\",\"FD\",\"FD\",\"FD\",\"FD\",\"FD\",\"FD\",\"FD\",\"FD\",\"FD\",\"FD\",\"FD\",\"FD\",\"FD\",\"FD\",\"FD\",\"FD\",\"FD\",\"FD\",\"FD\",\"FD\",\"FD\",\"FD\",\"FD\",\"FD\",\"FD\",\"FD\",\"FD\",\"FD\",\"FD\",\"FD\",\"FD\",\"FD\",\"FD\",\"FD\",\"FD\",\"FD\",\"FD\",\"FD\",\"FD\",\"FD\",\"FD\",\"FD\",\"FD\",\"FD\",\"FD\",\"FD\",\"FD\",\"FD\",\"FD\",\"FD\",\"FD\",\"FD\",\"FD\",\"FD\",\"FD\",\"FD\",\"FD\",\"FD\",\"FD\",\"FD\",\"FD\",\"FD\",\"FD\",\"FD\",\"FD\",\"FD\",\"FD\",\"FD\",\"FD\",\"FD\",\"FD\",\"FD\",\"FD\",\"FD\",\"FD\",\"FD\",\"FD\",\"FD\",\"FD\",\"FD\",\"FD\",\"FD\",\"FD\",\"FD\",\"FD\",\"FD\",\"FD\",\"FD\",\"FD\",\"FD\",\"FD\",\"FD\",\"FD\",\"FD\",\"FD\",\"FD\",\"FD\",\"FD\",\"FD\",\"FD\",\"FD\",\"FD\",\"FD\",\"FD\",\"FD\",\"FD\",\"FD\",\"FD\",\"FD\",\"FD\",\"FD\",\"FD\",\"FD\",\"FD\",\"FD\",\"FD\",\"FD\",\"FD\",\"FD\",\"FD\",\"FD\",\"FD\",\"FD\",\"FD\",\"FD\",\"FD\",\"FD\",\"FD\",\"FD\",\"FD\",\"FD\",\"FD\",\"FD\",\"FD\",\"FD\",\"FD\",\"FD\",\"FD\",\"FD\",\"FD\",\"FD\",\"FD\",\"FD\",\"FD\",\"FD\",\"FD\",\"FD\",\"FD\",\"FD\",\"FD\",\"FD\",\"FD\",\"FD\",\"FD\",\"FD\",\"FD\",\"FD\"],\"xaxis\":\"x\",\"yaxis\":\"y\",\"type\":\"histogram\"},{\"alignmentgroup\":\"True\",\"bingroup\":\"x\",\"hovertemplate\":\"Item_Type=Snack Foods\\u003cbr\\u003eItem_Category=%{x}\\u003cbr\\u003ecount=%{y}\\u003cextra\\u003e\\u003c\\u002fextra\\u003e\",\"legendgroup\":\"Snack Foods\",\"marker\":{\"color\":\"#FF6692\",\"pattern\":{\"shape\":\"\"}},\"name\":\"Snack Foods\",\"offsetgroup\":\"Snack Foods\",\"orientation\":\"v\",\"showlegend\":true,\"x\":[\"FD\",\"FD\",\"FD\",\"FD\",\"FD\",\"FD\",\"FD\",\"FD\",\"FD\",\"FD\",\"FD\",\"FD\",\"FD\",\"FD\",\"FD\",\"FD\",\"FD\",\"FD\",\"FD\",\"FD\",\"FD\",\"FD\",\"FD\",\"FD\",\"FD\",\"FD\",\"FD\",\"FD\",\"FD\",\"FD\",\"FD\",\"FD\",\"FD\",\"FD\",\"FD\",\"FD\",\"FD\",\"FD\",\"FD\",\"FD\",\"FD\",\"FD\",\"FD\",\"FD\",\"FD\",\"FD\",\"FD\",\"FD\",\"FD\",\"FD\",\"FD\",\"FD\",\"FD\",\"FD\",\"FD\",\"FD\",\"FD\",\"FD\",\"FD\",\"FD\",\"FD\",\"FD\",\"FD\",\"FD\",\"FD\",\"FD\",\"FD\",\"FD\",\"FD\",\"FD\",\"FD\",\"FD\",\"FD\",\"FD\",\"FD\",\"FD\",\"FD\",\"FD\",\"FD\",\"FD\",\"FD\",\"FD\",\"FD\",\"FD\",\"FD\",\"FD\",\"FD\",\"FD\",\"FD\",\"FD\",\"FD\",\"FD\",\"FD\",\"FD\",\"FD\",\"FD\",\"FD\",\"FD\",\"FD\",\"FD\",\"FD\",\"FD\",\"FD\",\"FD\",\"FD\",\"FD\",\"FD\",\"FD\",\"FD\",\"FD\",\"FD\",\"FD\",\"FD\",\"FD\",\"FD\",\"FD\",\"FD\",\"FD\",\"FD\",\"FD\",\"FD\",\"FD\",\"FD\",\"FD\",\"FD\",\"FD\",\"FD\",\"FD\",\"FD\",\"FD\",\"FD\",\"FD\",\"FD\",\"FD\",\"FD\",\"FD\",\"FD\",\"FD\",\"FD\",\"FD\",\"FD\",\"FD\",\"FD\",\"FD\",\"FD\",\"FD\",\"FD\",\"FD\",\"FD\",\"FD\",\"FD\",\"FD\",\"FD\",\"FD\",\"FD\",\"FD\",\"FD\",\"FD\",\"FD\",\"FD\",\"FD\",\"FD\",\"FD\",\"FD\",\"FD\",\"FD\",\"FD\",\"FD\",\"FD\",\"FD\",\"FD\",\"FD\",\"FD\",\"FD\",\"FD\",\"FD\",\"FD\",\"FD\",\"FD\",\"FD\",\"FD\",\"FD\",\"FD\",\"FD\",\"FD\",\"FD\",\"FD\",\"FD\",\"FD\",\"FD\",\"FD\",\"FD\",\"FD\",\"FD\",\"FD\",\"FD\",\"FD\",\"FD\",\"FD\",\"FD\",\"FD\",\"FD\",\"FD\",\"FD\",\"FD\",\"FD\",\"FD\",\"FD\",\"FD\",\"FD\",\"FD\",\"FD\",\"FD\",\"FD\",\"FD\",\"FD\",\"FD\",\"FD\",\"FD\",\"FD\",\"FD\",\"FD\",\"FD\",\"FD\",\"FD\",\"FD\",\"FD\",\"FD\",\"FD\",\"FD\",\"FD\",\"FD\",\"FD\",\"FD\",\"FD\",\"FD\",\"FD\",\"FD\",\"FD\",\"FD\",\"FD\",\"FD\",\"FD\",\"FD\",\"FD\",\"FD\",\"FD\",\"FD\",\"FD\",\"FD\",\"FD\",\"FD\",\"FD\",\"FD\",\"FD\",\"FD\",\"FD\",\"FD\",\"FD\",\"FD\",\"FD\",\"FD\",\"FD\",\"FD\",\"FD\",\"FD\",\"FD\",\"FD\",\"FD\",\"FD\",\"FD\",\"FD\",\"FD\",\"FD\",\"FD\",\"FD\",\"FD\",\"FD\",\"FD\",\"FD\",\"FD\",\"FD\",\"FD\",\"FD\",\"FD\",\"FD\",\"FD\",\"FD\",\"FD\",\"FD\",\"FD\",\"FD\",\"FD\",\"FD\",\"FD\",\"FD\",\"FD\",\"FD\",\"FD\",\"FD\",\"FD\",\"FD\",\"FD\",\"FD\",\"FD\",\"FD\",\"FD\",\"FD\",\"FD\",\"FD\",\"FD\",\"FD\",\"FD\",\"FD\",\"FD\",\"FD\",\"FD\",\"FD\",\"FD\",\"FD\",\"FD\",\"FD\",\"FD\",\"FD\",\"FD\",\"FD\",\"FD\",\"FD\",\"FD\",\"FD\",\"FD\",\"FD\",\"FD\",\"FD\",\"FD\",\"FD\",\"FD\",\"FD\",\"FD\",\"FD\",\"FD\",\"FD\",\"FD\",\"FD\",\"FD\",\"FD\",\"FD\",\"FD\",\"FD\",\"FD\",\"FD\",\"FD\",\"FD\",\"FD\",\"FD\",\"FD\",\"FD\",\"FD\",\"FD\",\"FD\",\"FD\",\"FD\",\"FD\",\"FD\",\"FD\",\"FD\",\"FD\",\"FD\",\"FD\",\"FD\",\"FD\",\"FD\",\"FD\",\"FD\",\"FD\",\"FD\",\"FD\",\"FD\",\"FD\",\"FD\",\"FD\",\"FD\",\"FD\",\"FD\",\"FD\",\"FD\",\"FD\",\"FD\",\"FD\",\"FD\",\"FD\",\"FD\",\"FD\",\"FD\",\"FD\",\"FD\",\"FD\",\"FD\",\"FD\",\"FD\",\"FD\",\"FD\",\"FD\",\"FD\",\"FD\",\"FD\",\"FD\",\"FD\",\"FD\",\"FD\",\"FD\",\"FD\",\"FD\",\"FD\",\"FD\",\"FD\",\"FD\",\"FD\",\"FD\",\"FD\",\"FD\",\"FD\",\"FD\",\"FD\",\"FD\",\"FD\",\"FD\",\"FD\",\"FD\",\"FD\",\"FD\",\"FD\",\"FD\",\"FD\",\"FD\",\"FD\",\"FD\",\"FD\",\"FD\",\"FD\",\"FD\",\"FD\",\"FD\",\"FD\",\"FD\",\"FD\",\"FD\",\"FD\",\"FD\",\"FD\",\"FD\",\"FD\",\"FD\",\"FD\",\"FD\",\"FD\",\"FD\",\"FD\",\"FD\",\"FD\",\"FD\",\"FD\",\"FD\",\"FD\",\"FD\",\"FD\",\"FD\",\"FD\",\"FD\",\"FD\",\"FD\",\"FD\",\"FD\",\"FD\",\"FD\",\"FD\",\"FD\",\"FD\",\"FD\",\"FD\",\"FD\",\"FD\",\"FD\",\"FD\",\"FD\",\"FD\",\"FD\",\"FD\",\"FD\",\"FD\",\"FD\",\"FD\",\"FD\",\"FD\",\"FD\",\"FD\",\"FD\",\"FD\",\"FD\",\"FD\",\"FD\",\"FD\",\"FD\",\"FD\",\"FD\",\"FD\",\"FD\",\"FD\",\"FD\",\"FD\",\"FD\",\"FD\",\"FD\",\"FD\",\"FD\",\"FD\",\"FD\",\"FD\",\"FD\",\"FD\",\"FD\",\"FD\",\"FD\",\"FD\",\"FD\",\"FD\",\"FD\",\"FD\",\"FD\",\"FD\",\"FD\",\"FD\",\"FD\",\"FD\",\"FD\",\"FD\",\"FD\",\"FD\",\"FD\",\"FD\",\"FD\",\"FD\",\"FD\",\"FD\",\"FD\",\"FD\",\"FD\",\"FD\",\"FD\",\"FD\",\"FD\",\"FD\",\"FD\",\"FD\",\"FD\",\"FD\",\"FD\",\"FD\",\"FD\",\"FD\",\"FD\",\"FD\",\"FD\",\"FD\",\"FD\",\"FD\",\"FD\",\"FD\",\"FD\",\"FD\",\"FD\",\"FD\",\"FD\",\"FD\",\"FD\",\"FD\",\"FD\",\"FD\",\"FD\",\"FD\",\"FD\",\"FD\",\"FD\",\"FD\",\"FD\",\"FD\",\"FD\",\"FD\",\"FD\",\"FD\",\"FD\",\"FD\",\"FD\",\"FD\",\"FD\",\"FD\",\"FD\",\"FD\",\"FD\",\"FD\",\"FD\",\"FD\",\"FD\",\"FD\",\"FD\",\"FD\",\"FD\",\"FD\",\"FD\",\"FD\",\"FD\",\"FD\",\"FD\",\"FD\",\"FD\",\"FD\",\"FD\",\"FD\",\"FD\",\"FD\",\"FD\",\"FD\",\"FD\",\"FD\",\"FD\",\"FD\",\"FD\",\"FD\",\"FD\",\"FD\",\"FD\",\"FD\",\"FD\",\"FD\",\"FD\",\"FD\",\"FD\",\"FD\",\"FD\",\"FD\",\"FD\",\"FD\",\"FD\",\"FD\",\"FD\",\"FD\",\"FD\",\"FD\",\"FD\",\"FD\",\"FD\",\"FD\",\"FD\",\"FD\",\"FD\",\"FD\",\"FD\",\"FD\",\"FD\",\"FD\",\"FD\",\"FD\",\"FD\",\"FD\",\"FD\",\"FD\",\"FD\",\"FD\",\"FD\",\"FD\",\"FD\",\"FD\",\"FD\",\"FD\",\"FD\",\"FD\",\"FD\",\"FD\",\"FD\",\"FD\",\"FD\",\"FD\",\"FD\",\"FD\",\"FD\",\"FD\",\"FD\",\"FD\",\"FD\",\"FD\",\"FD\",\"FD\",\"FD\",\"FD\",\"FD\",\"FD\",\"FD\",\"FD\",\"FD\",\"FD\",\"FD\",\"FD\",\"FD\",\"FD\",\"FD\",\"FD\",\"FD\",\"FD\",\"FD\",\"FD\",\"FD\",\"FD\",\"FD\",\"FD\",\"FD\",\"FD\",\"FD\",\"FD\",\"FD\",\"FD\",\"FD\",\"FD\",\"FD\",\"FD\",\"FD\",\"FD\",\"FD\",\"FD\",\"FD\",\"FD\",\"FD\",\"FD\",\"FD\",\"FD\",\"FD\",\"FD\",\"FD\",\"FD\",\"FD\",\"FD\",\"FD\",\"FD\",\"FD\",\"FD\",\"FD\",\"FD\",\"FD\",\"FD\",\"FD\",\"FD\",\"FD\",\"FD\",\"FD\",\"FD\",\"FD\",\"FD\",\"FD\",\"FD\",\"FD\",\"FD\",\"FD\",\"FD\",\"FD\",\"FD\",\"FD\",\"FD\",\"FD\",\"FD\",\"FD\",\"FD\",\"FD\",\"FD\",\"FD\",\"FD\",\"FD\",\"FD\",\"FD\",\"FD\",\"FD\",\"FD\",\"FD\",\"FD\",\"FD\",\"FD\",\"FD\",\"FD\",\"FD\",\"FD\",\"FD\",\"FD\",\"FD\",\"FD\",\"FD\",\"FD\",\"FD\",\"FD\",\"FD\",\"FD\",\"FD\",\"FD\",\"FD\",\"FD\",\"FD\",\"FD\",\"FD\",\"FD\",\"FD\",\"FD\",\"FD\",\"FD\",\"FD\",\"FD\",\"FD\",\"FD\",\"FD\",\"FD\",\"FD\",\"FD\",\"FD\",\"FD\",\"FD\",\"FD\",\"FD\",\"FD\",\"FD\",\"FD\",\"FD\",\"FD\",\"FD\",\"FD\",\"FD\",\"FD\",\"FD\",\"FD\",\"FD\",\"FD\",\"FD\",\"FD\",\"FD\",\"FD\",\"FD\",\"FD\",\"FD\",\"FD\",\"FD\",\"FD\",\"FD\",\"FD\",\"FD\",\"FD\",\"FD\",\"FD\",\"FD\",\"FD\",\"FD\",\"FD\",\"FD\",\"FD\",\"FD\",\"FD\",\"FD\",\"FD\",\"FD\",\"FD\",\"FD\",\"FD\",\"FD\",\"FD\",\"FD\",\"FD\",\"FD\",\"FD\",\"FD\",\"FD\",\"FD\",\"FD\",\"FD\",\"FD\",\"FD\",\"FD\",\"FD\",\"FD\",\"FD\",\"FD\",\"FD\",\"FD\",\"FD\",\"FD\",\"FD\",\"FD\",\"FD\",\"FD\",\"FD\",\"FD\",\"FD\",\"FD\",\"FD\",\"FD\",\"FD\",\"FD\",\"FD\",\"FD\",\"FD\",\"FD\",\"FD\",\"FD\",\"FD\",\"FD\",\"FD\",\"FD\",\"FD\",\"FD\",\"FD\",\"FD\",\"FD\",\"FD\",\"FD\",\"FD\",\"FD\",\"FD\",\"FD\",\"FD\",\"FD\",\"FD\",\"FD\",\"FD\",\"FD\",\"FD\",\"FD\",\"FD\",\"FD\",\"FD\",\"FD\",\"FD\",\"FD\",\"FD\",\"FD\",\"FD\",\"FD\",\"FD\",\"FD\",\"FD\",\"FD\",\"FD\",\"FD\",\"FD\",\"FD\",\"FD\",\"FD\",\"FD\",\"FD\",\"FD\",\"FD\",\"FD\",\"FD\",\"FD\",\"FD\",\"FD\",\"FD\",\"FD\",\"FD\",\"FD\",\"FD\",\"FD\",\"FD\",\"FD\",\"FD\",\"FD\",\"FD\",\"FD\",\"FD\",\"FD\",\"FD\",\"FD\",\"FD\",\"FD\",\"FD\",\"FD\",\"FD\",\"FD\",\"FD\",\"FD\",\"FD\",\"FD\",\"FD\",\"FD\",\"FD\",\"FD\",\"FD\",\"FD\",\"FD\",\"FD\",\"FD\",\"FD\",\"FD\",\"FD\",\"FD\",\"FD\",\"FD\",\"FD\",\"FD\",\"FD\",\"FD\",\"FD\",\"FD\",\"FD\",\"FD\",\"FD\",\"FD\",\"FD\",\"FD\",\"FD\",\"FD\",\"FD\",\"FD\",\"FD\",\"FD\",\"FD\",\"FD\",\"FD\",\"FD\",\"FD\",\"FD\",\"FD\",\"FD\",\"FD\",\"FD\",\"FD\",\"FD\",\"FD\",\"FD\",\"FD\",\"FD\",\"FD\",\"FD\",\"FD\",\"FD\",\"FD\",\"FD\",\"FD\",\"FD\",\"FD\",\"FD\",\"FD\",\"FD\",\"FD\",\"FD\",\"FD\",\"FD\",\"FD\",\"FD\",\"FD\",\"FD\",\"FD\",\"FD\",\"FD\",\"FD\",\"FD\",\"FD\",\"FD\",\"FD\",\"FD\",\"FD\",\"FD\",\"FD\",\"FD\",\"FD\",\"FD\",\"FD\",\"FD\",\"FD\",\"FD\",\"FD\",\"FD\",\"FD\",\"FD\",\"FD\",\"FD\",\"FD\",\"FD\",\"FD\",\"FD\",\"FD\",\"FD\",\"FD\",\"FD\",\"FD\",\"FD\",\"FD\",\"FD\",\"FD\",\"FD\",\"FD\",\"FD\",\"FD\",\"FD\",\"FD\",\"FD\",\"FD\",\"FD\",\"FD\",\"FD\",\"FD\",\"FD\",\"FD\",\"FD\",\"FD\",\"FD\",\"FD\",\"FD\",\"FD\",\"FD\",\"FD\",\"FD\",\"FD\",\"FD\",\"FD\",\"FD\",\"FD\",\"FD\",\"FD\",\"FD\",\"FD\",\"FD\",\"FD\",\"FD\",\"FD\",\"FD\",\"FD\",\"FD\",\"FD\",\"FD\",\"FD\",\"FD\",\"FD\",\"FD\",\"FD\",\"FD\",\"FD\",\"FD\",\"FD\",\"FD\",\"FD\",\"FD\",\"FD\",\"FD\",\"FD\",\"FD\",\"FD\",\"FD\",\"FD\",\"FD\",\"FD\",\"FD\",\"FD\",\"FD\",\"FD\",\"FD\",\"FD\",\"FD\",\"FD\",\"FD\",\"FD\",\"FD\",\"FD\",\"FD\",\"FD\",\"FD\",\"FD\",\"FD\",\"FD\",\"FD\",\"FD\",\"FD\",\"FD\",\"FD\",\"FD\",\"FD\",\"FD\",\"FD\",\"FD\",\"FD\",\"FD\",\"FD\",\"FD\",\"FD\",\"FD\",\"FD\",\"FD\",\"FD\",\"FD\",\"FD\",\"FD\",\"FD\",\"FD\",\"FD\",\"FD\",\"FD\",\"FD\",\"FD\"],\"xaxis\":\"x\",\"yaxis\":\"y\",\"type\":\"histogram\"},{\"alignmentgroup\":\"True\",\"bingroup\":\"x\",\"hovertemplate\":\"Item_Type=Frozen Foods\\u003cbr\\u003eItem_Category=%{x}\\u003cbr\\u003ecount=%{y}\\u003cextra\\u003e\\u003c\\u002fextra\\u003e\",\"legendgroup\":\"Frozen Foods\",\"marker\":{\"color\":\"#B6E880\",\"pattern\":{\"shape\":\"\"}},\"name\":\"Frozen Foods\",\"offsetgroup\":\"Frozen Foods\",\"orientation\":\"v\",\"showlegend\":true,\"x\":[\"FD\",\"FD\",\"FD\",\"FD\",\"FD\",\"FD\",\"FD\",\"FD\",\"FD\",\"FD\",\"FD\",\"FD\",\"FD\",\"FD\",\"FD\",\"FD\",\"FD\",\"FD\",\"FD\",\"FD\",\"FD\",\"FD\",\"FD\",\"FD\",\"FD\",\"FD\",\"FD\",\"FD\",\"FD\",\"FD\",\"FD\",\"FD\",\"FD\",\"FD\",\"FD\",\"FD\",\"FD\",\"FD\",\"FD\",\"FD\",\"FD\",\"FD\",\"FD\",\"FD\",\"FD\",\"FD\",\"FD\",\"FD\",\"FD\",\"FD\",\"FD\",\"FD\",\"FD\",\"FD\",\"FD\",\"FD\",\"FD\",\"FD\",\"FD\",\"FD\",\"FD\",\"FD\",\"FD\",\"FD\",\"FD\",\"FD\",\"FD\",\"FD\",\"FD\",\"FD\",\"FD\",\"FD\",\"FD\",\"FD\",\"FD\",\"FD\",\"FD\",\"FD\",\"FD\",\"FD\",\"FD\",\"FD\",\"FD\",\"FD\",\"FD\",\"FD\",\"FD\",\"FD\",\"FD\",\"FD\",\"FD\",\"FD\",\"FD\",\"FD\",\"FD\",\"FD\",\"FD\",\"FD\",\"FD\",\"FD\",\"FD\",\"FD\",\"FD\",\"FD\",\"FD\",\"FD\",\"FD\",\"FD\",\"FD\",\"FD\",\"FD\",\"FD\",\"FD\",\"FD\",\"FD\",\"FD\",\"FD\",\"FD\",\"FD\",\"FD\",\"FD\",\"FD\",\"FD\",\"FD\",\"FD\",\"FD\",\"FD\",\"FD\",\"FD\",\"FD\",\"FD\",\"FD\",\"FD\",\"FD\",\"FD\",\"FD\",\"FD\",\"FD\",\"FD\",\"FD\",\"FD\",\"FD\",\"FD\",\"FD\",\"FD\",\"FD\",\"FD\",\"FD\",\"FD\",\"FD\",\"FD\",\"FD\",\"FD\",\"FD\",\"FD\",\"FD\",\"FD\",\"FD\",\"FD\",\"FD\",\"FD\",\"FD\",\"FD\",\"FD\",\"FD\",\"FD\",\"FD\",\"FD\",\"FD\",\"FD\",\"FD\",\"FD\",\"FD\",\"FD\",\"FD\",\"FD\",\"FD\",\"FD\",\"FD\",\"FD\",\"FD\",\"FD\",\"FD\",\"FD\",\"FD\",\"FD\",\"FD\",\"FD\",\"FD\",\"FD\",\"FD\",\"FD\",\"FD\",\"FD\",\"FD\",\"FD\",\"FD\",\"FD\",\"FD\",\"FD\",\"FD\",\"FD\",\"FD\",\"FD\",\"FD\",\"FD\",\"FD\",\"FD\",\"FD\",\"FD\",\"FD\",\"FD\",\"FD\",\"FD\",\"FD\",\"FD\",\"FD\",\"FD\",\"FD\",\"FD\",\"FD\",\"FD\",\"FD\",\"FD\",\"FD\",\"FD\",\"FD\",\"FD\",\"FD\",\"FD\",\"FD\",\"FD\",\"FD\",\"FD\",\"FD\",\"FD\",\"FD\",\"FD\",\"FD\",\"FD\",\"FD\",\"FD\",\"FD\",\"FD\",\"FD\",\"FD\",\"FD\",\"FD\",\"FD\",\"FD\",\"FD\",\"FD\",\"FD\",\"FD\",\"FD\",\"FD\",\"FD\",\"FD\",\"FD\",\"FD\",\"FD\",\"FD\",\"FD\",\"FD\",\"FD\",\"FD\",\"FD\",\"FD\",\"FD\",\"FD\",\"FD\",\"FD\",\"FD\",\"FD\",\"FD\",\"FD\",\"FD\",\"FD\",\"FD\",\"FD\",\"FD\",\"FD\",\"FD\",\"FD\",\"FD\",\"FD\",\"FD\",\"FD\",\"FD\",\"FD\",\"FD\",\"FD\",\"FD\",\"FD\",\"FD\",\"FD\",\"FD\",\"FD\",\"FD\",\"FD\",\"FD\",\"FD\",\"FD\",\"FD\",\"FD\",\"FD\",\"FD\",\"FD\",\"FD\",\"FD\",\"FD\",\"FD\",\"FD\",\"FD\",\"FD\",\"FD\",\"FD\",\"FD\",\"FD\",\"FD\",\"FD\",\"FD\",\"FD\",\"FD\",\"FD\",\"FD\",\"FD\",\"FD\",\"FD\",\"FD\",\"FD\",\"FD\",\"FD\",\"FD\",\"FD\",\"FD\",\"FD\",\"FD\",\"FD\",\"FD\",\"FD\",\"FD\",\"FD\",\"FD\",\"FD\",\"FD\",\"FD\",\"FD\",\"FD\",\"FD\",\"FD\",\"FD\",\"FD\",\"FD\",\"FD\",\"FD\",\"FD\",\"FD\",\"FD\",\"FD\",\"FD\",\"FD\",\"FD\",\"FD\",\"FD\",\"FD\",\"FD\",\"FD\",\"FD\",\"FD\",\"FD\",\"FD\",\"FD\",\"FD\",\"FD\",\"FD\",\"FD\",\"FD\",\"FD\",\"FD\",\"FD\",\"FD\",\"FD\",\"FD\",\"FD\",\"FD\",\"FD\",\"FD\",\"FD\",\"FD\",\"FD\",\"FD\",\"FD\",\"FD\",\"FD\",\"FD\",\"FD\",\"FD\",\"FD\",\"FD\",\"FD\",\"FD\",\"FD\",\"FD\",\"FD\",\"FD\",\"FD\",\"FD\",\"FD\",\"FD\",\"FD\",\"FD\",\"FD\",\"FD\",\"FD\",\"FD\",\"FD\",\"FD\",\"FD\",\"FD\",\"FD\",\"FD\",\"FD\",\"FD\",\"FD\",\"FD\",\"FD\",\"FD\",\"FD\",\"FD\",\"FD\",\"FD\",\"FD\",\"FD\",\"FD\",\"FD\",\"FD\",\"FD\",\"FD\",\"FD\",\"FD\",\"FD\",\"FD\",\"FD\",\"FD\",\"FD\",\"FD\",\"FD\",\"FD\",\"FD\",\"FD\",\"FD\",\"FD\",\"FD\",\"FD\",\"FD\",\"FD\",\"FD\",\"FD\",\"FD\",\"FD\",\"FD\",\"FD\",\"FD\",\"FD\",\"FD\",\"FD\",\"FD\",\"FD\",\"FD\",\"FD\",\"FD\",\"FD\",\"FD\",\"FD\",\"FD\",\"FD\",\"FD\",\"FD\",\"FD\",\"FD\",\"FD\",\"FD\",\"FD\",\"FD\",\"FD\",\"FD\",\"FD\",\"FD\",\"FD\",\"FD\",\"FD\",\"FD\",\"FD\",\"FD\",\"FD\",\"FD\",\"FD\",\"FD\",\"FD\",\"FD\",\"FD\",\"FD\",\"FD\",\"FD\",\"FD\",\"FD\",\"FD\",\"FD\",\"FD\",\"FD\",\"FD\",\"FD\",\"FD\",\"FD\",\"FD\",\"FD\",\"FD\",\"FD\",\"FD\",\"FD\",\"FD\",\"FD\",\"FD\",\"FD\",\"FD\",\"FD\",\"FD\",\"FD\",\"FD\",\"FD\",\"FD\",\"FD\",\"FD\",\"FD\",\"FD\",\"FD\",\"FD\",\"FD\",\"FD\",\"FD\",\"FD\",\"FD\",\"FD\",\"FD\",\"FD\",\"FD\",\"FD\",\"FD\",\"FD\",\"FD\",\"FD\",\"FD\",\"FD\",\"FD\",\"FD\",\"FD\",\"FD\",\"FD\",\"FD\",\"FD\",\"FD\",\"FD\",\"FD\",\"FD\",\"FD\",\"FD\",\"FD\",\"FD\",\"FD\",\"FD\",\"FD\",\"FD\",\"FD\",\"FD\",\"FD\",\"FD\",\"FD\",\"FD\",\"FD\",\"FD\",\"FD\",\"FD\",\"FD\",\"FD\",\"FD\",\"FD\",\"FD\",\"FD\",\"FD\",\"FD\",\"FD\",\"FD\",\"FD\",\"FD\",\"FD\",\"FD\",\"FD\",\"FD\",\"FD\",\"FD\",\"FD\",\"FD\",\"FD\",\"FD\",\"FD\",\"FD\",\"FD\",\"FD\",\"FD\",\"FD\",\"FD\",\"FD\",\"FD\",\"FD\",\"FD\",\"FD\",\"FD\",\"FD\",\"FD\",\"FD\",\"FD\",\"FD\",\"FD\",\"FD\",\"FD\",\"FD\",\"FD\",\"FD\",\"FD\",\"FD\",\"FD\",\"FD\",\"FD\",\"FD\",\"FD\",\"FD\",\"FD\",\"FD\",\"FD\",\"FD\",\"FD\",\"FD\",\"FD\",\"FD\",\"FD\",\"FD\",\"FD\",\"FD\",\"FD\",\"FD\",\"FD\",\"FD\",\"FD\",\"FD\",\"FD\",\"FD\",\"FD\",\"FD\",\"FD\",\"FD\",\"FD\",\"FD\",\"FD\",\"FD\",\"FD\",\"FD\",\"FD\",\"FD\",\"FD\",\"FD\",\"FD\",\"FD\",\"FD\",\"FD\",\"FD\",\"FD\",\"FD\",\"FD\",\"FD\",\"FD\",\"FD\",\"FD\",\"FD\",\"FD\",\"FD\",\"FD\",\"FD\",\"FD\",\"FD\",\"FD\",\"FD\",\"FD\",\"FD\",\"FD\",\"FD\",\"FD\",\"FD\",\"FD\",\"FD\",\"FD\",\"FD\",\"FD\",\"FD\",\"FD\",\"FD\",\"FD\",\"FD\",\"FD\",\"FD\",\"FD\",\"FD\",\"FD\",\"FD\",\"FD\",\"FD\",\"FD\",\"FD\",\"FD\",\"FD\",\"FD\",\"FD\",\"FD\",\"FD\",\"FD\",\"FD\",\"FD\",\"FD\",\"FD\",\"FD\",\"FD\",\"FD\",\"FD\",\"FD\",\"FD\",\"FD\",\"FD\",\"FD\",\"FD\",\"FD\",\"FD\",\"FD\",\"FD\",\"FD\",\"FD\",\"FD\",\"FD\",\"FD\",\"FD\",\"FD\",\"FD\",\"FD\",\"FD\",\"FD\",\"FD\",\"FD\",\"FD\",\"FD\",\"FD\",\"FD\",\"FD\",\"FD\",\"FD\",\"FD\",\"FD\",\"FD\",\"FD\",\"FD\",\"FD\",\"FD\",\"FD\",\"FD\",\"FD\",\"FD\",\"FD\",\"FD\",\"FD\",\"FD\",\"FD\",\"FD\",\"FD\",\"FD\",\"FD\",\"FD\",\"FD\",\"FD\",\"FD\",\"FD\",\"FD\",\"FD\",\"FD\",\"FD\",\"FD\",\"FD\",\"FD\",\"FD\",\"FD\",\"FD\",\"FD\",\"FD\",\"FD\",\"FD\",\"FD\",\"FD\",\"FD\",\"FD\",\"FD\",\"FD\",\"FD\",\"FD\",\"FD\",\"FD\",\"FD\",\"FD\",\"FD\",\"FD\",\"FD\",\"FD\",\"FD\",\"FD\",\"FD\",\"FD\",\"FD\",\"FD\",\"FD\",\"FD\",\"FD\",\"FD\",\"FD\",\"FD\",\"FD\",\"FD\",\"FD\",\"FD\",\"FD\",\"FD\",\"FD\",\"FD\",\"FD\",\"FD\",\"FD\",\"FD\",\"FD\",\"FD\",\"FD\",\"FD\",\"FD\",\"FD\",\"FD\",\"FD\",\"FD\",\"FD\",\"FD\",\"FD\",\"FD\",\"FD\"],\"xaxis\":\"x\",\"yaxis\":\"y\",\"type\":\"histogram\"},{\"alignmentgroup\":\"True\",\"bingroup\":\"x\",\"hovertemplate\":\"Item_Type=Breakfast\\u003cbr\\u003eItem_Category=%{x}\\u003cbr\\u003ecount=%{y}\\u003cextra\\u003e\\u003c\\u002fextra\\u003e\",\"legendgroup\":\"Breakfast\",\"marker\":{\"color\":\"#FF97FF\",\"pattern\":{\"shape\":\"\"}},\"name\":\"Breakfast\",\"offsetgroup\":\"Breakfast\",\"orientation\":\"v\",\"showlegend\":true,\"x\":[\"FD\",\"FD\",\"FD\",\"FD\",\"FD\",\"FD\",\"FD\",\"FD\",\"FD\",\"FD\",\"FD\",\"FD\",\"FD\",\"FD\",\"FD\",\"FD\",\"FD\",\"FD\",\"FD\",\"FD\",\"FD\",\"FD\",\"FD\",\"FD\",\"FD\",\"FD\",\"FD\",\"FD\",\"FD\",\"FD\",\"FD\",\"FD\",\"FD\",\"FD\",\"FD\",\"FD\",\"FD\",\"FD\",\"FD\",\"FD\",\"FD\",\"FD\",\"FD\",\"FD\",\"FD\",\"FD\",\"FD\",\"FD\",\"FD\",\"FD\",\"FD\",\"FD\",\"FD\",\"FD\",\"FD\",\"FD\",\"FD\",\"FD\",\"FD\",\"FD\",\"FD\",\"FD\",\"FD\",\"FD\",\"FD\",\"FD\",\"FD\",\"FD\",\"FD\",\"FD\",\"FD\",\"FD\",\"FD\",\"FD\",\"FD\",\"FD\",\"FD\",\"FD\",\"FD\",\"FD\",\"FD\",\"FD\",\"FD\",\"FD\",\"FD\",\"FD\",\"FD\",\"FD\",\"FD\",\"FD\",\"FD\",\"FD\",\"FD\",\"FD\",\"FD\",\"FD\",\"FD\",\"FD\",\"FD\",\"FD\",\"FD\",\"FD\",\"FD\",\"FD\",\"FD\",\"FD\",\"FD\",\"FD\",\"FD\",\"FD\"],\"xaxis\":\"x\",\"yaxis\":\"y\",\"type\":\"histogram\"},{\"alignmentgroup\":\"True\",\"bingroup\":\"x\",\"hovertemplate\":\"Item_Type=Health and Hygiene\\u003cbr\\u003eItem_Category=%{x}\\u003cbr\\u003ecount=%{y}\\u003cextra\\u003e\\u003c\\u002fextra\\u003e\",\"legendgroup\":\"Health and Hygiene\",\"marker\":{\"color\":\"#FECB52\",\"pattern\":{\"shape\":\"\"}},\"name\":\"Health and Hygiene\",\"offsetgroup\":\"Health and Hygiene\",\"orientation\":\"v\",\"showlegend\":true,\"x\":[\"NC\",\"NC\",\"NC\",\"NC\",\"NC\",\"NC\",\"NC\",\"NC\",\"NC\",\"NC\",\"NC\",\"NC\",\"NC\",\"NC\",\"NC\",\"NC\",\"NC\",\"NC\",\"NC\",\"NC\",\"NC\",\"NC\",\"NC\",\"NC\",\"NC\",\"NC\",\"NC\",\"NC\",\"NC\",\"NC\",\"NC\",\"NC\",\"NC\",\"NC\",\"NC\",\"NC\",\"NC\",\"NC\",\"NC\",\"NC\",\"NC\",\"NC\",\"NC\",\"NC\",\"NC\",\"NC\",\"NC\",\"NC\",\"NC\",\"NC\",\"NC\",\"NC\",\"NC\",\"NC\",\"NC\",\"NC\",\"NC\",\"NC\",\"NC\",\"NC\",\"NC\",\"NC\",\"NC\",\"NC\",\"NC\",\"NC\",\"NC\",\"NC\",\"NC\",\"NC\",\"NC\",\"NC\",\"NC\",\"NC\",\"NC\",\"NC\",\"NC\",\"NC\",\"NC\",\"NC\",\"NC\",\"NC\",\"NC\",\"NC\",\"NC\",\"NC\",\"NC\",\"NC\",\"NC\",\"NC\",\"NC\",\"NC\",\"NC\",\"NC\",\"NC\",\"NC\",\"NC\",\"NC\",\"NC\",\"NC\",\"NC\",\"NC\",\"NC\",\"NC\",\"NC\",\"NC\",\"NC\",\"NC\",\"NC\",\"NC\",\"NC\",\"NC\",\"NC\",\"NC\",\"NC\",\"NC\",\"NC\",\"NC\",\"NC\",\"NC\",\"NC\",\"NC\",\"NC\",\"NC\",\"NC\",\"NC\",\"NC\",\"NC\",\"NC\",\"NC\",\"NC\",\"NC\",\"NC\",\"NC\",\"NC\",\"NC\",\"NC\",\"NC\",\"NC\",\"NC\",\"NC\",\"NC\",\"NC\",\"NC\",\"NC\",\"NC\",\"NC\",\"NC\",\"NC\",\"NC\",\"NC\",\"NC\",\"NC\",\"NC\",\"NC\",\"NC\",\"NC\",\"NC\",\"NC\",\"NC\",\"NC\",\"NC\",\"NC\",\"NC\",\"NC\",\"NC\",\"NC\",\"NC\",\"NC\",\"NC\",\"NC\",\"NC\",\"NC\",\"NC\",\"NC\",\"NC\",\"NC\",\"NC\",\"NC\",\"NC\",\"NC\",\"NC\",\"NC\",\"NC\",\"NC\",\"NC\",\"NC\",\"NC\",\"NC\",\"NC\",\"NC\",\"NC\",\"NC\",\"NC\",\"NC\",\"NC\",\"NC\",\"NC\",\"NC\",\"NC\",\"NC\",\"NC\",\"NC\",\"NC\",\"NC\",\"NC\",\"NC\",\"NC\",\"NC\",\"NC\",\"NC\",\"NC\",\"NC\",\"NC\",\"NC\",\"NC\",\"NC\",\"NC\",\"NC\",\"NC\",\"NC\",\"NC\",\"NC\",\"NC\",\"NC\",\"NC\",\"NC\",\"NC\",\"NC\",\"NC\",\"NC\",\"NC\",\"NC\",\"NC\",\"NC\",\"NC\",\"NC\",\"NC\",\"NC\",\"NC\",\"NC\",\"NC\",\"NC\",\"NC\",\"NC\",\"NC\",\"NC\",\"NC\",\"NC\",\"NC\",\"NC\",\"NC\",\"NC\",\"NC\",\"NC\",\"NC\",\"NC\",\"NC\",\"NC\",\"NC\",\"NC\",\"NC\",\"NC\",\"NC\",\"NC\",\"NC\",\"NC\",\"NC\",\"NC\",\"NC\",\"NC\",\"NC\",\"NC\",\"NC\",\"NC\",\"NC\",\"NC\",\"NC\",\"NC\",\"NC\",\"NC\",\"NC\",\"NC\",\"NC\",\"NC\",\"NC\",\"NC\",\"NC\",\"NC\",\"NC\",\"NC\",\"NC\",\"NC\",\"NC\",\"NC\",\"NC\",\"NC\",\"NC\",\"NC\",\"NC\",\"NC\",\"NC\",\"NC\",\"NC\",\"NC\",\"NC\",\"NC\",\"NC\",\"NC\",\"NC\",\"NC\",\"NC\",\"NC\",\"NC\",\"NC\",\"NC\",\"NC\",\"NC\",\"NC\",\"NC\",\"NC\",\"NC\",\"NC\",\"NC\",\"NC\",\"NC\",\"NC\",\"NC\",\"NC\",\"NC\",\"NC\",\"NC\",\"NC\",\"NC\",\"NC\",\"NC\",\"NC\",\"NC\",\"NC\",\"NC\",\"NC\",\"NC\",\"NC\",\"NC\",\"NC\",\"NC\",\"NC\",\"NC\",\"NC\",\"NC\",\"NC\",\"NC\",\"NC\",\"NC\",\"NC\",\"NC\",\"NC\",\"NC\",\"NC\",\"NC\",\"NC\",\"NC\",\"NC\",\"NC\",\"NC\",\"NC\",\"NC\",\"NC\",\"NC\",\"NC\",\"NC\",\"NC\",\"NC\",\"NC\",\"NC\",\"NC\",\"NC\",\"NC\",\"NC\",\"NC\",\"NC\",\"NC\",\"NC\",\"NC\",\"NC\",\"NC\",\"NC\",\"NC\",\"NC\",\"NC\",\"NC\",\"NC\",\"NC\",\"NC\",\"NC\",\"NC\",\"NC\",\"NC\",\"NC\",\"NC\",\"NC\",\"NC\",\"NC\",\"NC\",\"NC\",\"NC\",\"NC\",\"NC\",\"NC\",\"NC\",\"NC\",\"NC\",\"NC\",\"NC\",\"NC\",\"NC\",\"NC\",\"NC\",\"NC\",\"NC\",\"NC\",\"NC\",\"NC\",\"NC\",\"NC\",\"NC\",\"NC\",\"NC\",\"NC\",\"NC\",\"NC\",\"NC\",\"NC\",\"NC\",\"NC\",\"NC\",\"NC\",\"NC\",\"NC\",\"NC\",\"NC\",\"NC\",\"NC\",\"NC\",\"NC\",\"NC\",\"NC\",\"NC\",\"NC\",\"NC\",\"NC\",\"NC\",\"NC\",\"NC\",\"NC\",\"NC\",\"NC\",\"NC\",\"NC\",\"NC\",\"NC\",\"NC\",\"NC\",\"NC\",\"NC\",\"NC\",\"NC\",\"NC\",\"NC\",\"NC\",\"NC\",\"NC\",\"NC\",\"NC\",\"NC\",\"NC\",\"NC\",\"NC\",\"NC\",\"NC\",\"NC\",\"NC\",\"NC\",\"NC\",\"NC\",\"NC\",\"NC\",\"NC\",\"NC\",\"NC\",\"NC\",\"NC\",\"NC\",\"NC\",\"NC\",\"NC\",\"NC\",\"NC\",\"NC\",\"NC\",\"NC\",\"NC\",\"NC\",\"NC\",\"NC\",\"NC\",\"NC\",\"NC\",\"NC\",\"NC\",\"NC\",\"NC\",\"NC\",\"NC\",\"NC\",\"NC\",\"NC\",\"NC\",\"NC\",\"NC\"],\"xaxis\":\"x\",\"yaxis\":\"y\",\"type\":\"histogram\"},{\"alignmentgroup\":\"True\",\"bingroup\":\"x\",\"hovertemplate\":\"Item_Type=Hard Drinks\\u003cbr\\u003eItem_Category=%{x}\\u003cbr\\u003ecount=%{y}\\u003cextra\\u003e\\u003c\\u002fextra\\u003e\",\"legendgroup\":\"Hard Drinks\",\"marker\":{\"color\":\"#636efa\",\"pattern\":{\"shape\":\"\"}},\"name\":\"Hard Drinks\",\"offsetgroup\":\"Hard Drinks\",\"orientation\":\"v\",\"showlegend\":true,\"x\":[\"DR\",\"DR\",\"DR\",\"DR\",\"DR\",\"DR\",\"DR\",\"DR\",\"DR\",\"DR\",\"DR\",\"DR\",\"DR\",\"DR\",\"DR\",\"DR\",\"DR\",\"DR\",\"DR\",\"DR\",\"DR\",\"DR\",\"DR\",\"DR\",\"DR\",\"DR\",\"DR\",\"DR\",\"DR\",\"DR\",\"DR\",\"DR\",\"DR\",\"DR\",\"DR\",\"DR\",\"DR\",\"DR\",\"DR\",\"DR\",\"DR\",\"DR\",\"DR\",\"DR\",\"DR\",\"DR\",\"DR\",\"DR\",\"DR\",\"DR\",\"DR\",\"DR\",\"DR\",\"DR\",\"DR\",\"DR\",\"DR\",\"DR\",\"DR\",\"DR\",\"DR\",\"DR\",\"DR\",\"DR\",\"DR\",\"DR\",\"DR\",\"DR\",\"DR\",\"DR\",\"DR\",\"DR\",\"DR\",\"DR\",\"DR\",\"DR\",\"DR\",\"DR\",\"DR\",\"DR\",\"DR\",\"DR\",\"DR\",\"DR\",\"DR\",\"DR\",\"DR\",\"DR\",\"DR\",\"DR\",\"DR\",\"DR\",\"DR\",\"DR\",\"DR\",\"DR\",\"DR\",\"DR\",\"DR\",\"DR\",\"DR\",\"DR\",\"DR\",\"DR\",\"DR\",\"DR\",\"DR\",\"DR\",\"DR\",\"DR\",\"DR\",\"DR\",\"DR\",\"DR\",\"DR\",\"DR\",\"DR\",\"DR\",\"DR\",\"DR\",\"DR\",\"DR\",\"DR\",\"DR\",\"DR\",\"DR\",\"DR\",\"DR\",\"DR\",\"DR\",\"DR\",\"DR\",\"DR\",\"DR\",\"DR\",\"DR\",\"DR\",\"DR\",\"DR\",\"DR\",\"DR\",\"DR\",\"DR\",\"DR\",\"DR\",\"DR\",\"DR\",\"DR\",\"DR\",\"DR\",\"DR\",\"DR\",\"DR\",\"DR\",\"DR\",\"DR\",\"DR\",\"DR\",\"DR\",\"DR\",\"DR\",\"DR\",\"DR\",\"DR\",\"DR\",\"DR\",\"DR\",\"DR\",\"DR\",\"DR\",\"DR\",\"DR\",\"DR\",\"DR\",\"DR\",\"DR\",\"DR\",\"DR\",\"DR\",\"DR\",\"DR\",\"DR\",\"DR\",\"DR\",\"DR\",\"DR\",\"DR\",\"DR\",\"DR\",\"DR\",\"DR\",\"DR\",\"DR\",\"DR\",\"DR\",\"DR\",\"DR\",\"DR\",\"DR\",\"DR\",\"DR\",\"DR\",\"DR\",\"DR\",\"DR\",\"DR\",\"DR\",\"DR\",\"DR\",\"DR\",\"DR\",\"DR\",\"DR\",\"DR\"],\"xaxis\":\"x\",\"yaxis\":\"y\",\"type\":\"histogram\"},{\"alignmentgroup\":\"True\",\"bingroup\":\"x\",\"hovertemplate\":\"Item_Type=Canned\\u003cbr\\u003eItem_Category=%{x}\\u003cbr\\u003ecount=%{y}\\u003cextra\\u003e\\u003c\\u002fextra\\u003e\",\"legendgroup\":\"Canned\",\"marker\":{\"color\":\"#EF553B\",\"pattern\":{\"shape\":\"\"}},\"name\":\"Canned\",\"offsetgroup\":\"Canned\",\"orientation\":\"v\",\"showlegend\":true,\"x\":[\"FD\",\"FD\",\"FD\",\"FD\",\"FD\",\"FD\",\"FD\",\"FD\",\"FD\",\"FD\",\"FD\",\"FD\",\"FD\",\"FD\",\"FD\",\"FD\",\"FD\",\"FD\",\"FD\",\"FD\",\"FD\",\"FD\",\"FD\",\"FD\",\"FD\",\"FD\",\"FD\",\"FD\",\"FD\",\"FD\",\"FD\",\"FD\",\"FD\",\"FD\",\"FD\",\"FD\",\"FD\",\"FD\",\"FD\",\"FD\",\"FD\",\"FD\",\"FD\",\"FD\",\"FD\",\"FD\",\"FD\",\"FD\",\"FD\",\"FD\",\"FD\",\"FD\",\"FD\",\"FD\",\"FD\",\"FD\",\"FD\",\"FD\",\"FD\",\"FD\",\"FD\",\"FD\",\"FD\",\"FD\",\"FD\",\"FD\",\"FD\",\"FD\",\"FD\",\"FD\",\"FD\",\"FD\",\"FD\",\"FD\",\"FD\",\"FD\",\"FD\",\"FD\",\"FD\",\"FD\",\"FD\",\"FD\",\"FD\",\"FD\",\"FD\",\"FD\",\"FD\",\"FD\",\"FD\",\"FD\",\"FD\",\"FD\",\"FD\",\"FD\",\"FD\",\"FD\",\"FD\",\"FD\",\"FD\",\"FD\",\"FD\",\"FD\",\"FD\",\"FD\",\"FD\",\"FD\",\"FD\",\"FD\",\"FD\",\"FD\",\"FD\",\"FD\",\"FD\",\"FD\",\"FD\",\"FD\",\"FD\",\"FD\",\"FD\",\"FD\",\"FD\",\"FD\",\"FD\",\"FD\",\"FD\",\"FD\",\"FD\",\"FD\",\"FD\",\"FD\",\"FD\",\"FD\",\"FD\",\"FD\",\"FD\",\"FD\",\"FD\",\"FD\",\"FD\",\"FD\",\"FD\",\"FD\",\"FD\",\"FD\",\"FD\",\"FD\",\"FD\",\"FD\",\"FD\",\"FD\",\"FD\",\"FD\",\"FD\",\"FD\",\"FD\",\"FD\",\"FD\",\"FD\",\"FD\",\"FD\",\"FD\",\"FD\",\"FD\",\"FD\",\"FD\",\"FD\",\"FD\",\"FD\",\"FD\",\"FD\",\"FD\",\"FD\",\"FD\",\"FD\",\"FD\",\"FD\",\"FD\",\"FD\",\"FD\",\"FD\",\"FD\",\"FD\",\"FD\",\"FD\",\"FD\",\"FD\",\"FD\",\"FD\",\"FD\",\"FD\",\"FD\",\"FD\",\"FD\",\"FD\",\"FD\",\"FD\",\"FD\",\"FD\",\"FD\",\"FD\",\"FD\",\"FD\",\"FD\",\"FD\",\"FD\",\"FD\",\"FD\",\"FD\",\"FD\",\"FD\",\"FD\",\"FD\",\"FD\",\"FD\",\"FD\",\"FD\",\"FD\",\"FD\",\"FD\",\"FD\",\"FD\",\"FD\",\"FD\",\"FD\",\"FD\",\"FD\",\"FD\",\"FD\",\"FD\",\"FD\",\"FD\",\"FD\",\"FD\",\"FD\",\"FD\",\"FD\",\"FD\",\"FD\",\"FD\",\"FD\",\"FD\",\"FD\",\"FD\",\"FD\",\"FD\",\"FD\",\"FD\",\"FD\",\"FD\",\"FD\",\"FD\",\"FD\",\"FD\",\"FD\",\"FD\",\"FD\",\"FD\",\"FD\",\"FD\",\"FD\",\"FD\",\"FD\",\"FD\",\"FD\",\"FD\",\"FD\",\"FD\",\"FD\",\"FD\",\"FD\",\"FD\",\"FD\",\"FD\",\"FD\",\"FD\",\"FD\",\"FD\",\"FD\",\"FD\",\"FD\",\"FD\",\"FD\",\"FD\",\"FD\",\"FD\",\"FD\",\"FD\",\"FD\",\"FD\",\"FD\",\"FD\",\"FD\",\"FD\",\"FD\",\"FD\",\"FD\",\"FD\",\"FD\",\"FD\",\"FD\",\"FD\",\"FD\",\"FD\",\"FD\",\"FD\",\"FD\",\"FD\",\"FD\",\"FD\",\"FD\",\"FD\",\"FD\",\"FD\",\"FD\",\"FD\",\"FD\",\"FD\",\"FD\",\"FD\",\"FD\",\"FD\",\"FD\",\"FD\",\"FD\",\"FD\",\"FD\",\"FD\",\"FD\",\"FD\",\"FD\",\"FD\",\"FD\",\"FD\",\"FD\",\"FD\",\"FD\",\"FD\",\"FD\",\"FD\",\"FD\",\"FD\",\"FD\",\"FD\",\"FD\",\"FD\",\"FD\",\"FD\",\"FD\",\"FD\",\"FD\",\"FD\",\"FD\",\"FD\",\"FD\",\"FD\",\"FD\",\"FD\",\"FD\",\"FD\",\"FD\",\"FD\",\"FD\",\"FD\",\"FD\",\"FD\",\"FD\",\"FD\",\"FD\",\"FD\",\"FD\",\"FD\",\"FD\",\"FD\",\"FD\",\"FD\",\"FD\",\"FD\",\"FD\",\"FD\",\"FD\",\"FD\",\"FD\",\"FD\",\"FD\",\"FD\",\"FD\",\"FD\",\"FD\",\"FD\",\"FD\",\"FD\",\"FD\",\"FD\",\"FD\",\"FD\",\"FD\",\"FD\",\"FD\",\"FD\",\"FD\",\"FD\",\"FD\",\"FD\",\"FD\",\"FD\",\"FD\",\"FD\",\"FD\",\"FD\",\"FD\",\"FD\",\"FD\",\"FD\",\"FD\",\"FD\",\"FD\",\"FD\",\"FD\",\"FD\",\"FD\",\"FD\",\"FD\",\"FD\",\"FD\",\"FD\",\"FD\",\"FD\",\"FD\",\"FD\",\"FD\",\"FD\",\"FD\",\"FD\",\"FD\",\"FD\",\"FD\",\"FD\",\"FD\",\"FD\",\"FD\",\"FD\",\"FD\",\"FD\",\"FD\",\"FD\",\"FD\",\"FD\",\"FD\",\"FD\",\"FD\",\"FD\",\"FD\",\"FD\",\"FD\",\"FD\",\"FD\",\"FD\",\"FD\",\"FD\",\"FD\",\"FD\",\"FD\",\"FD\",\"FD\",\"FD\",\"FD\",\"FD\",\"FD\",\"FD\",\"FD\",\"FD\",\"FD\",\"FD\",\"FD\",\"FD\",\"FD\",\"FD\",\"FD\",\"FD\",\"FD\",\"FD\",\"FD\",\"FD\",\"FD\",\"FD\",\"FD\",\"FD\",\"FD\",\"FD\",\"FD\",\"FD\",\"FD\",\"FD\",\"FD\",\"FD\",\"FD\",\"FD\",\"FD\",\"FD\",\"FD\",\"FD\",\"FD\",\"FD\",\"FD\",\"FD\",\"FD\",\"FD\",\"FD\",\"FD\",\"FD\",\"FD\",\"FD\",\"FD\",\"FD\",\"FD\",\"FD\",\"FD\",\"FD\",\"FD\",\"FD\",\"FD\",\"FD\",\"FD\",\"FD\",\"FD\",\"FD\",\"FD\",\"FD\",\"FD\",\"FD\",\"FD\",\"FD\",\"FD\",\"FD\",\"FD\",\"FD\",\"FD\",\"FD\",\"FD\",\"FD\",\"FD\",\"FD\",\"FD\",\"FD\",\"FD\",\"FD\",\"FD\",\"FD\",\"FD\",\"FD\",\"FD\",\"FD\",\"FD\",\"FD\",\"FD\",\"FD\",\"FD\",\"FD\",\"FD\",\"FD\",\"FD\",\"FD\",\"FD\",\"FD\",\"FD\",\"FD\",\"FD\",\"FD\",\"FD\",\"FD\",\"FD\",\"FD\",\"FD\",\"FD\",\"FD\",\"FD\",\"FD\",\"FD\",\"FD\",\"FD\",\"FD\",\"FD\",\"FD\",\"FD\",\"FD\",\"FD\",\"FD\",\"FD\",\"FD\",\"FD\",\"FD\",\"FD\",\"FD\",\"FD\",\"FD\",\"FD\",\"FD\",\"FD\",\"FD\",\"FD\",\"FD\",\"FD\",\"FD\",\"FD\",\"FD\",\"FD\",\"FD\",\"FD\",\"FD\",\"FD\",\"FD\",\"FD\",\"FD\",\"FD\",\"FD\",\"FD\",\"FD\",\"FD\",\"FD\",\"FD\",\"FD\",\"FD\",\"FD\",\"FD\",\"FD\",\"FD\",\"FD\",\"FD\",\"FD\",\"FD\",\"FD\",\"FD\",\"FD\",\"FD\",\"FD\",\"FD\",\"FD\",\"FD\",\"FD\",\"FD\",\"FD\",\"FD\",\"FD\",\"FD\",\"FD\",\"FD\",\"FD\",\"FD\",\"FD\"],\"xaxis\":\"x\",\"yaxis\":\"y\",\"type\":\"histogram\"},{\"alignmentgroup\":\"True\",\"bingroup\":\"x\",\"hovertemplate\":\"Item_Type=Breads\\u003cbr\\u003eItem_Category=%{x}\\u003cbr\\u003ecount=%{y}\\u003cextra\\u003e\\u003c\\u002fextra\\u003e\",\"legendgroup\":\"Breads\",\"marker\":{\"color\":\"#00cc96\",\"pattern\":{\"shape\":\"\"}},\"name\":\"Breads\",\"offsetgroup\":\"Breads\",\"orientation\":\"v\",\"showlegend\":true,\"x\":[\"FD\",\"FD\",\"FD\",\"FD\",\"FD\",\"FD\",\"FD\",\"FD\",\"FD\",\"FD\",\"FD\",\"FD\",\"FD\",\"FD\",\"FD\",\"FD\",\"FD\",\"FD\",\"FD\",\"FD\",\"FD\",\"FD\",\"FD\",\"FD\",\"FD\",\"FD\",\"FD\",\"FD\",\"FD\",\"FD\",\"FD\",\"FD\",\"FD\",\"FD\",\"FD\",\"FD\",\"FD\",\"FD\",\"FD\",\"FD\",\"FD\",\"FD\",\"FD\",\"FD\",\"FD\",\"FD\",\"FD\",\"FD\",\"FD\",\"FD\",\"FD\",\"FD\",\"FD\",\"FD\",\"FD\",\"FD\",\"FD\",\"FD\",\"FD\",\"FD\",\"FD\",\"FD\",\"FD\",\"FD\",\"FD\",\"FD\",\"FD\",\"FD\",\"FD\",\"FD\",\"FD\",\"FD\",\"FD\",\"FD\",\"FD\",\"FD\",\"FD\",\"FD\",\"FD\",\"FD\",\"FD\",\"FD\",\"FD\",\"FD\",\"FD\",\"FD\",\"FD\",\"FD\",\"FD\",\"FD\",\"FD\",\"FD\",\"FD\",\"FD\",\"FD\",\"FD\",\"FD\",\"FD\",\"FD\",\"FD\",\"FD\",\"FD\",\"FD\",\"FD\",\"FD\",\"FD\",\"FD\",\"FD\",\"FD\",\"FD\",\"FD\",\"FD\",\"FD\",\"FD\",\"FD\",\"FD\",\"FD\",\"FD\",\"FD\",\"FD\",\"FD\",\"FD\",\"FD\",\"FD\",\"FD\",\"FD\",\"FD\",\"FD\",\"FD\",\"FD\",\"FD\",\"FD\",\"FD\",\"FD\",\"FD\",\"FD\",\"FD\",\"FD\",\"FD\",\"FD\",\"FD\",\"FD\",\"FD\",\"FD\",\"FD\",\"FD\",\"FD\",\"FD\",\"FD\",\"FD\",\"FD\",\"FD\",\"FD\",\"FD\",\"FD\",\"FD\",\"FD\",\"FD\",\"FD\",\"FD\",\"FD\",\"FD\",\"FD\",\"FD\",\"FD\",\"FD\",\"FD\",\"FD\",\"FD\",\"FD\",\"FD\",\"FD\",\"FD\",\"FD\",\"FD\",\"FD\",\"FD\",\"FD\",\"FD\",\"FD\",\"FD\",\"FD\",\"FD\",\"FD\",\"FD\",\"FD\",\"FD\",\"FD\",\"FD\",\"FD\",\"FD\",\"FD\",\"FD\",\"FD\",\"FD\",\"FD\",\"FD\",\"FD\",\"FD\",\"FD\",\"FD\",\"FD\",\"FD\",\"FD\",\"FD\",\"FD\",\"FD\",\"FD\",\"FD\",\"FD\",\"FD\",\"FD\",\"FD\",\"FD\",\"FD\",\"FD\",\"FD\",\"FD\",\"FD\",\"FD\",\"FD\",\"FD\",\"FD\",\"FD\",\"FD\",\"FD\",\"FD\",\"FD\",\"FD\",\"FD\",\"FD\",\"FD\",\"FD\",\"FD\",\"FD\",\"FD\",\"FD\",\"FD\",\"FD\",\"FD\",\"FD\",\"FD\",\"FD\",\"FD\",\"FD\",\"FD\",\"FD\",\"FD\",\"FD\",\"FD\",\"FD\"],\"xaxis\":\"x\",\"yaxis\":\"y\",\"type\":\"histogram\"},{\"alignmentgroup\":\"True\",\"bingroup\":\"x\",\"hovertemplate\":\"Item_Type=Starchy Foods\\u003cbr\\u003eItem_Category=%{x}\\u003cbr\\u003ecount=%{y}\\u003cextra\\u003e\\u003c\\u002fextra\\u003e\",\"legendgroup\":\"Starchy Foods\",\"marker\":{\"color\":\"#ab63fa\",\"pattern\":{\"shape\":\"\"}},\"name\":\"Starchy Foods\",\"offsetgroup\":\"Starchy Foods\",\"orientation\":\"v\",\"showlegend\":true,\"x\":[\"FD\",\"FD\",\"FD\",\"FD\",\"FD\",\"FD\",\"FD\",\"FD\",\"FD\",\"FD\",\"FD\",\"FD\",\"FD\",\"FD\",\"FD\",\"FD\",\"FD\",\"FD\",\"FD\",\"FD\",\"FD\",\"FD\",\"FD\",\"FD\",\"FD\",\"FD\",\"FD\",\"FD\",\"FD\",\"FD\",\"FD\",\"FD\",\"FD\",\"FD\",\"FD\",\"FD\",\"FD\",\"FD\",\"FD\",\"FD\",\"FD\",\"FD\",\"FD\",\"FD\",\"FD\",\"FD\",\"FD\",\"FD\",\"FD\",\"FD\",\"FD\",\"FD\",\"FD\",\"FD\",\"FD\",\"FD\",\"FD\",\"FD\",\"FD\",\"FD\",\"FD\",\"FD\",\"FD\",\"FD\",\"FD\",\"FD\",\"FD\",\"FD\",\"FD\",\"FD\",\"FD\",\"FD\",\"FD\",\"FD\",\"FD\",\"FD\",\"FD\",\"FD\",\"FD\",\"FD\",\"FD\",\"FD\",\"FD\",\"FD\",\"FD\",\"FD\",\"FD\",\"FD\",\"FD\",\"FD\",\"FD\",\"FD\",\"FD\",\"FD\",\"FD\",\"FD\",\"FD\",\"FD\",\"FD\",\"FD\",\"FD\",\"FD\",\"FD\",\"FD\",\"FD\",\"FD\",\"FD\",\"FD\",\"FD\",\"FD\",\"FD\",\"FD\",\"FD\",\"FD\",\"FD\",\"FD\",\"FD\",\"FD\",\"FD\",\"FD\",\"FD\",\"FD\",\"FD\",\"FD\",\"FD\",\"FD\",\"FD\",\"FD\",\"FD\",\"FD\",\"FD\",\"FD\",\"FD\",\"FD\",\"FD\",\"FD\",\"FD\",\"FD\",\"FD\",\"FD\",\"FD\",\"FD\",\"FD\",\"FD\",\"FD\",\"FD\",\"FD\",\"FD\"],\"xaxis\":\"x\",\"yaxis\":\"y\",\"type\":\"histogram\"},{\"alignmentgroup\":\"True\",\"bingroup\":\"x\",\"hovertemplate\":\"Item_Type=Others\\u003cbr\\u003eItem_Category=%{x}\\u003cbr\\u003ecount=%{y}\\u003cextra\\u003e\\u003c\\u002fextra\\u003e\",\"legendgroup\":\"Others\",\"marker\":{\"color\":\"#FFA15A\",\"pattern\":{\"shape\":\"\"}},\"name\":\"Others\",\"offsetgroup\":\"Others\",\"orientation\":\"v\",\"showlegend\":true,\"x\":[\"NC\",\"NC\",\"NC\",\"NC\",\"NC\",\"NC\",\"NC\",\"NC\",\"NC\",\"NC\",\"NC\",\"NC\",\"NC\",\"NC\",\"NC\",\"NC\",\"NC\",\"NC\",\"NC\",\"NC\",\"NC\",\"NC\",\"NC\",\"NC\",\"NC\",\"NC\",\"NC\",\"NC\",\"NC\",\"NC\",\"NC\",\"NC\",\"NC\",\"NC\",\"NC\",\"NC\",\"NC\",\"NC\",\"NC\",\"NC\",\"NC\",\"NC\",\"NC\",\"NC\",\"NC\",\"NC\",\"NC\",\"NC\",\"NC\",\"NC\",\"NC\",\"NC\",\"NC\",\"NC\",\"NC\",\"NC\",\"NC\",\"NC\",\"NC\",\"NC\",\"NC\",\"NC\",\"NC\",\"NC\",\"NC\",\"NC\",\"NC\",\"NC\",\"NC\",\"NC\",\"NC\",\"NC\",\"NC\",\"NC\",\"NC\",\"NC\",\"NC\",\"NC\",\"NC\",\"NC\",\"NC\",\"NC\",\"NC\",\"NC\",\"NC\",\"NC\",\"NC\",\"NC\",\"NC\",\"NC\",\"NC\",\"NC\",\"NC\",\"NC\",\"NC\",\"NC\",\"NC\",\"NC\",\"NC\",\"NC\",\"NC\",\"NC\",\"NC\",\"NC\",\"NC\",\"NC\",\"NC\",\"NC\",\"NC\",\"NC\",\"NC\",\"NC\",\"NC\",\"NC\",\"NC\",\"NC\",\"NC\",\"NC\",\"NC\",\"NC\",\"NC\",\"NC\",\"NC\",\"NC\",\"NC\",\"NC\",\"NC\",\"NC\",\"NC\",\"NC\",\"NC\",\"NC\",\"NC\",\"NC\",\"NC\",\"NC\",\"NC\",\"NC\",\"NC\",\"NC\",\"NC\",\"NC\",\"NC\",\"NC\",\"NC\",\"NC\",\"NC\",\"NC\",\"NC\",\"NC\",\"NC\",\"NC\",\"NC\",\"NC\",\"NC\",\"NC\",\"NC\",\"NC\",\"NC\",\"NC\",\"NC\",\"NC\",\"NC\",\"NC\",\"NC\",\"NC\",\"NC\",\"NC\",\"NC\"],\"xaxis\":\"x\",\"yaxis\":\"y\",\"type\":\"histogram\"},{\"alignmentgroup\":\"True\",\"bingroup\":\"x\",\"hovertemplate\":\"Item_Type=Seafood\\u003cbr\\u003eItem_Category=%{x}\\u003cbr\\u003ecount=%{y}\\u003cextra\\u003e\\u003c\\u002fextra\\u003e\",\"legendgroup\":\"Seafood\",\"marker\":{\"color\":\"#19d3f3\",\"pattern\":{\"shape\":\"\"}},\"name\":\"Seafood\",\"offsetgroup\":\"Seafood\",\"orientation\":\"v\",\"showlegend\":true,\"x\":[\"FD\",\"FD\",\"FD\",\"FD\",\"FD\",\"FD\",\"FD\",\"FD\",\"FD\",\"FD\",\"FD\",\"FD\",\"FD\",\"FD\",\"FD\",\"FD\",\"FD\",\"FD\",\"FD\",\"FD\",\"FD\",\"FD\",\"FD\",\"FD\",\"FD\",\"FD\",\"FD\",\"FD\",\"FD\",\"FD\",\"FD\",\"FD\",\"FD\",\"FD\",\"FD\",\"FD\",\"FD\",\"FD\",\"FD\",\"FD\",\"FD\",\"FD\",\"FD\",\"FD\",\"FD\",\"FD\",\"FD\",\"FD\",\"FD\",\"FD\",\"FD\",\"FD\",\"FD\",\"FD\",\"FD\",\"FD\",\"FD\",\"FD\",\"FD\",\"FD\",\"FD\",\"FD\",\"FD\",\"FD\"],\"xaxis\":\"x\",\"yaxis\":\"y\",\"type\":\"histogram\"}],                        {\"template\":{\"data\":{\"histogram2dcontour\":[{\"type\":\"histogram2dcontour\",\"colorbar\":{\"outlinewidth\":0,\"ticks\":\"\"},\"colorscale\":[[0.0,\"#0d0887\"],[0.1111111111111111,\"#46039f\"],[0.2222222222222222,\"#7201a8\"],[0.3333333333333333,\"#9c179e\"],[0.4444444444444444,\"#bd3786\"],[0.5555555555555556,\"#d8576b\"],[0.6666666666666666,\"#ed7953\"],[0.7777777777777778,\"#fb9f3a\"],[0.8888888888888888,\"#fdca26\"],[1.0,\"#f0f921\"]]}],\"choropleth\":[{\"type\":\"choropleth\",\"colorbar\":{\"outlinewidth\":0,\"ticks\":\"\"}}],\"histogram2d\":[{\"type\":\"histogram2d\",\"colorbar\":{\"outlinewidth\":0,\"ticks\":\"\"},\"colorscale\":[[0.0,\"#0d0887\"],[0.1111111111111111,\"#46039f\"],[0.2222222222222222,\"#7201a8\"],[0.3333333333333333,\"#9c179e\"],[0.4444444444444444,\"#bd3786\"],[0.5555555555555556,\"#d8576b\"],[0.6666666666666666,\"#ed7953\"],[0.7777777777777778,\"#fb9f3a\"],[0.8888888888888888,\"#fdca26\"],[1.0,\"#f0f921\"]]}],\"heatmap\":[{\"type\":\"heatmap\",\"colorbar\":{\"outlinewidth\":0,\"ticks\":\"\"},\"colorscale\":[[0.0,\"#0d0887\"],[0.1111111111111111,\"#46039f\"],[0.2222222222222222,\"#7201a8\"],[0.3333333333333333,\"#9c179e\"],[0.4444444444444444,\"#bd3786\"],[0.5555555555555556,\"#d8576b\"],[0.6666666666666666,\"#ed7953\"],[0.7777777777777778,\"#fb9f3a\"],[0.8888888888888888,\"#fdca26\"],[1.0,\"#f0f921\"]]}],\"heatmapgl\":[{\"type\":\"heatmapgl\",\"colorbar\":{\"outlinewidth\":0,\"ticks\":\"\"},\"colorscale\":[[0.0,\"#0d0887\"],[0.1111111111111111,\"#46039f\"],[0.2222222222222222,\"#7201a8\"],[0.3333333333333333,\"#9c179e\"],[0.4444444444444444,\"#bd3786\"],[0.5555555555555556,\"#d8576b\"],[0.6666666666666666,\"#ed7953\"],[0.7777777777777778,\"#fb9f3a\"],[0.8888888888888888,\"#fdca26\"],[1.0,\"#f0f921\"]]}],\"contourcarpet\":[{\"type\":\"contourcarpet\",\"colorbar\":{\"outlinewidth\":0,\"ticks\":\"\"}}],\"contour\":[{\"type\":\"contour\",\"colorbar\":{\"outlinewidth\":0,\"ticks\":\"\"},\"colorscale\":[[0.0,\"#0d0887\"],[0.1111111111111111,\"#46039f\"],[0.2222222222222222,\"#7201a8\"],[0.3333333333333333,\"#9c179e\"],[0.4444444444444444,\"#bd3786\"],[0.5555555555555556,\"#d8576b\"],[0.6666666666666666,\"#ed7953\"],[0.7777777777777778,\"#fb9f3a\"],[0.8888888888888888,\"#fdca26\"],[1.0,\"#f0f921\"]]}],\"surface\":[{\"type\":\"surface\",\"colorbar\":{\"outlinewidth\":0,\"ticks\":\"\"},\"colorscale\":[[0.0,\"#0d0887\"],[0.1111111111111111,\"#46039f\"],[0.2222222222222222,\"#7201a8\"],[0.3333333333333333,\"#9c179e\"],[0.4444444444444444,\"#bd3786\"],[0.5555555555555556,\"#d8576b\"],[0.6666666666666666,\"#ed7953\"],[0.7777777777777778,\"#fb9f3a\"],[0.8888888888888888,\"#fdca26\"],[1.0,\"#f0f921\"]]}],\"mesh3d\":[{\"type\":\"mesh3d\",\"colorbar\":{\"outlinewidth\":0,\"ticks\":\"\"}}],\"scatter\":[{\"fillpattern\":{\"fillmode\":\"overlay\",\"size\":10,\"solidity\":0.2},\"type\":\"scatter\"}],\"parcoords\":[{\"type\":\"parcoords\",\"line\":{\"colorbar\":{\"outlinewidth\":0,\"ticks\":\"\"}}}],\"scatterpolargl\":[{\"type\":\"scatterpolargl\",\"marker\":{\"colorbar\":{\"outlinewidth\":0,\"ticks\":\"\"}}}],\"bar\":[{\"error_x\":{\"color\":\"#2a3f5f\"},\"error_y\":{\"color\":\"#2a3f5f\"},\"marker\":{\"line\":{\"color\":\"#E5ECF6\",\"width\":0.5},\"pattern\":{\"fillmode\":\"overlay\",\"size\":10,\"solidity\":0.2}},\"type\":\"bar\"}],\"scattergeo\":[{\"type\":\"scattergeo\",\"marker\":{\"colorbar\":{\"outlinewidth\":0,\"ticks\":\"\"}}}],\"scatterpolar\":[{\"type\":\"scatterpolar\",\"marker\":{\"colorbar\":{\"outlinewidth\":0,\"ticks\":\"\"}}}],\"histogram\":[{\"marker\":{\"pattern\":{\"fillmode\":\"overlay\",\"size\":10,\"solidity\":0.2}},\"type\":\"histogram\"}],\"scattergl\":[{\"type\":\"scattergl\",\"marker\":{\"colorbar\":{\"outlinewidth\":0,\"ticks\":\"\"}}}],\"scatter3d\":[{\"type\":\"scatter3d\",\"line\":{\"colorbar\":{\"outlinewidth\":0,\"ticks\":\"\"}},\"marker\":{\"colorbar\":{\"outlinewidth\":0,\"ticks\":\"\"}}}],\"scattermapbox\":[{\"type\":\"scattermapbox\",\"marker\":{\"colorbar\":{\"outlinewidth\":0,\"ticks\":\"\"}}}],\"scatterternary\":[{\"type\":\"scatterternary\",\"marker\":{\"colorbar\":{\"outlinewidth\":0,\"ticks\":\"\"}}}],\"scattercarpet\":[{\"type\":\"scattercarpet\",\"marker\":{\"colorbar\":{\"outlinewidth\":0,\"ticks\":\"\"}}}],\"carpet\":[{\"aaxis\":{\"endlinecolor\":\"#2a3f5f\",\"gridcolor\":\"white\",\"linecolor\":\"white\",\"minorgridcolor\":\"white\",\"startlinecolor\":\"#2a3f5f\"},\"baxis\":{\"endlinecolor\":\"#2a3f5f\",\"gridcolor\":\"white\",\"linecolor\":\"white\",\"minorgridcolor\":\"white\",\"startlinecolor\":\"#2a3f5f\"},\"type\":\"carpet\"}],\"table\":[{\"cells\":{\"fill\":{\"color\":\"#EBF0F8\"},\"line\":{\"color\":\"white\"}},\"header\":{\"fill\":{\"color\":\"#C8D4E3\"},\"line\":{\"color\":\"white\"}},\"type\":\"table\"}],\"barpolar\":[{\"marker\":{\"line\":{\"color\":\"#E5ECF6\",\"width\":0.5},\"pattern\":{\"fillmode\":\"overlay\",\"size\":10,\"solidity\":0.2}},\"type\":\"barpolar\"}],\"pie\":[{\"automargin\":true,\"type\":\"pie\"}]},\"layout\":{\"autotypenumbers\":\"strict\",\"colorway\":[\"#636efa\",\"#EF553B\",\"#00cc96\",\"#ab63fa\",\"#FFA15A\",\"#19d3f3\",\"#FF6692\",\"#B6E880\",\"#FF97FF\",\"#FECB52\"],\"font\":{\"color\":\"#2a3f5f\"},\"hovermode\":\"closest\",\"hoverlabel\":{\"align\":\"left\"},\"paper_bgcolor\":\"white\",\"plot_bgcolor\":\"#E5ECF6\",\"polar\":{\"bgcolor\":\"#E5ECF6\",\"angularaxis\":{\"gridcolor\":\"white\",\"linecolor\":\"white\",\"ticks\":\"\"},\"radialaxis\":{\"gridcolor\":\"white\",\"linecolor\":\"white\",\"ticks\":\"\"}},\"ternary\":{\"bgcolor\":\"#E5ECF6\",\"aaxis\":{\"gridcolor\":\"white\",\"linecolor\":\"white\",\"ticks\":\"\"},\"baxis\":{\"gridcolor\":\"white\",\"linecolor\":\"white\",\"ticks\":\"\"},\"caxis\":{\"gridcolor\":\"white\",\"linecolor\":\"white\",\"ticks\":\"\"}},\"coloraxis\":{\"colorbar\":{\"outlinewidth\":0,\"ticks\":\"\"}},\"colorscale\":{\"sequential\":[[0.0,\"#0d0887\"],[0.1111111111111111,\"#46039f\"],[0.2222222222222222,\"#7201a8\"],[0.3333333333333333,\"#9c179e\"],[0.4444444444444444,\"#bd3786\"],[0.5555555555555556,\"#d8576b\"],[0.6666666666666666,\"#ed7953\"],[0.7777777777777778,\"#fb9f3a\"],[0.8888888888888888,\"#fdca26\"],[1.0,\"#f0f921\"]],\"sequentialminus\":[[0.0,\"#0d0887\"],[0.1111111111111111,\"#46039f\"],[0.2222222222222222,\"#7201a8\"],[0.3333333333333333,\"#9c179e\"],[0.4444444444444444,\"#bd3786\"],[0.5555555555555556,\"#d8576b\"],[0.6666666666666666,\"#ed7953\"],[0.7777777777777778,\"#fb9f3a\"],[0.8888888888888888,\"#fdca26\"],[1.0,\"#f0f921\"]],\"diverging\":[[0,\"#8e0152\"],[0.1,\"#c51b7d\"],[0.2,\"#de77ae\"],[0.3,\"#f1b6da\"],[0.4,\"#fde0ef\"],[0.5,\"#f7f7f7\"],[0.6,\"#e6f5d0\"],[0.7,\"#b8e186\"],[0.8,\"#7fbc41\"],[0.9,\"#4d9221\"],[1,\"#276419\"]]},\"xaxis\":{\"gridcolor\":\"white\",\"linecolor\":\"white\",\"ticks\":\"\",\"title\":{\"standoff\":15},\"zerolinecolor\":\"white\",\"automargin\":true,\"zerolinewidth\":2},\"yaxis\":{\"gridcolor\":\"white\",\"linecolor\":\"white\",\"ticks\":\"\",\"title\":{\"standoff\":15},\"zerolinecolor\":\"white\",\"automargin\":true,\"zerolinewidth\":2},\"scene\":{\"xaxis\":{\"backgroundcolor\":\"#E5ECF6\",\"gridcolor\":\"white\",\"linecolor\":\"white\",\"showbackground\":true,\"ticks\":\"\",\"zerolinecolor\":\"white\",\"gridwidth\":2},\"yaxis\":{\"backgroundcolor\":\"#E5ECF6\",\"gridcolor\":\"white\",\"linecolor\":\"white\",\"showbackground\":true,\"ticks\":\"\",\"zerolinecolor\":\"white\",\"gridwidth\":2},\"zaxis\":{\"backgroundcolor\":\"#E5ECF6\",\"gridcolor\":\"white\",\"linecolor\":\"white\",\"showbackground\":true,\"ticks\":\"\",\"zerolinecolor\":\"white\",\"gridwidth\":2}},\"shapedefaults\":{\"line\":{\"color\":\"#2a3f5f\"}},\"annotationdefaults\":{\"arrowcolor\":\"#2a3f5f\",\"arrowhead\":0,\"arrowwidth\":1},\"geo\":{\"bgcolor\":\"white\",\"landcolor\":\"#E5ECF6\",\"subunitcolor\":\"white\",\"showland\":true,\"showlakes\":true,\"lakecolor\":\"white\"},\"title\":{\"x\":0.05},\"mapbox\":{\"style\":\"light\"}}},\"xaxis\":{\"anchor\":\"y\",\"domain\":[0.0,1.0],\"title\":{\"text\":\"Item_Category\"}},\"yaxis\":{\"anchor\":\"x\",\"domain\":[0.0,1.0],\"title\":{\"text\":\"count\"}},\"legend\":{\"title\":{\"text\":\"Item_Type\"},\"tracegroupgap\":0},\"margin\":{\"t\":60},\"barmode\":\"relative\"},                        {\"responsive\": true}                    ).then(function(){\n",
              "                            \n",
              "var gd = document.getElementById('2a2cc120-f168-4f86-8968-465c571a714f');\n",
              "var x = new MutationObserver(function (mutations, observer) {{\n",
              "        var display = window.getComputedStyle(gd).display;\n",
              "        if (!display || display === 'none') {{\n",
              "            console.log([gd, 'removed!']);\n",
              "            Plotly.purge(gd);\n",
              "            observer.disconnect();\n",
              "        }}\n",
              "}});\n",
              "\n",
              "// Listen for the removal of the full notebook cells\n",
              "var notebookContainer = gd.closest('#notebook-container');\n",
              "if (notebookContainer) {{\n",
              "    x.observe(notebookContainer, {childList: true});\n",
              "}}\n",
              "\n",
              "// Listen for the clearing of the current output cell\n",
              "var outputEl = gd.closest('.output');\n",
              "if (outputEl) {{\n",
              "    x.observe(outputEl, {childList: true});\n",
              "}}\n",
              "\n",
              "                        })                };                            </script>        </div>\n",
              "</body>\n",
              "</html>"
            ]
          },
          "metadata": {}
        }
      ]
    },
    {
      "cell_type": "markdown",
      "source": [
        "### 3.2 Andiamo ora a \"pulire\" la colonna `Item_Fat_Content`"
      ],
      "metadata": {
        "id": "KGZ2rlA2Up-Y"
      }
    },
    {
      "cell_type": "markdown",
      "source": [
        "##### [Esercizio] Per prima cosa visualizziamo di nuovo il conteggio dei valori unici in questa colonna per rinfrescarci la memoria"
      ],
      "metadata": {
        "id": "SkWH0B1rnQ0s"
      }
    },
    {
      "cell_type": "code",
      "source": [
        "# inserisci qui il tuo codice\n"
      ],
      "metadata": {
        "id": "IL6hnZ0vVDt6"
      },
      "execution_count": null,
      "outputs": []
    },
    {
      "cell_type": "markdown",
      "source": [
        "###### Risposta corretta:"
      ],
      "metadata": {
        "id": "gHmgXhSOm8hz"
      }
    },
    {
      "cell_type": "code",
      "source": [
        "df['Item_Fat_Content'].value_counts()"
      ],
      "metadata": {
        "colab": {
          "base_uri": "https://localhost:8080/",
          "height": 272
        },
        "id": "xfCj-UBum-iA",
        "outputId": "00cd05d0-9162-48c5-aeea-375281f2286f"
      },
      "execution_count": null,
      "outputs": [
        {
          "output_type": "execute_result",
          "data": {
            "text/plain": [
              "Item_Fat_Content\n",
              "Low Fat    5089\n",
              "Regular    2889\n",
              "LF          316\n",
              "reg         117\n",
              "low fat     112\n",
              "Name: count, dtype: int64"
            ],
            "text/html": [
              "<div>\n",
              "<style scoped>\n",
              "    .dataframe tbody tr th:only-of-type {\n",
              "        vertical-align: middle;\n",
              "    }\n",
              "\n",
              "    .dataframe tbody tr th {\n",
              "        vertical-align: top;\n",
              "    }\n",
              "\n",
              "    .dataframe thead th {\n",
              "        text-align: right;\n",
              "    }\n",
              "</style>\n",
              "<table border=\"1\" class=\"dataframe\">\n",
              "  <thead>\n",
              "    <tr style=\"text-align: right;\">\n",
              "      <th></th>\n",
              "      <th>count</th>\n",
              "    </tr>\n",
              "    <tr>\n",
              "      <th>Item_Fat_Content</th>\n",
              "      <th></th>\n",
              "    </tr>\n",
              "  </thead>\n",
              "  <tbody>\n",
              "    <tr>\n",
              "      <th>Low Fat</th>\n",
              "      <td>5089</td>\n",
              "    </tr>\n",
              "    <tr>\n",
              "      <th>Regular</th>\n",
              "      <td>2889</td>\n",
              "    </tr>\n",
              "    <tr>\n",
              "      <th>LF</th>\n",
              "      <td>316</td>\n",
              "    </tr>\n",
              "    <tr>\n",
              "      <th>reg</th>\n",
              "      <td>117</td>\n",
              "    </tr>\n",
              "    <tr>\n",
              "      <th>low fat</th>\n",
              "      <td>112</td>\n",
              "    </tr>\n",
              "  </tbody>\n",
              "</table>\n",
              "</div><br><label><b>dtype:</b> int64</label>"
            ]
          },
          "metadata": {},
          "execution_count": 26
        }
      ]
    },
    {
      "cell_type": "markdown",
      "source": [
        "##### [Esercizio] Convertiamo \"LF\", \"low fat\" in \"Low Fat\" e \"reg\" in \"Regular\""
      ],
      "metadata": {
        "id": "4H4VhpKgwksN"
      }
    },
    {
      "cell_type": "code",
      "metadata": {
        "id": "fAG8ijF4eN79"
      },
      "source": [
        "# inserisci qui il tuo codice\n"
      ],
      "execution_count": null,
      "outputs": []
    },
    {
      "cell_type": "markdown",
      "source": [
        "###### Risposta corretta:"
      ],
      "metadata": {
        "id": "xqqRW97Mnhr7"
      }
    },
    {
      "cell_type": "markdown",
      "source": [
        "`df['Item_Fat_Content'] = df['Item_Fat_Content'].replace({'LF': 'Low Fat', 'low fat': 'Low Fat', 'reg': 'Regular'})`"
      ],
      "metadata": {
        "id": "HzbwjIIoMzoH"
      }
    },
    {
      "cell_type": "markdown",
      "source": [
        "##### [Esercizio] Contiamo nuovamente i valori unici per accertarci di aver eseguito la trasformazione correttamente"
      ],
      "metadata": {
        "id": "jB8kGH4jw65a"
      }
    },
    {
      "cell_type": "code",
      "source": [
        "# inserisci qui il tuo codice\n"
      ],
      "metadata": {
        "id": "qQ0yfp-Cw4Jl"
      },
      "execution_count": null,
      "outputs": []
    },
    {
      "cell_type": "markdown",
      "source": [
        "> Risposta attesa:\n",
        "\n",
        "```\n",
        "Low Fat    5517\n",
        "Regular    3006\n",
        "Name: Item_Fat_Content, dtype: int64\n",
        "```"
      ],
      "metadata": {
        "id": "QwWzU7wmxFov"
      }
    },
    {
      "cell_type": "markdown",
      "source": [
        "###### Risposta corretta:"
      ],
      "metadata": {
        "id": "oB7CZQJioBN-"
      }
    },
    {
      "cell_type": "code",
      "source": [
        "df['Item_Fat_Content'].value_counts()"
      ],
      "metadata": {
        "colab": {
          "base_uri": "https://localhost:8080/",
          "height": 178
        },
        "id": "_XBZHOOtoDJp",
        "outputId": "1b32eb2b-a950-424b-da07-f9e551a61ab7"
      },
      "execution_count": null,
      "outputs": [
        {
          "output_type": "execute_result",
          "data": {
            "text/plain": [
              "Item_Fat_Content\n",
              "Low Fat    5517\n",
              "Regular    3006\n",
              "Name: count, dtype: int64"
            ],
            "text/html": [
              "<div>\n",
              "<style scoped>\n",
              "    .dataframe tbody tr th:only-of-type {\n",
              "        vertical-align: middle;\n",
              "    }\n",
              "\n",
              "    .dataframe tbody tr th {\n",
              "        vertical-align: top;\n",
              "    }\n",
              "\n",
              "    .dataframe thead th {\n",
              "        text-align: right;\n",
              "    }\n",
              "</style>\n",
              "<table border=\"1\" class=\"dataframe\">\n",
              "  <thead>\n",
              "    <tr style=\"text-align: right;\">\n",
              "      <th></th>\n",
              "      <th>count</th>\n",
              "    </tr>\n",
              "    <tr>\n",
              "      <th>Item_Fat_Content</th>\n",
              "      <th></th>\n",
              "    </tr>\n",
              "  </thead>\n",
              "  <tbody>\n",
              "    <tr>\n",
              "      <th>Low Fat</th>\n",
              "      <td>5517</td>\n",
              "    </tr>\n",
              "    <tr>\n",
              "      <th>Regular</th>\n",
              "      <td>3006</td>\n",
              "    </tr>\n",
              "  </tbody>\n",
              "</table>\n",
              "</div><br><label><b>dtype:</b> int64</label>"
            ]
          },
          "metadata": {},
          "execution_count": 30
        }
      ]
    },
    {
      "cell_type": "markdown",
      "metadata": {
        "id": "DgcJ_XcjeKoq"
      },
      "source": [
        "### 3.3 Gestione Missing Values (Colonna `Item_Weight`)\n",
        "\n"
      ]
    },
    {
      "cell_type": "markdown",
      "source": [
        "##### ❗❗❗ Sezione difficile (si può saltare e passare oltre)❗❗❗\n",
        "\n",
        "I valori mancanti sono *missing at random* o si concentrano in una determinata categoria?\n",
        "\n",
        "Magari il valore di peso è mancante solamente in un outlet, ma in un altro è valorizzato... E possiamo ragionevolmente assumere che il peso di un prodotto non cambi da un negozio all'altro! (compito a casa: verificare questa assunzione).\n",
        "\n",
        "Creiamo un dizionario dove associamo a ciascun prodotto il suo peso."
      ],
      "metadata": {
        "id": "ktgb0rU-AtK-"
      }
    },
    {
      "cell_type": "code",
      "source": [
        "mappa_prodotto_peso = (\n",
        "    df\n",
        "    .dropna(subset=['Item_Weight']) # scartiamo temporaneamente le righe con peso mancante\n",
        "    .groupby('Item_Identifier') # raggruppiamo per Item_Identifier\n",
        "    .agg({'Item_Weight': 'first'}) # prendiamo il primo valore di Item Weight\n",
        "    .to_dict()['Item_Weight'] # trasformiamo in dizionario\n",
        ")\n",
        "\n",
        "mappa_prodotto_peso"
      ],
      "metadata": {
        "id": "GigBH7Ed2gCv",
        "colab": {
          "base_uri": "https://localhost:8080/"
        },
        "collapsed": true,
        "outputId": "2d0e780d-e2af-4047-da47-2f14528c831b"
      },
      "execution_count": null,
      "outputs": [
        {
          "output_type": "execute_result",
          "data": {
            "text/plain": [
              "{'DRA12': 11.6,\n",
              " 'DRA24': 19.35,\n",
              " 'DRA59': 8.27,\n",
              " 'DRB01': 7.39,\n",
              " 'DRB13': 6.115,\n",
              " 'DRB24': 8.785,\n",
              " 'DRB25': 12.3,\n",
              " 'DRB48': 16.75,\n",
              " 'DRC01': 5.92,\n",
              " 'DRC12': 17.85,\n",
              " 'DRC13': 8.26,\n",
              " 'DRC24': 17.85,\n",
              " 'DRC25': 5.73,\n",
              " 'DRC27': 13.8,\n",
              " 'DRC36': 13.0,\n",
              " 'DRC49': 8.67,\n",
              " 'DRD01': 12.1,\n",
              " 'DRD12': 6.96,\n",
              " 'DRD13': 15.0,\n",
              " 'DRD15': 10.6,\n",
              " 'DRD24': 13.85,\n",
              " 'DRD25': 6.135,\n",
              " 'DRD27': 18.75,\n",
              " 'DRD37': 9.8,\n",
              " 'DRD49': 9.895,\n",
              " 'DRD60': 15.7,\n",
              " 'DRE01': 10.1,\n",
              " 'DRE03': 19.6,\n",
              " 'DRE12': 4.59,\n",
              " 'DRE13': 6.28,\n",
              " 'DRE15': 13.35,\n",
              " 'DRE25': 15.35,\n",
              " 'DRE27': 11.85,\n",
              " 'DRE37': 13.5,\n",
              " 'DRE48': 8.43,\n",
              " 'DRE49': 20.75,\n",
              " 'DRE60': 9.395,\n",
              " 'DRF01': 5.655,\n",
              " 'DRF03': 19.1,\n",
              " 'DRF13': 12.1,\n",
              " 'DRF15': 18.35,\n",
              " 'DRF23': 4.61,\n",
              " 'DRF25': 9.0,\n",
              " 'DRF27': 8.93,\n",
              " 'DRF36': 16.1,\n",
              " 'DRF37': 17.25,\n",
              " 'DRF48': 5.73,\n",
              " 'DRF49': 7.27,\n",
              " 'DRF51': 15.75,\n",
              " 'DRF60': 10.8,\n",
              " 'DRG01': 14.8,\n",
              " 'DRG03': 14.5,\n",
              " 'DRG11': 6.385,\n",
              " 'DRG13': 17.25,\n",
              " 'DRG15': 6.13,\n",
              " 'DRG23': 8.88,\n",
              " 'DRG25': 10.5,\n",
              " 'DRG27': 8.895,\n",
              " 'DRG36': 14.15,\n",
              " 'DRG37': 16.2,\n",
              " 'DRG39': 14.15,\n",
              " 'DRG48': 5.78,\n",
              " 'DRG49': 7.81,\n",
              " 'DRG51': 12.1,\n",
              " 'DRH01': 17.5,\n",
              " 'DRH03': 17.25,\n",
              " 'DRH11': 5.98,\n",
              " 'DRH13': 8.575,\n",
              " 'DRH15': 8.775,\n",
              " 'DRH23': 14.65,\n",
              " 'DRH25': 18.7,\n",
              " 'DRH36': 16.2,\n",
              " 'DRH37': 17.6,\n",
              " 'DRH39': 20.7,\n",
              " 'DRH49': 19.7,\n",
              " 'DRH51': 17.6,\n",
              " 'DRH59': 10.8,\n",
              " 'DRI01': 7.97,\n",
              " 'DRI03': 6.03,\n",
              " 'DRI11': 8.26,\n",
              " 'DRI13': 15.35,\n",
              " 'DRI23': 18.85,\n",
              " 'DRI25': 19.6,\n",
              " 'DRI37': 15.85,\n",
              " 'DRI39': 13.8,\n",
              " 'DRI47': 14.7,\n",
              " 'DRI49': 14.15,\n",
              " 'DRI51': 17.25,\n",
              " 'DRI59': 9.5,\n",
              " 'DRJ01': 6.135,\n",
              " 'DRJ11': 9.5,\n",
              " 'DRJ13': 12.65,\n",
              " 'DRJ23': 18.35,\n",
              " 'DRJ24': 11.8,\n",
              " 'DRJ25': 14.6,\n",
              " 'DRJ35': 10.1,\n",
              " 'DRJ37': 10.8,\n",
              " 'DRJ39': 20.25,\n",
              " 'DRJ47': 18.25,\n",
              " 'DRJ49': 6.865,\n",
              " 'DRJ51': 14.1,\n",
              " 'DRJ59': 11.65,\n",
              " 'DRK01': 7.63,\n",
              " 'DRK11': 8.21,\n",
              " 'DRK12': 9.5,\n",
              " 'DRK13': 11.8,\n",
              " 'DRK23': 8.395,\n",
              " 'DRK35': 8.365,\n",
              " 'DRK37': 5.0,\n",
              " 'DRK39': 7.02,\n",
              " 'DRK47': 7.905,\n",
              " 'DRK49': 14.15,\n",
              " 'DRK59': 8.895,\n",
              " 'DRL01': 19.5,\n",
              " 'DRL11': 10.5,\n",
              " 'DRL23': 18.35,\n",
              " 'DRL35': 15.7,\n",
              " 'DRL37': 15.5,\n",
              " 'DRL47': 19.7,\n",
              " 'DRL49': 13.15,\n",
              " 'DRL59': 16.75,\n",
              " 'DRL60': 8.52,\n",
              " 'DRM11': 6.57,\n",
              " 'DRM23': 16.6,\n",
              " 'DRM35': 9.695,\n",
              " 'DRM37': 15.35,\n",
              " 'DRM47': 9.3,\n",
              " 'DRM48': 15.2,\n",
              " 'DRM49': 6.11,\n",
              " 'DRM59': 5.88,\n",
              " 'DRN11': 7.85,\n",
              " 'DRN35': 8.01,\n",
              " 'DRN36': 15.2,\n",
              " 'DRN37': 9.6,\n",
              " 'DRN47': 12.1,\n",
              " 'DRN59': 15.0,\n",
              " 'DRO35': 13.85,\n",
              " 'DRO47': 10.195,\n",
              " 'DRO59': 11.8,\n",
              " 'DRP35': 18.85,\n",
              " 'DRP47': 15.75,\n",
              " 'DRQ35': 9.3,\n",
              " 'DRY23': 9.395,\n",
              " 'DRZ11': 8.85,\n",
              " 'DRZ24': 7.535,\n",
              " 'FDA01': 15.0,\n",
              " 'FDA02': 14.0,\n",
              " 'FDA03': 18.5,\n",
              " 'FDA04': 11.3,\n",
              " 'FDA07': 7.55,\n",
              " 'FDA08': 11.85,\n",
              " 'FDA09': 13.35,\n",
              " 'FDA10': 20.35,\n",
              " 'FDA11': 7.75,\n",
              " 'FDA13': 15.85,\n",
              " 'FDA14': 16.1,\n",
              " 'FDA15': 9.3,\n",
              " 'FDA16': 6.695,\n",
              " 'FDA19': 7.52,\n",
              " 'FDA20': 6.78,\n",
              " 'FDA21': 13.65,\n",
              " 'FDA22': 7.435,\n",
              " 'FDA23': 9.8,\n",
              " 'FDA25': 16.5,\n",
              " 'FDA26': 7.855,\n",
              " 'FDA27': 20.35,\n",
              " 'FDA28': 16.1,\n",
              " 'FDA31': 7.1,\n",
              " 'FDA32': 14.0,\n",
              " 'FDA33': 6.48,\n",
              " 'FDA34': 11.5,\n",
              " 'FDA35': 14.85,\n",
              " 'FDA36': 5.985,\n",
              " 'FDA37': 7.81,\n",
              " 'FDA38': 5.44,\n",
              " 'FDA39': 6.32,\n",
              " 'FDA40': 16.0,\n",
              " 'FDA43': 10.895,\n",
              " 'FDA44': 19.7,\n",
              " 'FDA45': 21.25,\n",
              " 'FDA46': 13.6,\n",
              " 'FDA47': 10.5,\n",
              " 'FDA48': 12.1,\n",
              " 'FDA49': 19.7,\n",
              " 'FDA50': 16.25,\n",
              " 'FDA51': 8.05,\n",
              " 'FDA52': 16.2,\n",
              " 'FDA55': 17.2,\n",
              " 'FDA56': 9.21,\n",
              " 'FDA57': 18.85,\n",
              " 'FDA58': 9.395,\n",
              " 'FDB02': 9.695,\n",
              " 'FDB03': 17.75,\n",
              " 'FDB04': 11.35,\n",
              " 'FDB05': 5.155,\n",
              " 'FDB08': 6.055,\n",
              " 'FDB09': 16.25,\n",
              " 'FDB10': 10.0,\n",
              " 'FDB11': 16.0,\n",
              " 'FDB12': 11.15,\n",
              " 'FDB14': 20.25,\n",
              " 'FDB15': 10.895,\n",
              " 'FDB16': 8.21,\n",
              " 'FDB17': 13.15,\n",
              " 'FDB20': 7.72,\n",
              " 'FDB21': 7.475,\n",
              " 'FDB22': 8.02,\n",
              " 'FDB23': 19.2,\n",
              " 'FDB26': 14.0,\n",
              " 'FDB27': 7.575,\n",
              " 'FDB28': 6.615,\n",
              " 'FDB29': 16.7,\n",
              " 'FDB32': 20.6,\n",
              " 'FDB33': 17.75,\n",
              " 'FDB34': 15.25,\n",
              " 'FDB35': 12.3,\n",
              " 'FDB36': 5.465,\n",
              " 'FDB37': 20.25,\n",
              " 'FDB38': 19.5,\n",
              " 'FDB39': 11.6,\n",
              " 'FDB40': 17.5,\n",
              " 'FDB41': 19.0,\n",
              " 'FDB44': 6.655,\n",
              " 'FDB45': 20.85,\n",
              " 'FDB46': 10.5,\n",
              " 'FDB47': 8.8,\n",
              " 'FDB49': 8.3,\n",
              " 'FDB50': 13.0,\n",
              " 'FDB51': 6.92,\n",
              " 'FDB52': 17.75,\n",
              " 'FDB53': 13.35,\n",
              " 'FDB56': 8.75,\n",
              " 'FDB57': 20.25,\n",
              " 'FDB58': 10.5,\n",
              " 'FDB59': 18.25,\n",
              " 'FDB60': 9.3,\n",
              " 'FDC02': 21.35,\n",
              " 'FDC03': 8.575,\n",
              " 'FDC04': 15.6,\n",
              " 'FDC05': 13.1,\n",
              " 'FDC08': 19.0,\n",
              " 'FDC09': 15.5,\n",
              " 'FDC10': 9.8,\n",
              " 'FDC11': 20.5,\n",
              " 'FDC14': 14.5,\n",
              " 'FDC15': 18.1,\n",
              " 'FDC16': 11.5,\n",
              " 'FDC17': 12.15,\n",
              " 'FDC20': 10.65,\n",
              " 'FDC21': 14.6,\n",
              " 'FDC22': 6.89,\n",
              " 'FDC23': 18.0,\n",
              " 'FDC26': 10.195,\n",
              " 'FDC28': 7.905,\n",
              " 'FDC29': 8.39,\n",
              " 'FDC32': 18.35,\n",
              " 'FDC33': 8.96,\n",
              " 'FDC34': 16.0,\n",
              " 'FDC35': 7.435,\n",
              " 'FDC37': 15.5,\n",
              " 'FDC38': 15.7,\n",
              " 'FDC39': 7.405,\n",
              " 'FDC40': 16.0,\n",
              " 'FDC41': 15.6,\n",
              " 'FDC44': 15.6,\n",
              " 'FDC45': 17.0,\n",
              " 'FDC46': 17.7,\n",
              " 'FDC47': 15.0,\n",
              " 'FDC48': 9.195,\n",
              " 'FDC50': 15.85,\n",
              " 'FDC51': 10.895,\n",
              " 'FDC52': 11.15,\n",
              " 'FDC53': 8.68,\n",
              " 'FDC56': 7.72,\n",
              " 'FDC57': 20.1,\n",
              " 'FDC58': 10.195,\n",
              " 'FDC59': 16.7,\n",
              " 'FDC60': 5.425,\n",
              " 'FDD02': 16.6,\n",
              " 'FDD03': 13.3,\n",
              " 'FDD04': 16.0,\n",
              " 'FDD05': 19.35,\n",
              " 'FDD08': 8.3,\n",
              " 'FDD09': 13.5,\n",
              " 'FDD10': 20.6,\n",
              " 'FDD11': 12.85,\n",
              " 'FDD14': 20.7,\n",
              " 'FDD16': 20.5,\n",
              " 'FDD17': 7.5,\n",
              " 'FDD20': 14.15,\n",
              " 'FDD21': 10.3,\n",
              " 'FDD22': 10.0,\n",
              " 'FDD23': 9.5,\n",
              " 'FDD26': 8.71,\n",
              " 'FDD28': 10.695,\n",
              " 'FDD29': 12.15,\n",
              " 'FDD32': 17.7,\n",
              " 'FDD33': 12.85,\n",
              " 'FDD34': 7.945,\n",
              " 'FDD35': 12.15,\n",
              " 'FDD36': 13.3,\n",
              " 'FDD38': 16.75,\n",
              " 'FDD39': 16.7,\n",
              " 'FDD40': 20.25,\n",
              " 'FDD41': 6.765,\n",
              " 'FDD44': 8.05,\n",
              " 'FDD45': 8.615,\n",
              " 'FDD46': 6.035,\n",
              " 'FDD47': 7.6,\n",
              " 'FDD48': 10.395,\n",
              " 'FDD50': 18.85,\n",
              " 'FDD51': 11.15,\n",
              " 'FDD52': 18.25,\n",
              " 'FDD53': 16.2,\n",
              " 'FDD56': 15.2,\n",
              " 'FDD57': 18.1,\n",
              " 'FDD58': 7.76,\n",
              " 'FDD59': 10.5,\n",
              " 'FDE02': 8.71,\n",
              " 'FDE04': 19.75,\n",
              " 'FDE05': 10.895,\n",
              " 'FDE08': 18.2,\n",
              " 'FDE09': 8.775,\n",
              " 'FDE10': 6.67,\n",
              " 'FDE11': 17.7,\n",
              " 'FDE14': 13.65,\n",
              " 'FDE16': 8.895,\n",
              " 'FDE17': 20.1,\n",
              " 'FDE20': 11.35,\n",
              " 'FDE21': 12.8,\n",
              " 'FDE22': 9.695,\n",
              " 'FDE23': 17.6,\n",
              " 'FDE24': 14.85,\n",
              " 'FDE26': 9.3,\n",
              " 'FDE28': 9.5,\n",
              " 'FDE29': 8.905,\n",
              " 'FDE32': 20.7,\n",
              " 'FDE33': 19.35,\n",
              " 'FDE34': 9.195,\n",
              " 'FDE35': 7.06,\n",
              " 'FDE36': 5.26,\n",
              " 'FDE38': 6.52,\n",
              " 'FDE39': 7.89,\n",
              " 'FDE40': 15.6,\n",
              " 'FDE41': 9.195,\n",
              " 'FDE44': 14.65,\n",
              " 'FDE45': 12.1,\n",
              " 'FDE46': 18.6,\n",
              " 'FDE47': 14.15,\n",
              " 'FDE50': 19.7,\n",
              " 'FDE51': 5.925,\n",
              " 'FDE53': 10.895,\n",
              " 'FDE56': 17.25,\n",
              " 'FDE57': 9.6,\n",
              " 'FDE58': 18.5,\n",
              " 'FDE59': 12.15,\n",
              " 'FDF02': 16.2,\n",
              " 'FDF04': 17.5,\n",
              " 'FDF05': 17.5,\n",
              " 'FDF08': 14.3,\n",
              " 'FDF09': 6.215,\n",
              " 'FDF10': 15.5,\n",
              " 'FDF11': 10.195,\n",
              " 'FDF12': 8.235,\n",
              " 'FDF14': 7.55,\n",
              " 'FDF16': 7.3,\n",
              " 'FDF17': 5.19,\n",
              " 'FDF20': 12.85,\n",
              " 'FDF21': 10.3,\n",
              " 'FDF22': 6.865,\n",
              " 'FDF24': 15.5,\n",
              " 'FDF26': 6.825,\n",
              " 'FDF28': 15.7,\n",
              " 'FDF29': 15.1,\n",
              " 'FDF32': 16.35,\n",
              " 'FDF33': 7.97,\n",
              " 'FDF34': 9.3,\n",
              " 'FDF35': 15.0,\n",
              " 'FDF38': 11.8,\n",
              " 'FDF39': 14.85,\n",
              " 'FDF40': 20.25,\n",
              " 'FDF41': 12.15,\n",
              " 'FDF44': 7.17,\n",
              " 'FDF45': 18.2,\n",
              " 'FDF46': 7.07,\n",
              " 'FDF47': 20.85,\n",
              " 'FDF50': 4.905,\n",
              " 'FDF52': 9.3,\n",
              " 'FDF53': 20.75,\n",
              " 'FDF56': 16.7,\n",
              " 'FDF57': 14.5,\n",
              " 'FDF58': 13.3,\n",
              " 'FDF59': 12.5,\n",
              " 'FDG02': 7.855,\n",
              " 'FDG04': 13.1,\n",
              " 'FDG05': 11.0,\n",
              " 'FDG08': 13.15,\n",
              " 'FDG09': 20.6,\n",
              " 'FDG10': 6.63,\n",
              " 'FDG12': 6.635,\n",
              " 'FDG14': 9.0,\n",
              " 'FDG16': 15.25,\n",
              " 'FDG17': 6.865,\n",
              " 'FDG20': 15.5,\n",
              " 'FDG21': 17.35,\n",
              " 'FDG22': 17.6,\n",
              " 'FDG24': 7.975,\n",
              " 'FDG26': 18.85,\n",
              " 'FDG28': 9.285,\n",
              " 'FDG29': 17.6,\n",
              " 'FDG31': 12.15,\n",
              " 'FDG32': 19.85,\n",
              " 'FDG33': 5.365,\n",
              " 'FDG34': 11.5,\n",
              " 'FDG35': 21.2,\n",
              " 'FDG38': 8.975,\n",
              " 'FDG40': 13.65,\n",
              " 'FDG41': 8.84,\n",
              " 'FDG44': 6.13,\n",
              " 'FDG45': 8.1,\n",
              " 'FDG46': 8.63,\n",
              " 'FDG47': 12.8,\n",
              " 'FDG50': 7.405,\n",
              " 'FDG52': 13.65,\n",
              " 'FDG53': 10.0,\n",
              " 'FDG56': 13.3,\n",
              " 'FDG57': 14.7,\n",
              " 'FDG58': 10.695,\n",
              " 'FDG59': 15.85,\n",
              " 'FDG60': 20.35,\n",
              " 'FDH02': 7.27,\n",
              " 'FDH04': 6.115,\n",
              " 'FDH05': 14.35,\n",
              " 'FDH08': 7.51,\n",
              " 'FDH09': 12.6,\n",
              " 'FDH10': 21.0,\n",
              " 'FDH12': 9.6,\n",
              " 'FDH14': 17.1,\n",
              " 'FDH16': 10.5,\n",
              " 'FDH17': 16.2,\n",
              " 'FDH19': 19.35,\n",
              " 'FDH20': 16.1,\n",
              " 'FDH21': 10.395,\n",
              " 'FDH22': 6.405,\n",
              " 'FDH24': 20.7,\n",
              " 'FDH26': 19.25,\n",
              " 'FDH27': 7.075,\n",
              " 'FDH28': 15.85,\n",
              " 'FDH31': 12.0,\n",
              " 'FDH32': 12.8,\n",
              " 'FDH33': 12.85,\n",
              " 'FDH34': 8.63,\n",
              " 'FDH35': 18.25,\n",
              " 'FDH38': 6.425,\n",
              " 'FDH40': 11.6,\n",
              " 'FDH41': 9.0,\n",
              " 'FDH44': 19.1,\n",
              " 'FDH45': 15.1,\n",
              " 'FDH46': 6.935,\n",
              " 'FDH47': 13.5,\n",
              " 'FDH48': 13.5,\n",
              " 'FDH50': 15.0,\n",
              " 'FDH52': 9.42,\n",
              " 'FDH53': 20.5,\n",
              " 'FDH56': 9.8,\n",
              " 'FDH57': 10.895,\n",
              " 'FDH58': 12.3,\n",
              " 'FDH60': 19.7,\n",
              " 'FDI02': 15.7,\n",
              " 'FDI04': 13.65,\n",
              " 'FDI05': 8.35,\n",
              " 'FDI07': 12.35,\n",
              " 'FDI08': 18.2,\n",
              " 'FDI09': 20.75,\n",
              " 'FDI10': 8.51,\n",
              " 'FDI12': 9.395,\n",
              " 'FDI14': 14.1,\n",
              " 'FDI15': 13.8,\n",
              " 'FDI16': 14.0,\n",
              " 'FDI19': 15.1,\n",
              " 'FDI20': 19.1,\n",
              " 'FDI21': 5.59,\n",
              " 'FDI22': 12.6,\n",
              " 'FDI24': 10.3,\n",
              " 'FDI26': 5.94,\n",
              " 'FDI27': 8.71,\n",
              " 'FDI28': 14.3,\n",
              " 'FDI32': 17.7,\n",
              " 'FDI33': 16.5,\n",
              " 'FDI34': 10.65,\n",
              " 'FDI35': 14.0,\n",
              " 'FDI36': 12.5,\n",
              " 'FDI38': 13.35,\n",
              " 'FDI40': 11.5,\n",
              " 'FDI41': 18.5,\n",
              " 'FDI44': 16.1,\n",
              " 'FDI45': 13.1,\n",
              " 'FDI46': 9.5,\n",
              " 'FDI48': 11.85,\n",
              " 'FDI50': 8.42,\n",
              " 'FDI52': 18.7,\n",
              " 'FDI53': 8.895,\n",
              " 'FDI56': 7.325,\n",
              " 'FDI57': 19.85,\n",
              " 'FDI58': 7.64,\n",
              " 'FDI60': 7.22,\n",
              " 'FDJ02': 17.2,\n",
              " 'FDJ03': 12.35,\n",
              " 'FDJ04': 18.0,\n",
              " 'FDJ07': 7.26,\n",
              " 'FDJ08': 11.1,\n",
              " 'FDJ09': 15.0,\n",
              " 'FDJ10': 5.095,\n",
              " 'FDJ12': 8.895,\n",
              " 'FDJ14': 10.3,\n",
              " 'FDJ15': 11.35,\n",
              " 'FDJ16': 9.195,\n",
              " 'FDJ20': 20.7,\n",
              " 'FDJ21': 16.7,\n",
              " 'FDJ22': 18.75,\n",
              " 'FDJ26': 15.3,\n",
              " 'FDJ27': 17.7,\n",
              " 'FDJ28': 12.3,\n",
              " 'FDJ32': 10.695,\n",
              " 'FDJ33': 8.895,\n",
              " 'FDJ34': 11.8,\n",
              " 'FDJ36': 14.5,\n",
              " 'FDJ38': 8.6,\n",
              " 'FDJ40': 13.6,\n",
              " 'FDJ41': 6.85,\n",
              " 'FDJ44': 12.3,\n",
              " 'FDJ45': 17.75,\n",
              " 'FDJ46': 11.1,\n",
              " 'FDJ48': 11.3,\n",
              " 'FDJ50': 8.645,\n",
              " 'FDJ52': 7.145,\n",
              " 'FDJ53': 10.5,\n",
              " 'FDJ55': 12.8,\n",
              " 'FDJ56': 8.985,\n",
              " 'FDJ57': 7.42,\n",
              " 'FDJ58': 15.6,\n",
              " 'FDJ60': 19.35,\n",
              " 'FDK02': 12.5,\n",
              " 'FDK03': 12.6,\n",
              " 'FDK04': 7.36,\n",
              " 'FDK08': 9.195,\n",
              " 'FDK09': 15.2,\n",
              " 'FDK10': 5.785,\n",
              " 'FDK14': 6.98,\n",
              " 'FDK15': 10.8,\n",
              " 'FDK16': 9.065,\n",
              " 'FDK20': 12.6,\n",
              " 'FDK21': 7.905,\n",
              " 'FDK22': 9.8,\n",
              " 'FDK24': 9.195,\n",
              " 'FDK25': 11.6,\n",
              " 'FDK26': 5.46,\n",
              " 'FDK27': 11.0,\n",
              " 'FDK28': 5.695,\n",
              " 'FDK32': 16.25,\n",
              " 'FDK33': 17.85,\n",
              " 'FDK34': 13.35,\n",
              " 'FDK36': 7.09,\n",
              " 'FDK38': 6.65,\n",
              " 'FDK40': 7.035,\n",
              " 'FDK41': 14.3,\n",
              " 'FDK43': 9.8,\n",
              " 'FDK44': 16.6,\n",
              " 'FDK45': 11.65,\n",
              " 'FDK46': 9.6,\n",
              " 'FDK48': 7.445,\n",
              " 'FDK50': 7.96,\n",
              " 'FDK51': 19.85,\n",
              " 'FDK52': 18.25,\n",
              " 'FDK55': 18.5,\n",
              " 'FDK56': 9.695,\n",
              " 'FDK58': 11.35,\n",
              " 'FDK60': 16.5,\n",
              " 'FDL02': 20.0,\n",
              " 'FDL03': 19.25,\n",
              " 'FDL04': 19.0,\n",
              " 'FDL08': 10.8,\n",
              " 'FDL09': 19.6,\n",
              " 'FDL10': 8.395,\n",
              " 'FDL12': 15.85,\n",
              " 'FDL13': 13.85,\n",
              " 'FDL14': 8.115,\n",
              " 'FDL15': 17.85,\n",
              " 'FDL16': 12.85,\n",
              " 'FDL20': 17.1,\n",
              " 'FDL21': 15.85,\n",
              " 'FDL22': 16.85,\n",
              " 'FDL24': 10.3,\n",
              " 'FDL25': 6.92,\n",
              " 'FDL26': 18.0,\n",
              " 'FDL27': 6.17,\n",
              " 'FDL28': 10.0,\n",
              " 'FDL32': 15.7,\n",
              " 'FDL33': 7.235,\n",
              " 'FDL34': 16.0,\n",
              " 'FDL36': 15.1,\n",
              " 'FDL38': 13.8,\n",
              " 'FDL39': 16.1,\n",
              " 'FDL40': 17.7,\n",
              " 'FDL43': 10.1,\n",
              " 'FDL44': 18.25,\n",
              " 'FDL45': 15.6,\n",
              " 'FDL46': 20.35,\n",
              " 'FDL48': 19.35,\n",
              " 'FDL50': 12.15,\n",
              " 'FDL51': 20.7,\n",
              " 'FDL52': 6.635,\n",
              " 'FDL56': 14.1,\n",
              " 'FDL57': 15.1,\n",
              " 'FDL58': 5.78,\n",
              " 'FDM01': 7.895,\n",
              " 'FDM02': 12.5,\n",
              " 'FDM03': 12.65,\n",
              " 'FDM04': 9.195,\n",
              " 'FDM08': 10.1,\n",
              " 'FDM09': 11.15,\n",
              " 'FDM10': 18.25,\n",
              " 'FDM12': 16.7,\n",
              " 'FDM13': 6.425,\n",
              " 'FDM14': 13.8,\n",
              " 'FDM15': 11.8,\n",
              " 'FDM16': 8.155,\n",
              " 'FDM20': 10.0,\n",
              " 'FDM21': 20.2,\n",
              " 'FDM22': 14.0,\n",
              " 'FDM24': 6.135,\n",
              " 'FDM25': 10.695,\n",
              " 'FDM27': 12.35,\n",
              " 'FDM28': 15.7,\n",
              " 'FDM32': 20.5,\n",
              " 'FDM33': 15.6,\n",
              " 'FDM34': 19.0,\n",
              " 'FDM36': 11.65,\n",
              " 'FDM38': 5.885,\n",
              " 'FDM39': 6.42,\n",
              " 'FDM40': 10.195,\n",
              " 'FDM44': 12.5,\n",
              " 'FDM45': 8.655,\n",
              " 'FDM46': 7.365,\n",
              " 'FDM50': 13.0,\n",
              " 'FDM51': 11.8,\n",
              " 'FDM52': 15.1,\n",
              " 'FDM56': 16.7,\n",
              " 'FDM57': 11.65,\n",
              " 'FDM58': 16.85,\n",
              " 'FDM60': 10.8,\n",
              " 'FDN01': 8.895,\n",
              " 'FDN02': 16.5,\n",
              " 'FDN03': 9.8,\n",
              " 'FDN04': 11.8,\n",
              " 'FDN08': 7.72,\n",
              " 'FDN09': 14.15,\n",
              " 'FDN10': 11.5,\n",
              " 'FDN12': 15.6,\n",
              " 'FDN13': 18.6,\n",
              " 'FDN15': 17.5,\n",
              " 'FDN16': 12.6,\n",
              " 'FDN20': 19.35,\n",
              " 'FDN21': 18.6,\n",
              " 'FDN22': 18.85,\n",
              " 'FDN23': 6.575,\n",
              " 'FDN24': 14.1,\n",
              " 'FDN25': 7.895,\n",
              " 'FDN27': 20.85,\n",
              " 'FDN28': 5.88,\n",
              " 'FDN31': 11.5,\n",
              " 'FDN32': 17.5,\n",
              " 'FDN33': 6.305,\n",
              " 'FDN34': 15.6,\n",
              " 'FDN38': 6.615,\n",
              " 'FDN39': 19.35,\n",
              " 'FDN40': 5.88,\n",
              " 'FDN44': 13.15,\n",
              " 'FDN45': 19.35,\n",
              " 'FDN46': 7.21,\n",
              " 'FDN48': 13.35,\n",
              " 'FDN49': 17.25,\n",
              " 'FDN50': 16.85,\n",
              " 'FDN51': 17.85,\n",
              " 'FDN56': 5.46,\n",
              " 'FDN57': 18.25,\n",
              " 'FDN58': 13.8,\n",
              " 'FDN60': 15.1,\n",
              " 'FDO01': 21.1,\n",
              " 'FDO03': 10.395,\n",
              " 'FDO04': 16.6,\n",
              " 'FDO08': 11.1,\n",
              " 'FDO09': 13.5,\n",
              " 'FDO10': 13.65,\n",
              " 'FDO11': 8.0,\n",
              " 'FDO12': 15.75,\n",
              " 'FDO13': 7.865,\n",
              " 'FDO15': 16.75,\n",
              " 'FDO16': 5.48,\n",
              " 'FDO19': 17.7,\n",
              " 'FDO20': 12.85,\n",
              " 'FDO21': 11.6,\n",
              " 'FDO22': 13.5,\n",
              " 'FDO23': 17.85,\n",
              " 'FDO24': 11.1,\n",
              " 'FDO25': 6.3,\n",
              " 'FDO27': 6.175,\n",
              " 'FDO28': 5.765,\n",
              " 'FDO31': 6.76,\n",
              " 'FDO32': 6.36,\n",
              " 'FDO33': 14.75,\n",
              " 'FDO34': 17.7,\n",
              " 'FDO36': 19.7,\n",
              " 'FDO37': 8.06,\n",
              " 'FDO38': 17.25,\n",
              " 'FDO39': 6.985,\n",
              " 'FDO40': 17.1,\n",
              " 'FDO44': 12.6,\n",
              " 'FDO45': 13.15,\n",
              " 'FDO46': 9.6,\n",
              " 'FDO48': 15.0,\n",
              " 'FDO49': 10.6,\n",
              " 'FDO50': 16.25,\n",
              " 'FDO51': 6.785,\n",
              " 'FDO52': 11.6,\n",
              " 'FDO56': 10.195,\n",
              " 'FDO57': 20.75,\n",
              " 'FDO58': 19.6,\n",
              " 'FDO60': 20.0,\n",
              " 'FDP01': 20.75,\n",
              " 'FDP03': 5.15,\n",
              " 'FDP04': 15.35,\n",
              " 'FDP07': 18.2,\n",
              " 'FDP08': 20.5,\n",
              " 'FDP09': 19.75,\n",
              " 'FDP10': 19.0,\n",
              " 'FDP11': 15.85,\n",
              " 'FDP12': 9.8,\n",
              " 'FDP13': 8.1,\n",
              " 'FDP15': 15.2,\n",
              " 'FDP16': 18.6,\n",
              " 'FDP19': 11.5,\n",
              " 'FDP20': 19.85,\n",
              " 'FDP21': 7.42,\n",
              " 'FDP22': 14.65,\n",
              " 'FDP23': 6.71,\n",
              " 'FDP24': 20.6,\n",
              " 'FDP25': 15.2,\n",
              " 'FDP26': 7.785,\n",
              " 'FDP27': 8.155,\n",
              " 'FDP28': 13.65,\n",
              " 'FDP31': 21.1,\n",
              " 'FDP32': 6.65,\n",
              " 'FDP33': 18.7,\n",
              " 'FDP34': 12.85,\n",
              " 'FDP36': 10.395,\n",
              " 'FDP37': 15.6,\n",
              " 'FDP38': 10.1,\n",
              " 'FDP39': 12.65,\n",
              " 'FDP40': 4.555,\n",
              " 'FDP44': 16.5,\n",
              " 'FDP45': 15.7,\n",
              " 'FDP46': 15.35,\n",
              " 'FDP48': 7.52,\n",
              " 'FDP49': 9.0,\n",
              " 'FDP51': 13.85,\n",
              " 'FDP52': 18.7,\n",
              " 'FDP56': 8.185,\n",
              " 'FDP57': 17.5,\n",
              " 'FDP58': 11.1,\n",
              " 'FDP59': 20.85,\n",
              " 'FDP60': 17.35,\n",
              " 'FDQ01': 19.7,\n",
              " 'FDQ03': 15.0,\n",
              " 'FDQ04': 6.4,\n",
              " 'FDQ07': 15.1,\n",
              " 'FDQ08': 15.7,\n",
              " 'FDQ09': 7.235,\n",
              " 'FDQ10': 12.85,\n",
              " 'FDQ11': 5.695,\n",
              " 'FDQ12': 12.65,\n",
              " 'FDQ13': 11.1,\n",
              " 'FDQ14': 9.27,\n",
              " 'FDQ15': 20.35,\n",
              " 'FDQ16': 19.7,\n",
              " 'FDQ19': 7.35,\n",
              " 'FDQ20': 8.325,\n",
              " 'FDQ21': 21.25,\n",
              " 'FDQ22': 16.75,\n",
              " 'FDQ23': 6.55,\n",
              " 'FDQ24': 15.7,\n",
              " 'FDQ25': 8.63,\n",
              " 'FDQ26': 13.5,\n",
              " 'FDQ27': 5.19,\n",
              " 'FDQ28': 14.0,\n",
              " 'FDQ31': 5.785,\n",
              " 'FDQ32': 17.85,\n",
              " 'FDQ33': 13.35,\n",
              " 'FDQ34': 10.85,\n",
              " 'FDQ36': 7.855,\n",
              " 'FDQ37': 20.75,\n",
              " 'FDQ39': 14.8,\n",
              " 'FDQ40': 11.1,\n",
              " 'FDQ44': 20.5,\n",
              " 'FDQ45': 9.5,\n",
              " 'FDQ46': 7.51,\n",
              " 'FDQ47': 7.155,\n",
              " 'FDQ48': 14.3,\n",
              " 'FDQ49': 20.2,\n",
              " 'FDQ51': 16.0,\n",
              " 'FDQ52': 17.0,\n",
              " 'FDQ55': 13.65,\n",
              " 'FDQ56': 6.59,\n",
              " 'FDQ57': 7.275,\n",
              " 'FDQ58': 7.315,\n",
              " 'FDQ59': 9.8,\n",
              " 'FDR01': 5.405,\n",
              " 'FDR02': 16.7,\n",
              " 'FDR03': 15.7,\n",
              " 'FDR04': 7.075,\n",
              " 'FDR07': 21.35,\n",
              " 'FDR08': 18.7,\n",
              " 'FDR09': 18.25,\n",
              " 'FDR10': 17.6,\n",
              " 'FDR11': 10.5,\n",
              " 'FDR12': 12.6,\n",
              " 'FDR13': 9.895,\n",
              " 'FDR14': 11.65,\n",
              " 'FDR15': 9.3,\n",
              " 'FDR16': 5.845,\n",
              " 'FDR19': 13.5,\n",
              " 'FDR20': 20.0,\n",
              " 'FDR21': 19.7,\n",
              " 'FDR22': 19.35,\n",
              " 'FDR23': 15.85,\n",
              " 'FDR24': 17.35,\n",
              " 'FDR25': 17.0,\n",
              " 'FDR26': 20.7,\n",
              " 'FDR27': 15.1,\n",
              " 'FDR28': 13.85,\n",
              " 'FDR31': 6.46,\n",
              " 'FDR32': 6.78,\n",
              " 'FDR33': 7.31,\n",
              " 'FDR34': 17.0,\n",
              " 'FDR35': 12.5,\n",
              " 'FDR36': 6.715,\n",
              " 'FDR37': 16.5,\n",
              " 'FDR39': 20.35,\n",
              " 'FDR40': 9.1,\n",
              " 'FDR43': 18.2,\n",
              " 'FDR44': 6.11,\n",
              " 'FDR45': 10.8,\n",
              " 'FDR46': 16.85,\n",
              " 'FDR47': 17.85,\n",
              " 'FDR48': 11.65,\n",
              " 'FDR49': 8.71,\n",
              " 'FDR51': 9.035,\n",
              " 'FDR52': 12.65,\n",
              " 'FDR55': 12.15,\n",
              " 'FDR56': 15.5,\n",
              " 'FDR57': 5.675,\n",
              " 'FDR58': 6.675,\n",
              " 'FDR59': 14.5,\n",
              " 'FDR60': 14.3,\n",
              " 'FDS01': 11.6,\n",
              " 'FDS02': 10.195,\n",
              " 'FDS03': 7.825,\n",
              " 'FDS04': 10.195,\n",
              " 'FDS07': 12.35,\n",
              " 'FDS08': 5.735,\n",
              " 'FDS09': 8.895,\n",
              " 'FDS10': 19.2,\n",
              " 'FDS11': 7.05,\n",
              " 'FDS12': 9.1,\n",
              " 'FDS13': 6.465,\n",
              " 'FDS14': 7.285,\n",
              " 'FDS15': 9.195,\n",
              " 'FDS16': 15.15,\n",
              " 'FDS19': 13.8,\n",
              " 'FDS20': 8.85,\n",
              " 'FDS21': 19.85,\n",
              " 'FDS22': 16.85,\n",
              " 'FDS23': 4.635,\n",
              " 'FDS24': 20.85,\n",
              " 'FDS25': 6.885,\n",
              " 'FDS26': 20.35,\n",
              " 'FDS27': 10.195,\n",
              " 'FDS28': 8.18,\n",
              " 'FDS31': 13.1,\n",
              " 'FDS32': 17.75,\n",
              " 'FDS33': 6.67,\n",
              " 'FDS34': 19.35,\n",
              " 'FDS35': 9.3,\n",
              " 'FDS36': 8.38,\n",
              " 'FDS37': 7.655,\n",
              " 'FDS39': 6.895,\n",
              " 'FDS40': 15.35,\n",
              " 'FDS43': 11.65,\n",
              " 'FDS44': 12.65,\n",
              " 'FDS45': 5.175,\n",
              " 'FDS46': 17.6,\n",
              " 'FDS47': 16.75,\n",
              " 'FDS48': 15.15,\n",
              " 'FDS49': 9.0,\n",
              " 'FDS50': 17.0,\n",
              " 'FDS51': 13.35,\n",
              " 'FDS52': 8.89,\n",
              " 'FDS55': 7.02,\n",
              " 'FDS56': 5.785,\n",
              " 'FDS57': 15.5,\n",
              " 'FDS58': 9.285,\n",
              " 'FDS59': 14.8,\n",
              " 'FDS60': 20.85,\n",
              " 'FDT01': 13.65,\n",
              " 'FDT02': 12.6,\n",
              " 'FDT03': 21.25,\n",
              " 'FDT04': 17.25,\n",
              " 'FDT07': 5.82,\n",
              " 'FDT08': 13.65,\n",
              " 'FDT09': 15.15,\n",
              " 'FDT10': 16.7,\n",
              " 'FDT11': 5.94,\n",
              " 'FDT12': 6.215,\n",
              " 'FDT13': 14.85,\n",
              " 'FDT14': 10.695,\n",
              " 'FDT15': 12.15,\n",
              " 'FDT16': 9.895,\n",
              " 'FDT19': 7.59,\n",
              " 'FDT20': 10.5,\n",
              " 'FDT21': 7.42,\n",
              " 'FDT22': 10.395,\n",
              " 'FDT23': 7.72,\n",
              " 'FDT24': 12.35,\n",
              " 'FDT25': 7.5,\n",
              " 'FDT26': 18.85,\n",
              " 'FDT27': 11.395,\n",
              " 'FDT28': 13.3,\n",
              " 'FDT31': 19.75,\n",
              " 'FDT32': 19.0,\n",
              " 'FDT33': 7.81,\n",
              " 'FDT34': 9.3,\n",
              " 'FDT35': 19.85,\n",
              " 'FDT36': 12.3,\n",
              " 'FDT37': 14.15,\n",
              " 'FDT38': 18.7,\n",
              " 'FDT39': 6.26,\n",
              " 'FDT40': 5.985,\n",
              " 'FDT43': 16.35,\n",
              " 'FDT44': 16.6,\n",
              " 'FDT45': 15.85,\n",
              " 'FDT46': 11.35,\n",
              " 'FDT47': 5.26,\n",
              " 'FDT48': 4.92,\n",
              " 'FDT49': 7.0,\n",
              " 'FDT50': 6.75,\n",
              " 'FDT51': 11.65,\n",
              " 'FDT52': 9.695,\n",
              " 'FDT55': 13.6,\n",
              " 'FDT56': 16.0,\n",
              " 'FDT57': 15.2,\n",
              " 'FDT58': 9.0,\n",
              " 'FDT59': 13.65,\n",
              " 'FDT60': 12.0,\n",
              " 'FDU01': 20.25,\n",
              " 'FDU02': 13.35,\n",
              " 'FDU03': 18.7,\n",
              " 'FDU04': 7.93,\n",
              " 'FDU07': 11.1,\n",
              " 'FDU08': 10.3,\n",
              " 'FDU09': 7.71,\n",
              " 'FDU10': 10.1,\n",
              " 'FDU11': 4.785,\n",
              " 'FDU12': 15.5,\n",
              " 'FDU13': 8.355,\n",
              " 'FDU14': 17.75,\n",
              " 'FDU15': 13.65,\n",
              " 'FDU16': 19.25,\n",
              " 'FDU19': 8.77,\n",
              " 'FDU20': 19.35,\n",
              " 'FDU21': 11.8,\n",
              " 'FDU22': 12.35,\n",
              " 'FDU23': 12.15,\n",
              " 'FDU24': 6.78,\n",
              " 'FDU25': 12.35,\n",
              " 'FDU26': 16.7,\n",
              " 'FDU27': 18.6,\n",
              " 'FDU28': 19.2,\n",
              " 'FDU31': 10.5,\n",
              " 'FDU32': 8.785,\n",
              " 'FDU33': 7.63,\n",
              " 'FDU34': 18.25,\n",
              " 'FDU35': 6.44,\n",
              " 'FDU36': 6.15,\n",
              " 'FDU37': 9.5,\n",
              " 'FDU38': 10.8,\n",
              " 'FDU39': 18.85,\n",
              " 'FDU40': 20.85,\n",
              " 'FDU43': 19.35,\n",
              " 'FDU44': 12.15,\n",
              " 'FDU45': 15.6,\n",
              " ...}"
            ]
          },
          "metadata": {},
          "execution_count": 31
        }
      ]
    },
    {
      "cell_type": "code",
      "source": [
        "missing_mask = df.Item_Weight.isna() # questa \"maschera\" ci indica le righe in cui il peso è mancante\n",
        "missing_mask.head(20)"
      ],
      "metadata": {
        "id": "qhJtqGItyqE5",
        "colab": {
          "base_uri": "https://localhost:8080/",
          "height": 711
        },
        "collapsed": true,
        "outputId": "4316d4b3-55d1-4ae5-b882-7adaba3ae221"
      },
      "execution_count": null,
      "outputs": [
        {
          "output_type": "execute_result",
          "data": {
            "text/plain": [
              "0     False\n",
              "1     False\n",
              "2     False\n",
              "3     False\n",
              "4     False\n",
              "5     False\n",
              "6     False\n",
              "7      True\n",
              "8     False\n",
              "9     False\n",
              "10    False\n",
              "11    False\n",
              "12    False\n",
              "13    False\n",
              "14    False\n",
              "15    False\n",
              "16    False\n",
              "17    False\n",
              "18     True\n",
              "19    False\n",
              "Name: Item_Weight, dtype: bool"
            ],
            "text/html": [
              "<div>\n",
              "<style scoped>\n",
              "    .dataframe tbody tr th:only-of-type {\n",
              "        vertical-align: middle;\n",
              "    }\n",
              "\n",
              "    .dataframe tbody tr th {\n",
              "        vertical-align: top;\n",
              "    }\n",
              "\n",
              "    .dataframe thead th {\n",
              "        text-align: right;\n",
              "    }\n",
              "</style>\n",
              "<table border=\"1\" class=\"dataframe\">\n",
              "  <thead>\n",
              "    <tr style=\"text-align: right;\">\n",
              "      <th></th>\n",
              "      <th>Item_Weight</th>\n",
              "    </tr>\n",
              "  </thead>\n",
              "  <tbody>\n",
              "    <tr>\n",
              "      <th>0</th>\n",
              "      <td>False</td>\n",
              "    </tr>\n",
              "    <tr>\n",
              "      <th>1</th>\n",
              "      <td>False</td>\n",
              "    </tr>\n",
              "    <tr>\n",
              "      <th>2</th>\n",
              "      <td>False</td>\n",
              "    </tr>\n",
              "    <tr>\n",
              "      <th>3</th>\n",
              "      <td>False</td>\n",
              "    </tr>\n",
              "    <tr>\n",
              "      <th>4</th>\n",
              "      <td>False</td>\n",
              "    </tr>\n",
              "    <tr>\n",
              "      <th>5</th>\n",
              "      <td>False</td>\n",
              "    </tr>\n",
              "    <tr>\n",
              "      <th>6</th>\n",
              "      <td>False</td>\n",
              "    </tr>\n",
              "    <tr>\n",
              "      <th>7</th>\n",
              "      <td>True</td>\n",
              "    </tr>\n",
              "    <tr>\n",
              "      <th>8</th>\n",
              "      <td>False</td>\n",
              "    </tr>\n",
              "    <tr>\n",
              "      <th>9</th>\n",
              "      <td>False</td>\n",
              "    </tr>\n",
              "    <tr>\n",
              "      <th>10</th>\n",
              "      <td>False</td>\n",
              "    </tr>\n",
              "    <tr>\n",
              "      <th>11</th>\n",
              "      <td>False</td>\n",
              "    </tr>\n",
              "    <tr>\n",
              "      <th>12</th>\n",
              "      <td>False</td>\n",
              "    </tr>\n",
              "    <tr>\n",
              "      <th>13</th>\n",
              "      <td>False</td>\n",
              "    </tr>\n",
              "    <tr>\n",
              "      <th>14</th>\n",
              "      <td>False</td>\n",
              "    </tr>\n",
              "    <tr>\n",
              "      <th>15</th>\n",
              "      <td>False</td>\n",
              "    </tr>\n",
              "    <tr>\n",
              "      <th>16</th>\n",
              "      <td>False</td>\n",
              "    </tr>\n",
              "    <tr>\n",
              "      <th>17</th>\n",
              "      <td>False</td>\n",
              "    </tr>\n",
              "    <tr>\n",
              "      <th>18</th>\n",
              "      <td>True</td>\n",
              "    </tr>\n",
              "    <tr>\n",
              "      <th>19</th>\n",
              "      <td>False</td>\n",
              "    </tr>\n",
              "  </tbody>\n",
              "</table>\n",
              "</div><br><label><b>dtype:</b> bool</label>"
            ]
          },
          "metadata": {},
          "execution_count": 32
        }
      ]
    },
    {
      "cell_type": "code",
      "source": [
        "# laddove il peso è mancante, andiamo a recuperare il peso di quel prodotto dalla mappa, se presente\n",
        "df.loc[missing_mask, 'Item_Weight'] = df.loc[missing_mask, 'Item_Identifier'].map(mappa_prodotto_peso)\n",
        "\n",
        "# vediamo se il numero di valori mancanti si è abbassato...\n",
        "df.Item_Weight.isna().sum() # solo 4 prodotti ora risultano mancanti! Prima erano circa 1400!"
      ],
      "metadata": {
        "id": "TCAma7qE5aSC",
        "colab": {
          "base_uri": "https://localhost:8080/"
        },
        "outputId": "a7cfc990-1aa0-469e-d9b4-599897be3f7d"
      },
      "execution_count": null,
      "outputs": [
        {
          "output_type": "execute_result",
          "data": {
            "text/plain": [
              "4"
            ]
          },
          "metadata": {},
          "execution_count": 33
        }
      ]
    },
    {
      "cell_type": "markdown",
      "source": [
        "🟢🟢🟢 FINE sezione difficile 🟢🟢🟢"
      ],
      "metadata": {
        "id": "ATfIIcX08K0m"
      }
    },
    {
      "cell_type": "markdown",
      "source": [
        "##### Vediamo quali prodotti risultano ancora con peso mancante"
      ],
      "metadata": {
        "id": "Isu6qp9A6gIs"
      }
    },
    {
      "cell_type": "code",
      "source": [
        "df[df.Item_Weight.isna()] # Sono 4 prodotti di categoria Food."
      ],
      "metadata": {
        "id": "bSW59G3DyLU1",
        "colab": {
          "base_uri": "https://localhost:8080/",
          "height": 264
        },
        "outputId": "3f6fa2a3-fa99-42f2-ddce-a4ecffdd37ac"
      },
      "execution_count": null,
      "outputs": [
        {
          "output_type": "execute_result",
          "data": {
            "text/plain": [
              "     Item_Identifier  Item_Weight Item_Fat_Content  Item_Visibility  \\\n",
              "927            FDN52          NaN          Regular         0.130933   \n",
              "1922           FDK57          NaN          Low Fat         0.079904   \n",
              "4187           FDE52          NaN          Regular         0.029742   \n",
              "5022           FDQ60          NaN          Regular         0.191501   \n",
              "\n",
              "         Item_Type  Item_MRP Outlet_Identifier  Outlet_Establishment_Year  \\\n",
              "927   Frozen Foods   86.9198            OUT027                       1985   \n",
              "1922   Snack Foods  120.0440            OUT027                       1985   \n",
              "4187         Dairy   88.9514            OUT027                       1985   \n",
              "5022  Baking Goods  121.2098            OUT019                       1985   \n",
              "\n",
              "     Outlet_Size Outlet_Location_Type        Outlet_Type  Item_Outlet_Sales  \\\n",
              "927       Medium               Tier 3  Supermarket Type3          1569.9564   \n",
              "1922      Medium               Tier 3  Supermarket Type3          4434.2280   \n",
              "4187      Medium               Tier 3  Supermarket Type3          3453.5046   \n",
              "5022       Small               Tier 1      Grocery Store           120.5098   \n",
              "\n",
              "     Item_Category  \n",
              "927             FD  \n",
              "1922            FD  \n",
              "4187            FD  \n",
              "5022            FD  "
            ],
            "text/html": [
              "\n",
              "  <div id=\"df-582600cb-2d45-48bd-8a6d-2130772ceb38\" class=\"colab-df-container\">\n",
              "    <div>\n",
              "<style scoped>\n",
              "    .dataframe tbody tr th:only-of-type {\n",
              "        vertical-align: middle;\n",
              "    }\n",
              "\n",
              "    .dataframe tbody tr th {\n",
              "        vertical-align: top;\n",
              "    }\n",
              "\n",
              "    .dataframe thead th {\n",
              "        text-align: right;\n",
              "    }\n",
              "</style>\n",
              "<table border=\"1\" class=\"dataframe\">\n",
              "  <thead>\n",
              "    <tr style=\"text-align: right;\">\n",
              "      <th></th>\n",
              "      <th>Item_Identifier</th>\n",
              "      <th>Item_Weight</th>\n",
              "      <th>Item_Fat_Content</th>\n",
              "      <th>Item_Visibility</th>\n",
              "      <th>Item_Type</th>\n",
              "      <th>Item_MRP</th>\n",
              "      <th>Outlet_Identifier</th>\n",
              "      <th>Outlet_Establishment_Year</th>\n",
              "      <th>Outlet_Size</th>\n",
              "      <th>Outlet_Location_Type</th>\n",
              "      <th>Outlet_Type</th>\n",
              "      <th>Item_Outlet_Sales</th>\n",
              "      <th>Item_Category</th>\n",
              "    </tr>\n",
              "  </thead>\n",
              "  <tbody>\n",
              "    <tr>\n",
              "      <th>927</th>\n",
              "      <td>FDN52</td>\n",
              "      <td>NaN</td>\n",
              "      <td>Regular</td>\n",
              "      <td>0.130933</td>\n",
              "      <td>Frozen Foods</td>\n",
              "      <td>86.9198</td>\n",
              "      <td>OUT027</td>\n",
              "      <td>1985</td>\n",
              "      <td>Medium</td>\n",
              "      <td>Tier 3</td>\n",
              "      <td>Supermarket Type3</td>\n",
              "      <td>1569.9564</td>\n",
              "      <td>FD</td>\n",
              "    </tr>\n",
              "    <tr>\n",
              "      <th>1922</th>\n",
              "      <td>FDK57</td>\n",
              "      <td>NaN</td>\n",
              "      <td>Low Fat</td>\n",
              "      <td>0.079904</td>\n",
              "      <td>Snack Foods</td>\n",
              "      <td>120.0440</td>\n",
              "      <td>OUT027</td>\n",
              "      <td>1985</td>\n",
              "      <td>Medium</td>\n",
              "      <td>Tier 3</td>\n",
              "      <td>Supermarket Type3</td>\n",
              "      <td>4434.2280</td>\n",
              "      <td>FD</td>\n",
              "    </tr>\n",
              "    <tr>\n",
              "      <th>4187</th>\n",
              "      <td>FDE52</td>\n",
              "      <td>NaN</td>\n",
              "      <td>Regular</td>\n",
              "      <td>0.029742</td>\n",
              "      <td>Dairy</td>\n",
              "      <td>88.9514</td>\n",
              "      <td>OUT027</td>\n",
              "      <td>1985</td>\n",
              "      <td>Medium</td>\n",
              "      <td>Tier 3</td>\n",
              "      <td>Supermarket Type3</td>\n",
              "      <td>3453.5046</td>\n",
              "      <td>FD</td>\n",
              "    </tr>\n",
              "    <tr>\n",
              "      <th>5022</th>\n",
              "      <td>FDQ60</td>\n",
              "      <td>NaN</td>\n",
              "      <td>Regular</td>\n",
              "      <td>0.191501</td>\n",
              "      <td>Baking Goods</td>\n",
              "      <td>121.2098</td>\n",
              "      <td>OUT019</td>\n",
              "      <td>1985</td>\n",
              "      <td>Small</td>\n",
              "      <td>Tier 1</td>\n",
              "      <td>Grocery Store</td>\n",
              "      <td>120.5098</td>\n",
              "      <td>FD</td>\n",
              "    </tr>\n",
              "  </tbody>\n",
              "</table>\n",
              "</div>\n",
              "    <div class=\"colab-df-buttons\">\n",
              "\n",
              "  <div class=\"colab-df-container\">\n",
              "    <button class=\"colab-df-convert\" onclick=\"convertToInteractive('df-582600cb-2d45-48bd-8a6d-2130772ceb38')\"\n",
              "            title=\"Convert this dataframe to an interactive table.\"\n",
              "            style=\"display:none;\">\n",
              "\n",
              "  <svg xmlns=\"http://www.w3.org/2000/svg\" height=\"24px\" viewBox=\"0 -960 960 960\">\n",
              "    <path d=\"M120-120v-720h720v720H120Zm60-500h600v-160H180v160Zm220 220h160v-160H400v160Zm0 220h160v-160H400v160ZM180-400h160v-160H180v160Zm440 0h160v-160H620v160ZM180-180h160v-160H180v160Zm440 0h160v-160H620v160Z\"/>\n",
              "  </svg>\n",
              "    </button>\n",
              "\n",
              "  <style>\n",
              "    .colab-df-container {\n",
              "      display:flex;\n",
              "      gap: 12px;\n",
              "    }\n",
              "\n",
              "    .colab-df-convert {\n",
              "      background-color: #E8F0FE;\n",
              "      border: none;\n",
              "      border-radius: 50%;\n",
              "      cursor: pointer;\n",
              "      display: none;\n",
              "      fill: #1967D2;\n",
              "      height: 32px;\n",
              "      padding: 0 0 0 0;\n",
              "      width: 32px;\n",
              "    }\n",
              "\n",
              "    .colab-df-convert:hover {\n",
              "      background-color: #E2EBFA;\n",
              "      box-shadow: 0px 1px 2px rgba(60, 64, 67, 0.3), 0px 1px 3px 1px rgba(60, 64, 67, 0.15);\n",
              "      fill: #174EA6;\n",
              "    }\n",
              "\n",
              "    .colab-df-buttons div {\n",
              "      margin-bottom: 4px;\n",
              "    }\n",
              "\n",
              "    [theme=dark] .colab-df-convert {\n",
              "      background-color: #3B4455;\n",
              "      fill: #D2E3FC;\n",
              "    }\n",
              "\n",
              "    [theme=dark] .colab-df-convert:hover {\n",
              "      background-color: #434B5C;\n",
              "      box-shadow: 0px 1px 3px 1px rgba(0, 0, 0, 0.15);\n",
              "      filter: drop-shadow(0px 1px 2px rgba(0, 0, 0, 0.3));\n",
              "      fill: #FFFFFF;\n",
              "    }\n",
              "  </style>\n",
              "\n",
              "    <script>\n",
              "      const buttonEl =\n",
              "        document.querySelector('#df-582600cb-2d45-48bd-8a6d-2130772ceb38 button.colab-df-convert');\n",
              "      buttonEl.style.display =\n",
              "        google.colab.kernel.accessAllowed ? 'block' : 'none';\n",
              "\n",
              "      async function convertToInteractive(key) {\n",
              "        const element = document.querySelector('#df-582600cb-2d45-48bd-8a6d-2130772ceb38');\n",
              "        const dataTable =\n",
              "          await google.colab.kernel.invokeFunction('convertToInteractive',\n",
              "                                                    [key], {});\n",
              "        if (!dataTable) return;\n",
              "\n",
              "        const docLinkHtml = 'Like what you see? Visit the ' +\n",
              "          '<a target=\"_blank\" href=https://colab.research.google.com/notebooks/data_table.ipynb>data table notebook</a>'\n",
              "          + ' to learn more about interactive tables.';\n",
              "        element.innerHTML = '';\n",
              "        dataTable['output_type'] = 'display_data';\n",
              "        await google.colab.output.renderOutput(dataTable, element);\n",
              "        const docLink = document.createElement('div');\n",
              "        docLink.innerHTML = docLinkHtml;\n",
              "        element.appendChild(docLink);\n",
              "      }\n",
              "    </script>\n",
              "  </div>\n",
              "\n",
              "\n",
              "<div id=\"df-7d180944-ebfc-433f-9b7e-4e53fd1dbc92\">\n",
              "  <button class=\"colab-df-quickchart\" onclick=\"quickchart('df-7d180944-ebfc-433f-9b7e-4e53fd1dbc92')\"\n",
              "            title=\"Suggest charts\"\n",
              "            style=\"display:none;\">\n",
              "\n",
              "<svg xmlns=\"http://www.w3.org/2000/svg\" height=\"24px\"viewBox=\"0 0 24 24\"\n",
              "     width=\"24px\">\n",
              "    <g>\n",
              "        <path d=\"M19 3H5c-1.1 0-2 .9-2 2v14c0 1.1.9 2 2 2h14c1.1 0 2-.9 2-2V5c0-1.1-.9-2-2-2zM9 17H7v-7h2v7zm4 0h-2V7h2v10zm4 0h-2v-4h2v4z\"/>\n",
              "    </g>\n",
              "</svg>\n",
              "  </button>\n",
              "\n",
              "<style>\n",
              "  .colab-df-quickchart {\n",
              "      --bg-color: #E8F0FE;\n",
              "      --fill-color: #1967D2;\n",
              "      --hover-bg-color: #E2EBFA;\n",
              "      --hover-fill-color: #174EA6;\n",
              "      --disabled-fill-color: #AAA;\n",
              "      --disabled-bg-color: #DDD;\n",
              "  }\n",
              "\n",
              "  [theme=dark] .colab-df-quickchart {\n",
              "      --bg-color: #3B4455;\n",
              "      --fill-color: #D2E3FC;\n",
              "      --hover-bg-color: #434B5C;\n",
              "      --hover-fill-color: #FFFFFF;\n",
              "      --disabled-bg-color: #3B4455;\n",
              "      --disabled-fill-color: #666;\n",
              "  }\n",
              "\n",
              "  .colab-df-quickchart {\n",
              "    background-color: var(--bg-color);\n",
              "    border: none;\n",
              "    border-radius: 50%;\n",
              "    cursor: pointer;\n",
              "    display: none;\n",
              "    fill: var(--fill-color);\n",
              "    height: 32px;\n",
              "    padding: 0;\n",
              "    width: 32px;\n",
              "  }\n",
              "\n",
              "  .colab-df-quickchart:hover {\n",
              "    background-color: var(--hover-bg-color);\n",
              "    box-shadow: 0 1px 2px rgba(60, 64, 67, 0.3), 0 1px 3px 1px rgba(60, 64, 67, 0.15);\n",
              "    fill: var(--button-hover-fill-color);\n",
              "  }\n",
              "\n",
              "  .colab-df-quickchart-complete:disabled,\n",
              "  .colab-df-quickchart-complete:disabled:hover {\n",
              "    background-color: var(--disabled-bg-color);\n",
              "    fill: var(--disabled-fill-color);\n",
              "    box-shadow: none;\n",
              "  }\n",
              "\n",
              "  .colab-df-spinner {\n",
              "    border: 2px solid var(--fill-color);\n",
              "    border-color: transparent;\n",
              "    border-bottom-color: var(--fill-color);\n",
              "    animation:\n",
              "      spin 1s steps(1) infinite;\n",
              "  }\n",
              "\n",
              "  @keyframes spin {\n",
              "    0% {\n",
              "      border-color: transparent;\n",
              "      border-bottom-color: var(--fill-color);\n",
              "      border-left-color: var(--fill-color);\n",
              "    }\n",
              "    20% {\n",
              "      border-color: transparent;\n",
              "      border-left-color: var(--fill-color);\n",
              "      border-top-color: var(--fill-color);\n",
              "    }\n",
              "    30% {\n",
              "      border-color: transparent;\n",
              "      border-left-color: var(--fill-color);\n",
              "      border-top-color: var(--fill-color);\n",
              "      border-right-color: var(--fill-color);\n",
              "    }\n",
              "    40% {\n",
              "      border-color: transparent;\n",
              "      border-right-color: var(--fill-color);\n",
              "      border-top-color: var(--fill-color);\n",
              "    }\n",
              "    60% {\n",
              "      border-color: transparent;\n",
              "      border-right-color: var(--fill-color);\n",
              "    }\n",
              "    80% {\n",
              "      border-color: transparent;\n",
              "      border-right-color: var(--fill-color);\n",
              "      border-bottom-color: var(--fill-color);\n",
              "    }\n",
              "    90% {\n",
              "      border-color: transparent;\n",
              "      border-bottom-color: var(--fill-color);\n",
              "    }\n",
              "  }\n",
              "</style>\n",
              "\n",
              "  <script>\n",
              "    async function quickchart(key) {\n",
              "      const quickchartButtonEl =\n",
              "        document.querySelector('#' + key + ' button');\n",
              "      quickchartButtonEl.disabled = true;  // To prevent multiple clicks.\n",
              "      quickchartButtonEl.classList.add('colab-df-spinner');\n",
              "      try {\n",
              "        const charts = await google.colab.kernel.invokeFunction(\n",
              "            'suggestCharts', [key], {});\n",
              "      } catch (error) {\n",
              "        console.error('Error during call to suggestCharts:', error);\n",
              "      }\n",
              "      quickchartButtonEl.classList.remove('colab-df-spinner');\n",
              "      quickchartButtonEl.classList.add('colab-df-quickchart-complete');\n",
              "    }\n",
              "    (() => {\n",
              "      let quickchartButtonEl =\n",
              "        document.querySelector('#df-7d180944-ebfc-433f-9b7e-4e53fd1dbc92 button');\n",
              "      quickchartButtonEl.style.display =\n",
              "        google.colab.kernel.accessAllowed ? 'block' : 'none';\n",
              "    })();\n",
              "  </script>\n",
              "</div>\n",
              "\n",
              "    </div>\n",
              "  </div>\n"
            ],
            "application/vnd.google.colaboratory.intrinsic+json": {
              "type": "dataframe",
              "summary": "{\n  \"name\": \"df[df\",\n  \"rows\": 4,\n  \"fields\": [\n    {\n      \"column\": \"Item_Identifier\",\n      \"properties\": {\n        \"dtype\": \"string\",\n        \"num_unique_values\": 4,\n        \"samples\": [\n          \"FDK57\",\n          \"FDQ60\",\n          \"FDN52\"\n        ],\n        \"semantic_type\": \"\",\n        \"description\": \"\"\n      }\n    },\n    {\n      \"column\": \"Item_Weight\",\n      \"properties\": {\n        \"dtype\": \"number\",\n        \"std\": null,\n        \"min\": null,\n        \"max\": null,\n        \"num_unique_values\": 0,\n        \"samples\": [],\n        \"semantic_type\": \"\",\n        \"description\": \"\"\n      }\n    },\n    {\n      \"column\": \"Item_Fat_Content\",\n      \"properties\": {\n        \"dtype\": \"string\",\n        \"num_unique_values\": 2,\n        \"samples\": [],\n        \"semantic_type\": \"\",\n        \"description\": \"\"\n      }\n    },\n    {\n      \"column\": \"Item_Visibility\",\n      \"properties\": {\n        \"dtype\": \"number\",\n        \"std\": 0.06931073179277397,\n        \"min\": 0.02974207,\n        \"max\": 0.191500528,\n        \"num_unique_values\": 4,\n        \"samples\": [],\n        \"semantic_type\": \"\",\n        \"description\": \"\"\n      }\n    },\n    {\n      \"column\": \"Item_Type\",\n      \"properties\": {\n        \"dtype\": \"string\",\n        \"num_unique_values\": 4,\n        \"samples\": [],\n        \"semantic_type\": \"\",\n        \"description\": \"\"\n      }\n    },\n    {\n      \"column\": \"Item_MRP\",\n      \"properties\": {\n        \"dtype\": \"number\",\n        \"std\": 18.898539095125845,\n        \"min\": 86.9198,\n        \"max\": 121.2098,\n        \"num_unique_values\": 4,\n        \"samples\": [],\n        \"semantic_type\": \"\",\n        \"description\": \"\"\n      }\n    },\n    {\n      \"column\": \"Outlet_Identifier\",\n      \"properties\": {\n        \"dtype\": \"string\",\n        \"num_unique_values\": 2,\n        \"samples\": [],\n        \"semantic_type\": \"\",\n        \"description\": \"\"\n      }\n    },\n    {\n      \"column\": \"Outlet_Establishment_Year\",\n      \"properties\": {\n        \"dtype\": \"number\",\n        \"std\": 0,\n        \"min\": 1985,\n        \"max\": 1985,\n        \"num_unique_values\": 1,\n        \"samples\": [],\n        \"semantic_type\": \"\",\n        \"description\": \"\"\n      }\n    },\n    {\n      \"column\": \"Outlet_Size\",\n      \"properties\": {\n        \"dtype\": \"string\",\n        \"num_unique_values\": 2,\n        \"samples\": [],\n        \"semantic_type\": \"\",\n        \"description\": \"\"\n      }\n    },\n    {\n      \"column\": \"Outlet_Location_Type\",\n      \"properties\": {\n        \"dtype\": \"string\",\n        \"num_unique_values\": 2,\n        \"samples\": [],\n        \"semantic_type\": \"\",\n        \"description\": \"\"\n      }\n    },\n    {\n      \"column\": \"Outlet_Type\",\n      \"properties\": {\n        \"dtype\": \"string\",\n        \"num_unique_values\": 2,\n        \"samples\": [],\n        \"semantic_type\": \"\",\n        \"description\": \"\"\n      }\n    },\n    {\n      \"column\": \"Item_Outlet_Sales\",\n      \"properties\": {\n        \"dtype\": \"number\",\n        \"std\": 1926.3856160282658,\n        \"min\": 120.5098,\n        \"max\": 4434.228,\n        \"num_unique_values\": 4,\n        \"samples\": [],\n        \"semantic_type\": \"\",\n        \"description\": \"\"\n      }\n    },\n    {\n      \"column\": \"Item_Category\",\n      \"properties\": {\n        \"dtype\": \"category\",\n        \"num_unique_values\": 1,\n        \"samples\": [],\n        \"semantic_type\": \"\",\n        \"description\": \"\"\n      }\n    }\n  ]\n}"
            }
          },
          "metadata": {},
          "execution_count": 34
        }
      ]
    },
    {
      "cell_type": "markdown",
      "source": [
        "##### Controlliamo se ci sono differenze di peso tra le 3 categorie così decidiamo la strategia per imputare i valori mancanti.\n",
        "\n"
      ],
      "metadata": {
        "id": "g7zZhgCg7Clu"
      }
    },
    {
      "cell_type": "code",
      "source": [
        "# Controlliamo la media per gruppi\n",
        "df.groupby('Item_Category')['Item_Weight'].mean()"
      ],
      "metadata": {
        "id": "fEJebrPB6zUb",
        "colab": {
          "base_uri": "https://localhost:8080/",
          "height": 210
        },
        "outputId": "ae57dace-77c8-4531-a086-029e239f9088"
      },
      "execution_count": null,
      "outputs": [
        {
          "output_type": "execute_result",
          "data": {
            "text/plain": [
              "Item_Category\n",
              "DR    12.112040\n",
              "FD    12.833017\n",
              "NC    13.419190\n",
              "Name: Item_Weight, dtype: float64"
            ],
            "text/html": [
              "<div>\n",
              "<style scoped>\n",
              "    .dataframe tbody tr th:only-of-type {\n",
              "        vertical-align: middle;\n",
              "    }\n",
              "\n",
              "    .dataframe tbody tr th {\n",
              "        vertical-align: top;\n",
              "    }\n",
              "\n",
              "    .dataframe thead th {\n",
              "        text-align: right;\n",
              "    }\n",
              "</style>\n",
              "<table border=\"1\" class=\"dataframe\">\n",
              "  <thead>\n",
              "    <tr style=\"text-align: right;\">\n",
              "      <th></th>\n",
              "      <th>Item_Weight</th>\n",
              "    </tr>\n",
              "    <tr>\n",
              "      <th>Item_Category</th>\n",
              "      <th></th>\n",
              "    </tr>\n",
              "  </thead>\n",
              "  <tbody>\n",
              "    <tr>\n",
              "      <th>DR</th>\n",
              "      <td>12.112040</td>\n",
              "    </tr>\n",
              "    <tr>\n",
              "      <th>FD</th>\n",
              "      <td>12.833017</td>\n",
              "    </tr>\n",
              "    <tr>\n",
              "      <th>NC</th>\n",
              "      <td>13.419190</td>\n",
              "    </tr>\n",
              "  </tbody>\n",
              "</table>\n",
              "</div><br><label><b>dtype:</b> float64</label>"
            ]
          },
          "metadata": {},
          "execution_count": 35
        }
      ]
    },
    {
      "cell_type": "code",
      "source": [
        "# Facciamoci aiutare anche da un boxplot\n",
        "sns.boxplot(data=df, x='Item_Category', y='Item_Weight')"
      ],
      "metadata": {
        "id": "pXbW1ICw7T5b",
        "colab": {
          "base_uri": "https://localhost:8080/",
          "height": 467
        },
        "outputId": "414d62ca-4ae0-463d-c538-74851bb67bf9"
      },
      "execution_count": null,
      "outputs": [
        {
          "output_type": "execute_result",
          "data": {
            "text/plain": [
              "<Axes: xlabel='Item_Category', ylabel='Item_Weight'>"
            ]
          },
          "metadata": {},
          "execution_count": 36
        },
        {
          "output_type": "display_data",
          "data": {
            "text/plain": [
              "<Figure size 640x480 with 1 Axes>"
            ],
            "image/png": "[encoded data removed]"
          },
          "metadata": {}
        }
      ]
    },
    {
      "cell_type": "markdown",
      "source": [
        "Non emergono differenze significative... possiamo utilizzare la media globale come valore per imputare i (restanti) pesi mancanti."
      ],
      "metadata": {
        "id": "iCE11PFF7oZk"
      }
    },
    {
      "cell_type": "markdown",
      "source": [
        "##### [Esercizio] Sostituisci i valori mancanti di `Item_weight` con la media."
      ],
      "metadata": {
        "id": "myZVac372ZSq"
      }
    },
    {
      "cell_type": "code",
      "source": [
        "# inserisci il tuo codice qui\n"
      ],
      "metadata": {
        "id": "WR1v2DVS70A8"
      },
      "execution_count": null,
      "outputs": []
    },
    {
      "cell_type": "markdown",
      "source": [
        "###### Risposta corretta:"
      ],
      "metadata": {
        "id": "x0ByBJ4v2gdG"
      }
    },
    {
      "cell_type": "markdown",
      "source": [
        "`df['Item_Weight'] = df['Item_Weight'].fillna(df['Item_Weight'].mean())`"
      ],
      "metadata": {
        "id": "B9Uj9HwVM9Qy"
      }
    },
    {
      "cell_type": "markdown",
      "source": [
        "##### Controlliamo infine che non ci siano più valori mancanti in questa colonna"
      ],
      "metadata": {
        "id": "C5rSwZ0m8Txp"
      }
    },
    {
      "cell_type": "code",
      "source": [
        "df[df.Item_Weight.isna()] # ok!"
      ],
      "metadata": {
        "colab": {
          "base_uri": "https://localhost:8080/",
          "height": 73
        },
        "id": "Nmpvtt9X8Y80",
        "outputId": "90aee0e5-857f-446d-c5bd-7d3c053351ab"
      },
      "execution_count": null,
      "outputs": [
        {
          "output_type": "execute_result",
          "data": {
            "text/plain": [
              "Empty DataFrame\n",
              "Columns: [Item_Identifier, Item_Weight, Item_Fat_Content, Item_Visibility, Item_Type, Item_MRP, Outlet_Identifier, Outlet_Establishment_Year, Outlet_Size, Outlet_Location_Type, Outlet_Type, Item_Outlet_Sales, Item_Category]\n",
              "Index: []"
            ],
            "text/html": [
              "\n",
              "  <div id=\"df-16c8f733-1d98-4bcb-abed-81b41aee77b2\" class=\"colab-df-container\">\n",
              "    <div>\n",
              "<style scoped>\n",
              "    .dataframe tbody tr th:only-of-type {\n",
              "        vertical-align: middle;\n",
              "    }\n",
              "\n",
              "    .dataframe tbody tr th {\n",
              "        vertical-align: top;\n",
              "    }\n",
              "\n",
              "    .dataframe thead th {\n",
              "        text-align: right;\n",
              "    }\n",
              "</style>\n",
              "<table border=\"1\" class=\"dataframe\">\n",
              "  <thead>\n",
              "    <tr style=\"text-align: right;\">\n",
              "      <th></th>\n",
              "      <th>Item_Identifier</th>\n",
              "      <th>Item_Weight</th>\n",
              "      <th>Item_Fat_Content</th>\n",
              "      <th>Item_Visibility</th>\n",
              "      <th>Item_Type</th>\n",
              "      <th>Item_MRP</th>\n",
              "      <th>Outlet_Identifier</th>\n",
              "      <th>Outlet_Establishment_Year</th>\n",
              "      <th>Outlet_Size</th>\n",
              "      <th>Outlet_Location_Type</th>\n",
              "      <th>Outlet_Type</th>\n",
              "      <th>Item_Outlet_Sales</th>\n",
              "      <th>Item_Category</th>\n",
              "    </tr>\n",
              "  </thead>\n",
              "  <tbody>\n",
              "  </tbody>\n",
              "</table>\n",
              "</div>\n",
              "    <div class=\"colab-df-buttons\">\n",
              "\n",
              "  <div class=\"colab-df-container\">\n",
              "    <button class=\"colab-df-convert\" onclick=\"convertToInteractive('df-16c8f733-1d98-4bcb-abed-81b41aee77b2')\"\n",
              "            title=\"Convert this dataframe to an interactive table.\"\n",
              "            style=\"display:none;\">\n",
              "\n",
              "  <svg xmlns=\"http://www.w3.org/2000/svg\" height=\"24px\" viewBox=\"0 -960 960 960\">\n",
              "    <path d=\"M120-120v-720h720v720H120Zm60-500h600v-160H180v160Zm220 220h160v-160H400v160Zm0 220h160v-160H400v160ZM180-400h160v-160H180v160Zm440 0h160v-160H620v160ZM180-180h160v-160H180v160Zm440 0h160v-160H620v160Z\"/>\n",
              "  </svg>\n",
              "    </button>\n",
              "\n",
              "  <style>\n",
              "    .colab-df-container {\n",
              "      display:flex;\n",
              "      gap: 12px;\n",
              "    }\n",
              "\n",
              "    .colab-df-convert {\n",
              "      background-color: #E8F0FE;\n",
              "      border: none;\n",
              "      border-radius: 50%;\n",
              "      cursor: pointer;\n",
              "      display: none;\n",
              "      fill: #1967D2;\n",
              "      height: 32px;\n",
              "      padding: 0 0 0 0;\n",
              "      width: 32px;\n",
              "    }\n",
              "\n",
              "    .colab-df-convert:hover {\n",
              "      background-color: #E2EBFA;\n",
              "      box-shadow: 0px 1px 2px rgba(60, 64, 67, 0.3), 0px 1px 3px 1px rgba(60, 64, 67, 0.15);\n",
              "      fill: #174EA6;\n",
              "    }\n",
              "\n",
              "    .colab-df-buttons div {\n",
              "      margin-bottom: 4px;\n",
              "    }\n",
              "\n",
              "    [theme=dark] .colab-df-convert {\n",
              "      background-color: #3B4455;\n",
              "      fill: #D2E3FC;\n",
              "    }\n",
              "\n",
              "    [theme=dark] .colab-df-convert:hover {\n",
              "      background-color: #434B5C;\n",
              "      box-shadow: 0px 1px 3px 1px rgba(0, 0, 0, 0.15);\n",
              "      filter: drop-shadow(0px 1px 2px rgba(0, 0, 0, 0.3));\n",
              "      fill: #FFFFFF;\n",
              "    }\n",
              "  </style>\n",
              "\n",
              "    <script>\n",
              "      const buttonEl =\n",
              "        document.querySelector('#df-16c8f733-1d98-4bcb-abed-81b41aee77b2 button.colab-df-convert');\n",
              "      buttonEl.style.display =\n",
              "        google.colab.kernel.accessAllowed ? 'block' : 'none';\n",
              "\n",
              "      async function convertToInteractive(key) {\n",
              "        const element = document.querySelector('#df-16c8f733-1d98-4bcb-abed-81b41aee77b2');\n",
              "        const dataTable =\n",
              "          await google.colab.kernel.invokeFunction('convertToInteractive',\n",
              "                                                    [key], {});\n",
              "        if (!dataTable) return;\n",
              "\n",
              "        const docLinkHtml = 'Like what you see? Visit the ' +\n",
              "          '<a target=\"_blank\" href=https://colab.research.google.com/notebooks/data_table.ipynb>data table notebook</a>'\n",
              "          + ' to learn more about interactive tables.';\n",
              "        element.innerHTML = '';\n",
              "        dataTable['output_type'] = 'display_data';\n",
              "        await google.colab.output.renderOutput(dataTable, element);\n",
              "        const docLink = document.createElement('div');\n",
              "        docLink.innerHTML = docLinkHtml;\n",
              "        element.appendChild(docLink);\n",
              "      }\n",
              "    </script>\n",
              "  </div>\n",
              "\n",
              "\n",
              "    </div>\n",
              "  </div>\n"
            ],
            "application/vnd.google.colaboratory.intrinsic+json": {
              "type": "dataframe",
              "repr_error": "Out of range float values are not JSON compliant: nan"
            }
          },
          "metadata": {},
          "execution_count": 39
        }
      ]
    },
    {
      "cell_type": "markdown",
      "source": [
        "### 3.4 Gestione Missing Values (Colonna `Outlet_Size`)"
      ],
      "metadata": {
        "id": "N5R6NHwwbcxJ"
      }
    },
    {
      "cell_type": "markdown",
      "source": [
        "##### Controlliamo per prima cosa se i valori mancanti sono casuali o appartengono ad una categoria particolare, ad es. allo stesso `Outlet_Type`"
      ],
      "metadata": {
        "id": "S5hISnImEDCC"
      }
    },
    {
      "cell_type": "code",
      "source": [
        "df.groupby('Outlet_Type')['Outlet_Size'].agg(lambda x: x.isna().sum())"
      ],
      "metadata": {
        "id": "EiHZWd5HcB09",
        "colab": {
          "base_uri": "https://localhost:8080/",
          "height": 241
        },
        "outputId": "2c896bf5-2af5-4fdf-b7d2-10c46fb548f7"
      },
      "execution_count": null,
      "outputs": [
        {
          "output_type": "execute_result",
          "data": {
            "text/plain": [
              "Outlet_Type\n",
              "Grocery Store         555\n",
              "Supermarket Type1    1855\n",
              "Supermarket Type2       0\n",
              "Supermarket Type3       0\n",
              "Name: Outlet_Size, dtype: int64"
            ],
            "text/html": [
              "<div>\n",
              "<style scoped>\n",
              "    .dataframe tbody tr th:only-of-type {\n",
              "        vertical-align: middle;\n",
              "    }\n",
              "\n",
              "    .dataframe tbody tr th {\n",
              "        vertical-align: top;\n",
              "    }\n",
              "\n",
              "    .dataframe thead th {\n",
              "        text-align: right;\n",
              "    }\n",
              "</style>\n",
              "<table border=\"1\" class=\"dataframe\">\n",
              "  <thead>\n",
              "    <tr style=\"text-align: right;\">\n",
              "      <th></th>\n",
              "      <th>Outlet_Size</th>\n",
              "    </tr>\n",
              "    <tr>\n",
              "      <th>Outlet_Type</th>\n",
              "      <th></th>\n",
              "    </tr>\n",
              "  </thead>\n",
              "  <tbody>\n",
              "    <tr>\n",
              "      <th>Grocery Store</th>\n",
              "      <td>555</td>\n",
              "    </tr>\n",
              "    <tr>\n",
              "      <th>Supermarket Type1</th>\n",
              "      <td>1855</td>\n",
              "    </tr>\n",
              "    <tr>\n",
              "      <th>Supermarket Type2</th>\n",
              "      <td>0</td>\n",
              "    </tr>\n",
              "    <tr>\n",
              "      <th>Supermarket Type3</th>\n",
              "      <td>0</td>\n",
              "    </tr>\n",
              "  </tbody>\n",
              "</table>\n",
              "</div><br><label><b>dtype:</b> int64</label>"
            ]
          },
          "metadata": {},
          "execution_count": 40
        }
      ]
    },
    {
      "cell_type": "markdown",
      "source": [
        "##### I valori mancanti sono soltanto nelle categorie `Grocery Store` e `Supermarket Type 1`. Andiamo a vedere quale è la `Outlet_Size` di questa tipologia di negozi"
      ],
      "metadata": {
        "id": "hsFwHOIBcnFu"
      }
    },
    {
      "cell_type": "code",
      "source": [
        "(\n",
        "    df\n",
        "    .loc[df.Outlet_Type.isin(['Grocery Store', 'Supermarket Type1'])] # filtriamo temporaneamente solo gli outlet di questi due tipi\n",
        "    .groupby(['Outlet_Type','Outlet_Size']) # raggruppiamo per Outlet_Type e Outlet_Size\n",
        "    .size() # Contiamo le occorrenze per ciascuna categoria\n",
        ")"
      ],
      "metadata": {
        "id": "FtpQPZ6SckJu",
        "colab": {
          "base_uri": "https://localhost:8080/",
          "height": 241
        },
        "outputId": "c3ed6f35-056a-4d9a-bf25-93b18c07023c"
      },
      "execution_count": null,
      "outputs": [
        {
          "output_type": "execute_result",
          "data": {
            "text/plain": [
              "Outlet_Type        Outlet_Size\n",
              "Grocery Store      Small           528\n",
              "Supermarket Type1  High            932\n",
              "                   Medium          930\n",
              "                   Small          1860\n",
              "dtype: int64"
            ],
            "text/html": [
              "<div>\n",
              "<style scoped>\n",
              "    .dataframe tbody tr th:only-of-type {\n",
              "        vertical-align: middle;\n",
              "    }\n",
              "\n",
              "    .dataframe tbody tr th {\n",
              "        vertical-align: top;\n",
              "    }\n",
              "\n",
              "    .dataframe thead th {\n",
              "        text-align: right;\n",
              "    }\n",
              "</style>\n",
              "<table border=\"1\" class=\"dataframe\">\n",
              "  <thead>\n",
              "    <tr style=\"text-align: right;\">\n",
              "      <th></th>\n",
              "      <th></th>\n",
              "      <th>0</th>\n",
              "    </tr>\n",
              "    <tr>\n",
              "      <th>Outlet_Type</th>\n",
              "      <th>Outlet_Size</th>\n",
              "      <th></th>\n",
              "    </tr>\n",
              "  </thead>\n",
              "  <tbody>\n",
              "    <tr>\n",
              "      <th>Grocery Store</th>\n",
              "      <th>Small</th>\n",
              "      <td>528</td>\n",
              "    </tr>\n",
              "    <tr>\n",
              "      <th rowspan=\"3\" valign=\"top\">Supermarket Type1</th>\n",
              "      <th>High</th>\n",
              "      <td>932</td>\n",
              "    </tr>\n",
              "    <tr>\n",
              "      <th>Medium</th>\n",
              "      <td>930</td>\n",
              "    </tr>\n",
              "    <tr>\n",
              "      <th>Small</th>\n",
              "      <td>1860</td>\n",
              "    </tr>\n",
              "  </tbody>\n",
              "</table>\n",
              "</div><br><label><b>dtype:</b> int64</label>"
            ]
          },
          "metadata": {},
          "execution_count": 41
        }
      ]
    },
    {
      "cell_type": "markdown",
      "source": [
        "##### [Esercizio] Sostituisci i valori mancanti nella colonna `Outlet_Size` con `Small`."
      ],
      "metadata": {
        "id": "IK0atSJy3huH"
      }
    },
    {
      "cell_type": "markdown",
      "source": [
        "Tutti i Grocery_Store e circa la metà dei Supermarket Type 1 sono di size Small, quindi possiamo ragionevolmente sostituire i valori mancanti con Small."
      ],
      "metadata": {
        "id": "Cu73zufCJX2G"
      }
    },
    {
      "cell_type": "code",
      "source": [
        "# inserisci qui il tuo codice\n"
      ],
      "metadata": {
        "id": "hAxCd47ShJva"
      },
      "execution_count": null,
      "outputs": []
    },
    {
      "cell_type": "markdown",
      "source": [
        "**Attenzione**: sostituire i valori mancanti con la *moda* (il valore più frequente) è una **scelta**. In questo caso specifico la scelta è ragionevole da una parte e innocua dall'altra, però non tutte le scelte e non tutti i dati sono equivalenti!\n",
        "\n",
        "Rimanendo nella casistica negozi, possiamo immaginare che un dato tracciabile sia la presenza di [barriere architettoniche](https://it.wikipedia.org/wiki/Barriera_architettonica) nel locale: ipotizzare che un negozio per cui questo dato è mancante non abbia barriere architettoniche solo perché la maggior parte dei negozi non ne ha, potrebbe avere conseguenze concrete per delle persone.\n",
        "\n",
        "Nel lavoro di *data scientist* incontrerai diverse situazioni in cui è importante chiederti se la scelta che stai facendo è innocua oppure no!"
      ],
      "metadata": {
        "id": "nHnyKZemTRq2"
      }
    },
    {
      "cell_type": "markdown",
      "source": [
        "###### Risposta corretta:"
      ],
      "metadata": {
        "id": "vZMJK3yJ3lcR"
      }
    },
    {
      "cell_type": "markdown",
      "source": [
        "`df['Outlet_Size'] = df['Outlet_Size'].fillna('Small')`"
      ],
      "metadata": {
        "id": "q_zLCZMHNGvu"
      }
    },
    {
      "cell_type": "markdown",
      "source": [
        "##### Controlliamo infine che non ci siano più valori mancanti in questa colonna"
      ],
      "metadata": {
        "id": "TXByrhRrhXfm"
      }
    },
    {
      "cell_type": "code",
      "source": [
        "df[df.Outlet_Size.isna()] # ok!"
      ],
      "metadata": {
        "id": "e8qNCzqghY9Y",
        "colab": {
          "base_uri": "https://localhost:8080/",
          "height": 73
        },
        "outputId": "a6aabdb2-b704-41c9-df92-c97a1aa87522"
      },
      "execution_count": null,
      "outputs": [
        {
          "output_type": "execute_result",
          "data": {
            "text/plain": [
              "Empty DataFrame\n",
              "Columns: [Item_Identifier, Item_Weight, Item_Fat_Content, Item_Visibility, Item_Type, Item_MRP, Outlet_Identifier, Outlet_Establishment_Year, Outlet_Size, Outlet_Location_Type, Outlet_Type, Item_Outlet_Sales, Item_Category]\n",
              "Index: []"
            ],
            "text/html": [
              "\n",
              "  <div id=\"df-b6add3f8-2e40-45bd-90b3-ac1277fd57de\" class=\"colab-df-container\">\n",
              "    <div>\n",
              "<style scoped>\n",
              "    .dataframe tbody tr th:only-of-type {\n",
              "        vertical-align: middle;\n",
              "    }\n",
              "\n",
              "    .dataframe tbody tr th {\n",
              "        vertical-align: top;\n",
              "    }\n",
              "\n",
              "    .dataframe thead th {\n",
              "        text-align: right;\n",
              "    }\n",
              "</style>\n",
              "<table border=\"1\" class=\"dataframe\">\n",
              "  <thead>\n",
              "    <tr style=\"text-align: right;\">\n",
              "      <th></th>\n",
              "      <th>Item_Identifier</th>\n",
              "      <th>Item_Weight</th>\n",
              "      <th>Item_Fat_Content</th>\n",
              "      <th>Item_Visibility</th>\n",
              "      <th>Item_Type</th>\n",
              "      <th>Item_MRP</th>\n",
              "      <th>Outlet_Identifier</th>\n",
              "      <th>Outlet_Establishment_Year</th>\n",
              "      <th>Outlet_Size</th>\n",
              "      <th>Outlet_Location_Type</th>\n",
              "      <th>Outlet_Type</th>\n",
              "      <th>Item_Outlet_Sales</th>\n",
              "      <th>Item_Category</th>\n",
              "    </tr>\n",
              "  </thead>\n",
              "  <tbody>\n",
              "  </tbody>\n",
              "</table>\n",
              "</div>\n",
              "    <div class=\"colab-df-buttons\">\n",
              "\n",
              "  <div class=\"colab-df-container\">\n",
              "    <button class=\"colab-df-convert\" onclick=\"convertToInteractive('df-b6add3f8-2e40-45bd-90b3-ac1277fd57de')\"\n",
              "            title=\"Convert this dataframe to an interactive table.\"\n",
              "            style=\"display:none;\">\n",
              "\n",
              "  <svg xmlns=\"http://www.w3.org/2000/svg\" height=\"24px\" viewBox=\"0 -960 960 960\">\n",
              "    <path d=\"M120-120v-720h720v720H120Zm60-500h600v-160H180v160Zm220 220h160v-160H400v160Zm0 220h160v-160H400v160ZM180-400h160v-160H180v160Zm440 0h160v-160H620v160ZM180-180h160v-160H180v160Zm440 0h160v-160H620v160Z\"/>\n",
              "  </svg>\n",
              "    </button>\n",
              "\n",
              "  <style>\n",
              "    .colab-df-container {\n",
              "      display:flex;\n",
              "      gap: 12px;\n",
              "    }\n",
              "\n",
              "    .colab-df-convert {\n",
              "      background-color: #E8F0FE;\n",
              "      border: none;\n",
              "      border-radius: 50%;\n",
              "      cursor: pointer;\n",
              "      display: none;\n",
              "      fill: #1967D2;\n",
              "      height: 32px;\n",
              "      padding: 0 0 0 0;\n",
              "      width: 32px;\n",
              "    }\n",
              "\n",
              "    .colab-df-convert:hover {\n",
              "      background-color: #E2EBFA;\n",
              "      box-shadow: 0px 1px 2px rgba(60, 64, 67, 0.3), 0px 1px 3px 1px rgba(60, 64, 67, 0.15);\n",
              "      fill: #174EA6;\n",
              "    }\n",
              "\n",
              "    .colab-df-buttons div {\n",
              "      margin-bottom: 4px;\n",
              "    }\n",
              "\n",
              "    [theme=dark] .colab-df-convert {\n",
              "      background-color: #3B4455;\n",
              "      fill: #D2E3FC;\n",
              "    }\n",
              "\n",
              "    [theme=dark] .colab-df-convert:hover {\n",
              "      background-color: #434B5C;\n",
              "      box-shadow: 0px 1px 3px 1px rgba(0, 0, 0, 0.15);\n",
              "      filter: drop-shadow(0px 1px 2px rgba(0, 0, 0, 0.3));\n",
              "      fill: #FFFFFF;\n",
              "    }\n",
              "  </style>\n",
              "\n",
              "    <script>\n",
              "      const buttonEl =\n",
              "        document.querySelector('#df-b6add3f8-2e40-45bd-90b3-ac1277fd57de button.colab-df-convert');\n",
              "      buttonEl.style.display =\n",
              "        google.colab.kernel.accessAllowed ? 'block' : 'none';\n",
              "\n",
              "      async function convertToInteractive(key) {\n",
              "        const element = document.querySelector('#df-b6add3f8-2e40-45bd-90b3-ac1277fd57de');\n",
              "        const dataTable =\n",
              "          await google.colab.kernel.invokeFunction('convertToInteractive',\n",
              "                                                    [key], {});\n",
              "        if (!dataTable) return;\n",
              "\n",
              "        const docLinkHtml = 'Like what you see? Visit the ' +\n",
              "          '<a target=\"_blank\" href=https://colab.research.google.com/notebooks/data_table.ipynb>data table notebook</a>'\n",
              "          + ' to learn more about interactive tables.';\n",
              "        element.innerHTML = '';\n",
              "        dataTable['output_type'] = 'display_data';\n",
              "        await google.colab.output.renderOutput(dataTable, element);\n",
              "        const docLink = document.createElement('div');\n",
              "        docLink.innerHTML = docLinkHtml;\n",
              "        element.appendChild(docLink);\n",
              "      }\n",
              "    </script>\n",
              "  </div>\n",
              "\n",
              "\n",
              "    </div>\n",
              "  </div>\n"
            ],
            "application/vnd.google.colaboratory.intrinsic+json": {
              "type": "dataframe",
              "repr_error": "Out of range float values are not JSON compliant: nan"
            }
          },
          "metadata": {},
          "execution_count": 73
        }
      ]
    },
    {
      "cell_type": "markdown",
      "source": [
        "### 3.5 Gestione Missing Values (Colonna  `Item_Visibility`)\n",
        "\n",
        "Nella colonna `Item_Visibility` ci sono alcuni valori non validi (ossia pari a 0). In questo caso consideriamo come valori mancanti gli zeri*.\n",
        "\n",
        "Cerchiamo di capire se i valori mancanti sono *missing at random* oppure riguardano una categoria specifica di outlet o di items.\n",
        "\n",
        "Proviamo a vedere ad esempio se i valori mancanti si concentrano in un determinato outlet.\n",
        "\n",
        "\n",
        "*nota: il fatto che \"0\" corrisponda a un valore mancante è una informazione che si deduce da una documentazione appropriata dei dati. Se non avessimo questa informazione non potremmo sapere che \"0\" corrisponde a un dato mancante e non potremmo fare imputazione di questi dati. Di conseguenza, quei valori pari a \"0\" andrebbero a impattare le statistiche e gli eventuali modelli costruiti sopra a questo dato!"
      ],
      "metadata": {
        "id": "oh_AVJFHir8p"
      }
    },
    {
      "cell_type": "code",
      "source": [
        "(\n",
        "    df\n",
        "    .groupby('Outlet_Identifier')['Item_Visibility']\n",
        "    .agg(lambda x: (x==0).sum())\n",
        ")"
      ],
      "metadata": {
        "id": "oczIDFLhk4mH",
        "colab": {
          "base_uri": "https://localhost:8080/",
          "height": 429
        },
        "outputId": "0dca2b4c-5713-4538-a450-d987de4f70af"
      },
      "execution_count": null,
      "outputs": [
        {
          "output_type": "execute_result",
          "data": {
            "text/plain": [
              "Outlet_Identifier\n",
              "OUT010    29\n",
              "OUT013    59\n",
              "OUT017    57\n",
              "OUT018    65\n",
              "OUT019    30\n",
              "OUT027    60\n",
              "OUT035    54\n",
              "OUT045    58\n",
              "OUT046    61\n",
              "OUT049    53\n",
              "Name: Item_Visibility, dtype: int64"
            ],
            "text/html": [
              "<div>\n",
              "<style scoped>\n",
              "    .dataframe tbody tr th:only-of-type {\n",
              "        vertical-align: middle;\n",
              "    }\n",
              "\n",
              "    .dataframe tbody tr th {\n",
              "        vertical-align: top;\n",
              "    }\n",
              "\n",
              "    .dataframe thead th {\n",
              "        text-align: right;\n",
              "    }\n",
              "</style>\n",
              "<table border=\"1\" class=\"dataframe\">\n",
              "  <thead>\n",
              "    <tr style=\"text-align: right;\">\n",
              "      <th></th>\n",
              "      <th>Item_Visibility</th>\n",
              "    </tr>\n",
              "    <tr>\n",
              "      <th>Outlet_Identifier</th>\n",
              "      <th></th>\n",
              "    </tr>\n",
              "  </thead>\n",
              "  <tbody>\n",
              "    <tr>\n",
              "      <th>OUT010</th>\n",
              "      <td>29</td>\n",
              "    </tr>\n",
              "    <tr>\n",
              "      <th>OUT013</th>\n",
              "      <td>59</td>\n",
              "    </tr>\n",
              "    <tr>\n",
              "      <th>OUT017</th>\n",
              "      <td>57</td>\n",
              "    </tr>\n",
              "    <tr>\n",
              "      <th>OUT018</th>\n",
              "      <td>65</td>\n",
              "    </tr>\n",
              "    <tr>\n",
              "      <th>OUT019</th>\n",
              "      <td>30</td>\n",
              "    </tr>\n",
              "    <tr>\n",
              "      <th>OUT027</th>\n",
              "      <td>60</td>\n",
              "    </tr>\n",
              "    <tr>\n",
              "      <th>OUT035</th>\n",
              "      <td>54</td>\n",
              "    </tr>\n",
              "    <tr>\n",
              "      <th>OUT045</th>\n",
              "      <td>58</td>\n",
              "    </tr>\n",
              "    <tr>\n",
              "      <th>OUT046</th>\n",
              "      <td>61</td>\n",
              "    </tr>\n",
              "    <tr>\n",
              "      <th>OUT049</th>\n",
              "      <td>53</td>\n",
              "    </tr>\n",
              "  </tbody>\n",
              "</table>\n",
              "</div><br><label><b>dtype:</b> int64</label>"
            ]
          },
          "metadata": {},
          "execution_count": 45
        }
      ]
    },
    {
      "cell_type": "markdown",
      "source": [
        "La mancanza dell'informazione sull'`Item_Visibility` non sembra dipendere dall'outlet... Proviamo a vedere se dipende dalla categoria di prodotto"
      ],
      "metadata": {
        "id": "ArcmvIt0oM_L"
      }
    },
    {
      "cell_type": "code",
      "source": [
        "(\n",
        "    df\n",
        "    .groupby('Item_Type')['Item_Visibility']\n",
        "    .agg(lambda x: (x==0).sum())\n",
        ")"
      ],
      "metadata": {
        "id": "mGWvwRxHobD9",
        "colab": {
          "base_uri": "https://localhost:8080/",
          "height": 617
        },
        "outputId": "50f11939-2d3d-4b16-b7a4-42b98d9b8bc7"
      },
      "execution_count": null,
      "outputs": [
        {
          "output_type": "execute_result",
          "data": {
            "text/plain": [
              "Item_Type\n",
              "Baking Goods             45\n",
              "Breads                   17\n",
              "Breakfast                 3\n",
              "Canned                   33\n",
              "Dairy                    38\n",
              "Frozen Foods             51\n",
              "Fruits and Vegetables    87\n",
              "Hard Drinks              17\n",
              "Health and Hygiene       33\n",
              "Household                51\n",
              "Meat                     20\n",
              "Others                   10\n",
              "Seafood                   4\n",
              "Snack Foods              68\n",
              "Soft Drinks              34\n",
              "Starchy Foods            15\n",
              "Name: Item_Visibility, dtype: int64"
            ],
            "text/html": [
              "<div>\n",
              "<style scoped>\n",
              "    .dataframe tbody tr th:only-of-type {\n",
              "        vertical-align: middle;\n",
              "    }\n",
              "\n",
              "    .dataframe tbody tr th {\n",
              "        vertical-align: top;\n",
              "    }\n",
              "\n",
              "    .dataframe thead th {\n",
              "        text-align: right;\n",
              "    }\n",
              "</style>\n",
              "<table border=\"1\" class=\"dataframe\">\n",
              "  <thead>\n",
              "    <tr style=\"text-align: right;\">\n",
              "      <th></th>\n",
              "      <th>Item_Visibility</th>\n",
              "    </tr>\n",
              "    <tr>\n",
              "      <th>Item_Type</th>\n",
              "      <th></th>\n",
              "    </tr>\n",
              "  </thead>\n",
              "  <tbody>\n",
              "    <tr>\n",
              "      <th>Baking Goods</th>\n",
              "      <td>45</td>\n",
              "    </tr>\n",
              "    <tr>\n",
              "      <th>Breads</th>\n",
              "      <td>17</td>\n",
              "    </tr>\n",
              "    <tr>\n",
              "      <th>Breakfast</th>\n",
              "      <td>3</td>\n",
              "    </tr>\n",
              "    <tr>\n",
              "      <th>Canned</th>\n",
              "      <td>33</td>\n",
              "    </tr>\n",
              "    <tr>\n",
              "      <th>Dairy</th>\n",
              "      <td>38</td>\n",
              "    </tr>\n",
              "    <tr>\n",
              "      <th>Frozen Foods</th>\n",
              "      <td>51</td>\n",
              "    </tr>\n",
              "    <tr>\n",
              "      <th>Fruits and Vegetables</th>\n",
              "      <td>87</td>\n",
              "    </tr>\n",
              "    <tr>\n",
              "      <th>Hard Drinks</th>\n",
              "      <td>17</td>\n",
              "    </tr>\n",
              "    <tr>\n",
              "      <th>Health and Hygiene</th>\n",
              "      <td>33</td>\n",
              "    </tr>\n",
              "    <tr>\n",
              "      <th>Household</th>\n",
              "      <td>51</td>\n",
              "    </tr>\n",
              "    <tr>\n",
              "      <th>Meat</th>\n",
              "      <td>20</td>\n",
              "    </tr>\n",
              "    <tr>\n",
              "      <th>Others</th>\n",
              "      <td>10</td>\n",
              "    </tr>\n",
              "    <tr>\n",
              "      <th>Seafood</th>\n",
              "      <td>4</td>\n",
              "    </tr>\n",
              "    <tr>\n",
              "      <th>Snack Foods</th>\n",
              "      <td>68</td>\n",
              "    </tr>\n",
              "    <tr>\n",
              "      <th>Soft Drinks</th>\n",
              "      <td>34</td>\n",
              "    </tr>\n",
              "    <tr>\n",
              "      <th>Starchy Foods</th>\n",
              "      <td>15</td>\n",
              "    </tr>\n",
              "  </tbody>\n",
              "</table>\n",
              "</div><br><label><b>dtype:</b> int64</label>"
            ]
          },
          "metadata": {},
          "execution_count": 46
        }
      ]
    },
    {
      "cell_type": "markdown",
      "source": [
        "Non sembra nemmeno dipendere dal tipo di prodotto... si fa strada l'idea che siano effettivamente *missing at random*. Vediamo come si distribuiscono i valori per decidere se utilizzare la **media** o la **mediana**..."
      ],
      "metadata": {
        "id": "AjcpAuZrpp3M"
      }
    },
    {
      "cell_type": "markdown",
      "source": [
        "##### [Esercizio] Utilizzeresti media o mediana come valore sostitutivo a quelli mancanti? Per rispondere a questa domanda puoi aiutarti con dei grafici (boxplot o istogramma ad esempio)."
      ],
      "metadata": {
        "id": "oy2NC_314tk0"
      }
    },
    {
      "cell_type": "code",
      "source": [
        "# inserisci qui il tuo codice (boxplot)\n"
      ],
      "metadata": {
        "id": "d6hZQpfxq4MV"
      },
      "execution_count": null,
      "outputs": []
    },
    {
      "cell_type": "code",
      "source": [
        "# inserisci qui il tuo codice (istogramma)\n"
      ],
      "metadata": {
        "id": "bLC9cPo1rYev"
      },
      "execution_count": null,
      "outputs": []
    },
    {
      "cell_type": "markdown",
      "source": [
        "> Risposta attesa:\n",
        "è più indicata la mediana, perchè la distribuzione dei valori non è ben \"centrata\", ci sono tanti outliers e la media ne risente più che la mediana."
      ],
      "metadata": {
        "id": "aMbHGhKVs8fx"
      }
    },
    {
      "cell_type": "markdown",
      "source": [
        "###### Risposta corretta:"
      ],
      "metadata": {
        "id": "UXCrXbxp404j"
      }
    },
    {
      "cell_type": "code",
      "source": [
        "# boxplot\n",
        "sns.boxplot(data=df, x='Item_Visibility') # la distribuzione non sembra ben \"centrata\", ci sono molti outliers nella parte destra. La mediana risulta dunque più indicata"
      ],
      "metadata": {
        "colab": {
          "base_uri": "https://localhost:8080/",
          "height": 468
        },
        "id": "z20RX-_U72bN",
        "outputId": "a39f9e95-be74-4ae2-85fe-5fd8e626fa68"
      },
      "execution_count": null,
      "outputs": [
        {
          "output_type": "execute_result",
          "data": {
            "text/plain": [
              "<Axes: xlabel='Item_Visibility'>"
            ]
          },
          "metadata": {},
          "execution_count": 50
        },
        {
          "output_type": "display_data",
          "data": {
            "text/plain": [
              "<Figure size 640x480 with 1 Axes>"
            ],
            "image/png": "[encoded data removed]"
          },
          "metadata": {}
        }
      ]
    },
    {
      "cell_type": "code",
      "source": [
        "# Istogramma\n",
        "fig, ax = plt.subplots()\n",
        "sns.histplot(data=df, x='Item_Visibility', kde=True, ax=ax) # la distribuzione non sembra ben \"centrata\", ha una lunga coda a destra\n",
        "ax.axvline(x=df.Item_Visibility.mean(), color='red')\n",
        "ax.axvline(x=df.Item_Visibility.median(), color='green') # la mediana è più vicina alla regione \"densa\" di questa distribuzione"
      ],
      "metadata": {
        "colab": {
          "base_uri": "https://localhost:8080/",
          "height": 468
        },
        "id": "0nKjKt7O44tf",
        "outputId": "bc733bdf-5f61-4989-e6b9-0c9c65a92e4e"
      },
      "execution_count": null,
      "outputs": [
        {
          "output_type": "execute_result",
          "data": {
            "text/plain": [
              "<matplotlib.lines.Line2D at 0x7f6e670112a0>"
            ]
          },
          "metadata": {},
          "execution_count": 51
        },
        {
          "output_type": "display_data",
          "data": {
            "text/plain": [
              "<Figure size 640x480 with 1 Axes>"
            ],
            "image/png": "[encoded data removed]"
          },
          "metadata": {}
        }
      ]
    },
    {
      "cell_type": "markdown",
      "source": [
        "##### [Esercizio] Sostituisci gli zeri nella colonna `Item_Visibility` con l'indicatore statisco da te scelto"
      ],
      "metadata": {
        "id": "hLS0szsCtcML"
      }
    },
    {
      "cell_type": "code",
      "source": [
        "# inserisci qui il tuo codice (attenzione che non si può utilizzare il metodo fillna perchè i valori da sostituire sono gli zeri: cerca piuttosto come utilizzare il metodo replace)\n"
      ],
      "metadata": {
        "id": "F6T7rLv2teAh"
      },
      "execution_count": null,
      "outputs": []
    },
    {
      "cell_type": "markdown",
      "source": [
        "Controlliamo che non ci siano più valori pari a 0 nella colonna `Item_Visibility`"
      ],
      "metadata": {
        "id": "H3E99RwouKAN"
      }
    },
    {
      "cell_type": "code",
      "source": [
        "df.loc[df.Item_Visibility == 0] # ok!"
      ],
      "metadata": {
        "id": "hDQMZQjguR7J",
        "colab": {
          "base_uri": "https://localhost:8080/",
          "height": 73
        },
        "outputId": "0a1d2c96-e811-47b8-936a-e3bb4fbb298d"
      },
      "execution_count": null,
      "outputs": [
        {
          "output_type": "execute_result",
          "data": {
            "text/plain": [
              "Empty DataFrame\n",
              "Columns: [Item_Identifier, Item_Weight, Item_Fat_Content, Item_Visibility, Item_Type, Item_MRP, Outlet_Identifier, Outlet_Establishment_Year, Outlet_Size, Outlet_Location_Type, Outlet_Type, Item_Outlet_Sales, Item_Category]\n",
              "Index: []"
            ],
            "text/html": [
              "\n",
              "  <div id=\"df-86952a14-ccdc-4868-905f-3f7112781754\" class=\"colab-df-container\">\n",
              "    <div>\n",
              "<style scoped>\n",
              "    .dataframe tbody tr th:only-of-type {\n",
              "        vertical-align: middle;\n",
              "    }\n",
              "\n",
              "    .dataframe tbody tr th {\n",
              "        vertical-align: top;\n",
              "    }\n",
              "\n",
              "    .dataframe thead th {\n",
              "        text-align: right;\n",
              "    }\n",
              "</style>\n",
              "<table border=\"1\" class=\"dataframe\">\n",
              "  <thead>\n",
              "    <tr style=\"text-align: right;\">\n",
              "      <th></th>\n",
              "      <th>Item_Identifier</th>\n",
              "      <th>Item_Weight</th>\n",
              "      <th>Item_Fat_Content</th>\n",
              "      <th>Item_Visibility</th>\n",
              "      <th>Item_Type</th>\n",
              "      <th>Item_MRP</th>\n",
              "      <th>Outlet_Identifier</th>\n",
              "      <th>Outlet_Establishment_Year</th>\n",
              "      <th>Outlet_Size</th>\n",
              "      <th>Outlet_Location_Type</th>\n",
              "      <th>Outlet_Type</th>\n",
              "      <th>Item_Outlet_Sales</th>\n",
              "      <th>Item_Category</th>\n",
              "    </tr>\n",
              "  </thead>\n",
              "  <tbody>\n",
              "  </tbody>\n",
              "</table>\n",
              "</div>\n",
              "    <div class=\"colab-df-buttons\">\n",
              "\n",
              "  <div class=\"colab-df-container\">\n",
              "    <button class=\"colab-df-convert\" onclick=\"convertToInteractive('df-86952a14-ccdc-4868-905f-3f7112781754')\"\n",
              "            title=\"Convert this dataframe to an interactive table.\"\n",
              "            style=\"display:none;\">\n",
              "\n",
              "  <svg xmlns=\"http://www.w3.org/2000/svg\" height=\"24px\" viewBox=\"0 -960 960 960\">\n",
              "    <path d=\"M120-120v-720h720v720H120Zm60-500h600v-160H180v160Zm220 220h160v-160H400v160Zm0 220h160v-160H400v160ZM180-400h160v-160H180v160Zm440 0h160v-160H620v160ZM180-180h160v-160H180v160Zm440 0h160v-160H620v160Z\"/>\n",
              "  </svg>\n",
              "    </button>\n",
              "\n",
              "  <style>\n",
              "    .colab-df-container {\n",
              "      display:flex;\n",
              "      gap: 12px;\n",
              "    }\n",
              "\n",
              "    .colab-df-convert {\n",
              "      background-color: #E8F0FE;\n",
              "      border: none;\n",
              "      border-radius: 50%;\n",
              "      cursor: pointer;\n",
              "      display: none;\n",
              "      fill: #1967D2;\n",
              "      height: 32px;\n",
              "      padding: 0 0 0 0;\n",
              "      width: 32px;\n",
              "    }\n",
              "\n",
              "    .colab-df-convert:hover {\n",
              "      background-color: #E2EBFA;\n",
              "      box-shadow: 0px 1px 2px rgba(60, 64, 67, 0.3), 0px 1px 3px 1px rgba(60, 64, 67, 0.15);\n",
              "      fill: #174EA6;\n",
              "    }\n",
              "\n",
              "    .colab-df-buttons div {\n",
              "      margin-bottom: 4px;\n",
              "    }\n",
              "\n",
              "    [theme=dark] .colab-df-convert {\n",
              "      background-color: #3B4455;\n",
              "      fill: #D2E3FC;\n",
              "    }\n",
              "\n",
              "    [theme=dark] .colab-df-convert:hover {\n",
              "      background-color: #434B5C;\n",
              "      box-shadow: 0px 1px 3px 1px rgba(0, 0, 0, 0.15);\n",
              "      filter: drop-shadow(0px 1px 2px rgba(0, 0, 0, 0.3));\n",
              "      fill: #FFFFFF;\n",
              "    }\n",
              "  </style>\n",
              "\n",
              "    <script>\n",
              "      const buttonEl =\n",
              "        document.querySelector('#df-86952a14-ccdc-4868-905f-3f7112781754 button.colab-df-convert');\n",
              "      buttonEl.style.display =\n",
              "        google.colab.kernel.accessAllowed ? 'block' : 'none';\n",
              "\n",
              "      async function convertToInteractive(key) {\n",
              "        const element = document.querySelector('#df-86952a14-ccdc-4868-905f-3f7112781754');\n",
              "        const dataTable =\n",
              "          await google.colab.kernel.invokeFunction('convertToInteractive',\n",
              "                                                    [key], {});\n",
              "        if (!dataTable) return;\n",
              "\n",
              "        const docLinkHtml = 'Like what you see? Visit the ' +\n",
              "          '<a target=\"_blank\" href=https://colab.research.google.com/notebooks/data_table.ipynb>data table notebook</a>'\n",
              "          + ' to learn more about interactive tables.';\n",
              "        element.innerHTML = '';\n",
              "        dataTable['output_type'] = 'display_data';\n",
              "        await google.colab.output.renderOutput(dataTable, element);\n",
              "        const docLink = document.createElement('div');\n",
              "        docLink.innerHTML = docLinkHtml;\n",
              "        element.appendChild(docLink);\n",
              "      }\n",
              "    </script>\n",
              "  </div>\n",
              "\n",
              "\n",
              "    </div>\n",
              "  </div>\n"
            ],
            "application/vnd.google.colaboratory.intrinsic+json": {
              "type": "dataframe",
              "repr_error": "Out of range float values are not JSON compliant: nan"
            }
          },
          "metadata": {},
          "execution_count": 71
        }
      ]
    },
    {
      "cell_type": "markdown",
      "source": [
        "###### Risposta corretta:"
      ],
      "metadata": {
        "id": "6q2QILks5N31"
      }
    },
    {
      "cell_type": "markdown",
      "source": [
        "`df.replace({'Item_Visibility': {0: df.Item_Visibility.median()}}, inplace=True)`"
      ],
      "metadata": {
        "id": "mcLGjlP6NR2b"
      }
    },
    {
      "cell_type": "markdown",
      "source": [
        "## 4. Data Visualization"
      ],
      "metadata": {
        "id": "2AziZm9_waCn"
      }
    },
    {
      "cell_type": "markdown",
      "source": [
        "Ora che abbiamo i dati puliti e in ordine possiamo concentrarci sul nostro obiettivo finale, ossia predirre il numero di prodotti venduti.\n",
        "\n",
        "Aiutiamoci con qualche grafico per avere una prima idea \"ad occhio\" di quali variabili saranno più importanti per il modello."
      ],
      "metadata": {
        "id": "TgZSwGimwe9j"
      }
    },
    {
      "cell_type": "markdown",
      "metadata": {
        "id": "vXMdyAoeXK2z"
      },
      "source": [
        "\n",
        "##### [Esercizio] 4.1  ci sono tipologie di prodotto (`Item_Type`) che vendono più di altre?"
      ]
    },
    {
      "cell_type": "code",
      "metadata": {
        "id": "-bJcvJ7_Vp-Q"
      },
      "source": [
        "# inserisci il tuo codice qui (suggerimento prova con un boxplot o un barplot)\n"
      ],
      "execution_count": null,
      "outputs": []
    },
    {
      "cell_type": "markdown",
      "source": [
        "> Risposta attesa:\n",
        "Non sembrano esserci grandissime differenze nel numero di unità vendute in base alla sola tipologia di prodotto.\n"
      ],
      "metadata": {
        "id": "vYMFnjMoykDh"
      }
    },
    {
      "cell_type": "markdown",
      "source": [
        "###### Risposta corretta:"
      ],
      "metadata": {
        "id": "-CGOsfqH51do"
      }
    },
    {
      "cell_type": "code",
      "source": [
        "sns.boxplot(y='Item_Type', x='Item_Outlet_Sales', data=df);"
      ],
      "metadata": {
        "colab": {
          "base_uri": "https://localhost:8080/",
          "height": 450
        },
        "id": "VK3KHQ4A53Ks",
        "outputId": "3abd4713-3d3c-48bc-bfa7-b8792ee6e7d0"
      },
      "execution_count": null,
      "outputs": [
        {
          "output_type": "display_data",
          "data": {
            "text/plain": [
              "<Figure size 640x480 with 1 Axes>"
            ],
            "image/png": "[encoded data removed]"
          },
          "metadata": {}
        }
      ]
    },
    {
      "cell_type": "markdown",
      "source": [
        "##### [Esercizio] 4.2 ci sono `Outlet_Type` dove si vende più che in altri?"
      ],
      "metadata": {
        "id": "WRMWzRjZ5wx3"
      }
    },
    {
      "cell_type": "code",
      "source": [
        "# inserisci il tuo codice qui (suggerimento prova con un boxplot o un barplot o una pie chart)\n"
      ],
      "metadata": {
        "id": "diI6aLj-zp0f"
      },
      "execution_count": null,
      "outputs": []
    },
    {
      "cell_type": "markdown",
      "source": [
        "> Risposta attesa:\n",
        "I supermarket, specialmente quelli di tipo 3, vendono più dei Grocery Store."
      ],
      "metadata": {
        "id": "jj6541n2I5tB"
      }
    },
    {
      "cell_type": "markdown",
      "source": [
        "###### Risposta corretta:"
      ],
      "metadata": {
        "id": "6lwL0IZT5-Wc"
      }
    },
    {
      "cell_type": "code",
      "source": [
        "sns.barplot(y='Outlet_Type', x='Item_Outlet_Sales', data=df);"
      ],
      "metadata": {
        "colab": {
          "base_uri": "https://localhost:8080/",
          "height": 450
        },
        "id": "6-VQziIu5_2F",
        "outputId": "0e1bf5b4-e513-48f2-bade-48550de90695"
      },
      "execution_count": null,
      "outputs": [
        {
          "output_type": "display_data",
          "data": {
            "text/plain": [
              "<Figure size 640x480 with 1 Axes>"
            ],
            "image/png": "[encoded data removed]"
          },
          "metadata": {}
        }
      ]
    },
    {
      "cell_type": "markdown",
      "source": [
        "##### [Esercizio] 4.3 La `Item_Visibility` ha impatto sul numero di unità vendute?"
      ],
      "metadata": {
        "id": "KdAE5rcO565H"
      }
    },
    {
      "cell_type": "code",
      "source": [
        "# inserisci il tuo codice qui (suggerimento prova con uno scatterplot)\n"
      ],
      "metadata": {
        "id": "D8x0TQZmJmb7"
      },
      "execution_count": null,
      "outputs": []
    },
    {
      "cell_type": "markdown",
      "source": [
        "> Risposta attesa:\n",
        "Paradossalmente i prodotti chon più alta visibilità hanno un volume di venduto più basso di quella a bassa visibilità..."
      ],
      "metadata": {
        "id": "TVlZv0LPKSab"
      }
    },
    {
      "cell_type": "markdown",
      "source": [
        "###### Risposta corretta:"
      ],
      "metadata": {
        "id": "GSPZDoEL6CmM"
      }
    },
    {
      "cell_type": "code",
      "source": [
        "sns.scatterplot(y='Item_Outlet_Sales', x='Item_Visibility', data=df, hue='Item_Category')"
      ],
      "metadata": {
        "colab": {
          "base_uri": "https://localhost:8080/",
          "height": 468
        },
        "id": "xb5jBgzd6EiI",
        "outputId": "fd2a76e7-c612-45f9-ff05-2503fd4fd512"
      },
      "execution_count": null,
      "outputs": [
        {
          "output_type": "execute_result",
          "data": {
            "text/plain": [
              "<Axes: xlabel='Item_Visibility', ylabel='Item_Outlet_Sales'>"
            ]
          },
          "metadata": {},
          "execution_count": 60
        },
        {
          "output_type": "display_data",
          "data": {
            "text/plain": [
              "<Figure size 640x480 with 1 Axes>"
            ],
            "image/png": "[encoded data removed]"
          },
          "metadata": {}
        }
      ]
    },
    {
      "cell_type": "markdown",
      "source": [
        "##### **Complimenti hai completato il tutorial! Ora puoi sbizzarrirti liberamente! Crea nuovi grafici, approfondisci l'analisi dati, lancia un modello di Machine Learning, ...!**\n"
      ],
      "metadata": {
        "id": "dS9Im7GqQA9M"
      }
    },
    {
      "cell_type": "code",
      "source": [
        "# inserisci il tuo codice qui"
      ],
      "metadata": {
        "id": "5adwyA1XQqBG"
      },
      "execution_count": null,
      "outputs": []
    }
  ]
}